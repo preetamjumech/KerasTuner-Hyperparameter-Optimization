{
  "nbformat": 4,
  "nbformat_minor": 0,
  "metadata": {
    "colab": {
      "provenance": [],
      "gpuType": "T4"
    },
    "kernelspec": {
      "name": "python3",
      "display_name": "Python 3"
    },
    "language_info": {
      "name": "python"
    },
    "accelerator": "GPU"
  },
  "cells": [
    {
      "cell_type": "markdown",
      "source": [
        "# https://keras.io/keras_tuner/"
      ],
      "metadata": {
        "id": "WQKSOR1YlUQp"
      }
    },
    {
      "cell_type": "code",
      "source": [
        "import numpy as np\n",
        "import pandas as pd"
      ],
      "metadata": {
        "id": "4Ic9FJvOlVgN"
      },
      "execution_count": 1,
      "outputs": []
    },
    {
      "cell_type": "code",
      "source": [
        "df = pd.read_csv(\"diabetes.csv\")\n",
        "df.head()"
      ],
      "metadata": {
        "colab": {
          "base_uri": "https://localhost:8080/",
          "height": 206
        },
        "id": "N-vmyTmilZbe",
        "outputId": "deaa6a75-3ee3-42e7-fb64-24610a55b038"
      },
      "execution_count": 2,
      "outputs": [
        {
          "output_type": "execute_result",
          "data": {
            "text/plain": [
              "   Pregnancies  Glucose  BloodPressure  SkinThickness  Insulin   BMI  \\\n",
              "0            6      148             72             35        0  33.6   \n",
              "1            1       85             66             29        0  26.6   \n",
              "2            8      183             64              0        0  23.3   \n",
              "3            1       89             66             23       94  28.1   \n",
              "4            0      137             40             35      168  43.1   \n",
              "\n",
              "   DiabetesPedigreeFunction  Age  Outcome  \n",
              "0                     0.627   50        1  \n",
              "1                     0.351   31        0  \n",
              "2                     0.672   32        1  \n",
              "3                     0.167   21        0  \n",
              "4                     2.288   33        1  "
            ],
            "text/html": [
              "\n",
              "  <div id=\"df-410c8982-f4de-4584-9da2-1f3283b0ff9c\" class=\"colab-df-container\">\n",
              "    <div>\n",
              "<style scoped>\n",
              "    .dataframe tbody tr th:only-of-type {\n",
              "        vertical-align: middle;\n",
              "    }\n",
              "\n",
              "    .dataframe tbody tr th {\n",
              "        vertical-align: top;\n",
              "    }\n",
              "\n",
              "    .dataframe thead th {\n",
              "        text-align: right;\n",
              "    }\n",
              "</style>\n",
              "<table border=\"1\" class=\"dataframe\">\n",
              "  <thead>\n",
              "    <tr style=\"text-align: right;\">\n",
              "      <th></th>\n",
              "      <th>Pregnancies</th>\n",
              "      <th>Glucose</th>\n",
              "      <th>BloodPressure</th>\n",
              "      <th>SkinThickness</th>\n",
              "      <th>Insulin</th>\n",
              "      <th>BMI</th>\n",
              "      <th>DiabetesPedigreeFunction</th>\n",
              "      <th>Age</th>\n",
              "      <th>Outcome</th>\n",
              "    </tr>\n",
              "  </thead>\n",
              "  <tbody>\n",
              "    <tr>\n",
              "      <th>0</th>\n",
              "      <td>6</td>\n",
              "      <td>148</td>\n",
              "      <td>72</td>\n",
              "      <td>35</td>\n",
              "      <td>0</td>\n",
              "      <td>33.6</td>\n",
              "      <td>0.627</td>\n",
              "      <td>50</td>\n",
              "      <td>1</td>\n",
              "    </tr>\n",
              "    <tr>\n",
              "      <th>1</th>\n",
              "      <td>1</td>\n",
              "      <td>85</td>\n",
              "      <td>66</td>\n",
              "      <td>29</td>\n",
              "      <td>0</td>\n",
              "      <td>26.6</td>\n",
              "      <td>0.351</td>\n",
              "      <td>31</td>\n",
              "      <td>0</td>\n",
              "    </tr>\n",
              "    <tr>\n",
              "      <th>2</th>\n",
              "      <td>8</td>\n",
              "      <td>183</td>\n",
              "      <td>64</td>\n",
              "      <td>0</td>\n",
              "      <td>0</td>\n",
              "      <td>23.3</td>\n",
              "      <td>0.672</td>\n",
              "      <td>32</td>\n",
              "      <td>1</td>\n",
              "    </tr>\n",
              "    <tr>\n",
              "      <th>3</th>\n",
              "      <td>1</td>\n",
              "      <td>89</td>\n",
              "      <td>66</td>\n",
              "      <td>23</td>\n",
              "      <td>94</td>\n",
              "      <td>28.1</td>\n",
              "      <td>0.167</td>\n",
              "      <td>21</td>\n",
              "      <td>0</td>\n",
              "    </tr>\n",
              "    <tr>\n",
              "      <th>4</th>\n",
              "      <td>0</td>\n",
              "      <td>137</td>\n",
              "      <td>40</td>\n",
              "      <td>35</td>\n",
              "      <td>168</td>\n",
              "      <td>43.1</td>\n",
              "      <td>2.288</td>\n",
              "      <td>33</td>\n",
              "      <td>1</td>\n",
              "    </tr>\n",
              "  </tbody>\n",
              "</table>\n",
              "</div>\n",
              "    <div class=\"colab-df-buttons\">\n",
              "\n",
              "  <div class=\"colab-df-container\">\n",
              "    <button class=\"colab-df-convert\" onclick=\"convertToInteractive('df-410c8982-f4de-4584-9da2-1f3283b0ff9c')\"\n",
              "            title=\"Convert this dataframe to an interactive table.\"\n",
              "            style=\"display:none;\">\n",
              "\n",
              "  <svg xmlns=\"http://www.w3.org/2000/svg\" height=\"24px\" viewBox=\"0 -960 960 960\">\n",
              "    <path d=\"M120-120v-720h720v720H120Zm60-500h600v-160H180v160Zm220 220h160v-160H400v160Zm0 220h160v-160H400v160ZM180-400h160v-160H180v160Zm440 0h160v-160H620v160ZM180-180h160v-160H180v160Zm440 0h160v-160H620v160Z\"/>\n",
              "  </svg>\n",
              "    </button>\n",
              "\n",
              "  <style>\n",
              "    .colab-df-container {\n",
              "      display:flex;\n",
              "      gap: 12px;\n",
              "    }\n",
              "\n",
              "    .colab-df-convert {\n",
              "      background-color: #E8F0FE;\n",
              "      border: none;\n",
              "      border-radius: 50%;\n",
              "      cursor: pointer;\n",
              "      display: none;\n",
              "      fill: #1967D2;\n",
              "      height: 32px;\n",
              "      padding: 0 0 0 0;\n",
              "      width: 32px;\n",
              "    }\n",
              "\n",
              "    .colab-df-convert:hover {\n",
              "      background-color: #E2EBFA;\n",
              "      box-shadow: 0px 1px 2px rgba(60, 64, 67, 0.3), 0px 1px 3px 1px rgba(60, 64, 67, 0.15);\n",
              "      fill: #174EA6;\n",
              "    }\n",
              "\n",
              "    .colab-df-buttons div {\n",
              "      margin-bottom: 4px;\n",
              "    }\n",
              "\n",
              "    [theme=dark] .colab-df-convert {\n",
              "      background-color: #3B4455;\n",
              "      fill: #D2E3FC;\n",
              "    }\n",
              "\n",
              "    [theme=dark] .colab-df-convert:hover {\n",
              "      background-color: #434B5C;\n",
              "      box-shadow: 0px 1px 3px 1px rgba(0, 0, 0, 0.15);\n",
              "      filter: drop-shadow(0px 1px 2px rgba(0, 0, 0, 0.3));\n",
              "      fill: #FFFFFF;\n",
              "    }\n",
              "  </style>\n",
              "\n",
              "    <script>\n",
              "      const buttonEl =\n",
              "        document.querySelector('#df-410c8982-f4de-4584-9da2-1f3283b0ff9c button.colab-df-convert');\n",
              "      buttonEl.style.display =\n",
              "        google.colab.kernel.accessAllowed ? 'block' : 'none';\n",
              "\n",
              "      async function convertToInteractive(key) {\n",
              "        const element = document.querySelector('#df-410c8982-f4de-4584-9da2-1f3283b0ff9c');\n",
              "        const dataTable =\n",
              "          await google.colab.kernel.invokeFunction('convertToInteractive',\n",
              "                                                    [key], {});\n",
              "        if (!dataTable) return;\n",
              "\n",
              "        const docLinkHtml = 'Like what you see? Visit the ' +\n",
              "          '<a target=\"_blank\" href=https://colab.research.google.com/notebooks/data_table.ipynb>data table notebook</a>'\n",
              "          + ' to learn more about interactive tables.';\n",
              "        element.innerHTML = '';\n",
              "        dataTable['output_type'] = 'display_data';\n",
              "        await google.colab.output.renderOutput(dataTable, element);\n",
              "        const docLink = document.createElement('div');\n",
              "        docLink.innerHTML = docLinkHtml;\n",
              "        element.appendChild(docLink);\n",
              "      }\n",
              "    </script>\n",
              "  </div>\n",
              "\n",
              "\n",
              "<div id=\"df-4c7b8c00-3ced-425a-bc82-a172c342f4c9\">\n",
              "  <button class=\"colab-df-quickchart\" onclick=\"quickchart('df-4c7b8c00-3ced-425a-bc82-a172c342f4c9')\"\n",
              "            title=\"Suggest charts\"\n",
              "            style=\"display:none;\">\n",
              "\n",
              "<svg xmlns=\"http://www.w3.org/2000/svg\" height=\"24px\"viewBox=\"0 0 24 24\"\n",
              "     width=\"24px\">\n",
              "    <g>\n",
              "        <path d=\"M19 3H5c-1.1 0-2 .9-2 2v14c0 1.1.9 2 2 2h14c1.1 0 2-.9 2-2V5c0-1.1-.9-2-2-2zM9 17H7v-7h2v7zm4 0h-2V7h2v10zm4 0h-2v-4h2v4z\"/>\n",
              "    </g>\n",
              "</svg>\n",
              "  </button>\n",
              "\n",
              "<style>\n",
              "  .colab-df-quickchart {\n",
              "      --bg-color: #E8F0FE;\n",
              "      --fill-color: #1967D2;\n",
              "      --hover-bg-color: #E2EBFA;\n",
              "      --hover-fill-color: #174EA6;\n",
              "      --disabled-fill-color: #AAA;\n",
              "      --disabled-bg-color: #DDD;\n",
              "  }\n",
              "\n",
              "  [theme=dark] .colab-df-quickchart {\n",
              "      --bg-color: #3B4455;\n",
              "      --fill-color: #D2E3FC;\n",
              "      --hover-bg-color: #434B5C;\n",
              "      --hover-fill-color: #FFFFFF;\n",
              "      --disabled-bg-color: #3B4455;\n",
              "      --disabled-fill-color: #666;\n",
              "  }\n",
              "\n",
              "  .colab-df-quickchart {\n",
              "    background-color: var(--bg-color);\n",
              "    border: none;\n",
              "    border-radius: 50%;\n",
              "    cursor: pointer;\n",
              "    display: none;\n",
              "    fill: var(--fill-color);\n",
              "    height: 32px;\n",
              "    padding: 0;\n",
              "    width: 32px;\n",
              "  }\n",
              "\n",
              "  .colab-df-quickchart:hover {\n",
              "    background-color: var(--hover-bg-color);\n",
              "    box-shadow: 0 1px 2px rgba(60, 64, 67, 0.3), 0 1px 3px 1px rgba(60, 64, 67, 0.15);\n",
              "    fill: var(--button-hover-fill-color);\n",
              "  }\n",
              "\n",
              "  .colab-df-quickchart-complete:disabled,\n",
              "  .colab-df-quickchart-complete:disabled:hover {\n",
              "    background-color: var(--disabled-bg-color);\n",
              "    fill: var(--disabled-fill-color);\n",
              "    box-shadow: none;\n",
              "  }\n",
              "\n",
              "  .colab-df-spinner {\n",
              "    border: 2px solid var(--fill-color);\n",
              "    border-color: transparent;\n",
              "    border-bottom-color: var(--fill-color);\n",
              "    animation:\n",
              "      spin 1s steps(1) infinite;\n",
              "  }\n",
              "\n",
              "  @keyframes spin {\n",
              "    0% {\n",
              "      border-color: transparent;\n",
              "      border-bottom-color: var(--fill-color);\n",
              "      border-left-color: var(--fill-color);\n",
              "    }\n",
              "    20% {\n",
              "      border-color: transparent;\n",
              "      border-left-color: var(--fill-color);\n",
              "      border-top-color: var(--fill-color);\n",
              "    }\n",
              "    30% {\n",
              "      border-color: transparent;\n",
              "      border-left-color: var(--fill-color);\n",
              "      border-top-color: var(--fill-color);\n",
              "      border-right-color: var(--fill-color);\n",
              "    }\n",
              "    40% {\n",
              "      border-color: transparent;\n",
              "      border-right-color: var(--fill-color);\n",
              "      border-top-color: var(--fill-color);\n",
              "    }\n",
              "    60% {\n",
              "      border-color: transparent;\n",
              "      border-right-color: var(--fill-color);\n",
              "    }\n",
              "    80% {\n",
              "      border-color: transparent;\n",
              "      border-right-color: var(--fill-color);\n",
              "      border-bottom-color: var(--fill-color);\n",
              "    }\n",
              "    90% {\n",
              "      border-color: transparent;\n",
              "      border-bottom-color: var(--fill-color);\n",
              "    }\n",
              "  }\n",
              "</style>\n",
              "\n",
              "  <script>\n",
              "    async function quickchart(key) {\n",
              "      const quickchartButtonEl =\n",
              "        document.querySelector('#' + key + ' button');\n",
              "      quickchartButtonEl.disabled = true;  // To prevent multiple clicks.\n",
              "      quickchartButtonEl.classList.add('colab-df-spinner');\n",
              "      try {\n",
              "        const charts = await google.colab.kernel.invokeFunction(\n",
              "            'suggestCharts', [key], {});\n",
              "      } catch (error) {\n",
              "        console.error('Error during call to suggestCharts:', error);\n",
              "      }\n",
              "      quickchartButtonEl.classList.remove('colab-df-spinner');\n",
              "      quickchartButtonEl.classList.add('colab-df-quickchart-complete');\n",
              "    }\n",
              "    (() => {\n",
              "      let quickchartButtonEl =\n",
              "        document.querySelector('#df-4c7b8c00-3ced-425a-bc82-a172c342f4c9 button');\n",
              "      quickchartButtonEl.style.display =\n",
              "        google.colab.kernel.accessAllowed ? 'block' : 'none';\n",
              "    })();\n",
              "  </script>\n",
              "</div>\n",
              "\n",
              "    </div>\n",
              "  </div>\n"
            ]
          },
          "metadata": {},
          "execution_count": 2
        }
      ]
    },
    {
      "cell_type": "code",
      "source": [
        "df.duplicated().sum()"
      ],
      "metadata": {
        "colab": {
          "base_uri": "https://localhost:8080/"
        },
        "id": "I3GVPNg8mXq2",
        "outputId": "c6877caa-d1b2-4ad5-b096-4b59d57ca7f6"
      },
      "execution_count": 3,
      "outputs": [
        {
          "output_type": "execute_result",
          "data": {
            "text/plain": [
              "0"
            ]
          },
          "metadata": {},
          "execution_count": 3
        }
      ]
    },
    {
      "cell_type": "code",
      "source": [
        "df.isnull().sum()"
      ],
      "metadata": {
        "colab": {
          "base_uri": "https://localhost:8080/"
        },
        "id": "XqVke47jmZ1U",
        "outputId": "e730f0ed-3d3d-4b00-c10b-cfc49f9e18a4"
      },
      "execution_count": 4,
      "outputs": [
        {
          "output_type": "execute_result",
          "data": {
            "text/plain": [
              "Pregnancies                 0\n",
              "Glucose                     0\n",
              "BloodPressure               0\n",
              "SkinThickness               0\n",
              "Insulin                     0\n",
              "BMI                         0\n",
              "DiabetesPedigreeFunction    0\n",
              "Age                         0\n",
              "Outcome                     0\n",
              "dtype: int64"
            ]
          },
          "metadata": {},
          "execution_count": 4
        }
      ]
    },
    {
      "cell_type": "code",
      "source": [
        "df.corr()[\"Outcome\"]"
      ],
      "metadata": {
        "colab": {
          "base_uri": "https://localhost:8080/"
        },
        "id": "6xxlX-otmcCG",
        "outputId": "9386b597-52f0-4d01-f01b-06b541cfea1a"
      },
      "execution_count": 5,
      "outputs": [
        {
          "output_type": "execute_result",
          "data": {
            "text/plain": [
              "Pregnancies                 0.221898\n",
              "Glucose                     0.466581\n",
              "BloodPressure               0.065068\n",
              "SkinThickness               0.074752\n",
              "Insulin                     0.130548\n",
              "BMI                         0.292695\n",
              "DiabetesPedigreeFunction    0.173844\n",
              "Age                         0.238356\n",
              "Outcome                     1.000000\n",
              "Name: Outcome, dtype: float64"
            ]
          },
          "metadata": {},
          "execution_count": 5
        }
      ]
    },
    {
      "cell_type": "code",
      "source": [
        "X = df.iloc[:,:-1]\n",
        "y = df.iloc[:,-1]"
      ],
      "metadata": {
        "id": "geqpVBozmeko"
      },
      "execution_count": 6,
      "outputs": []
    },
    {
      "cell_type": "code",
      "source": [
        "from sklearn.preprocessing import StandardScaler\n",
        "scaler = StandardScaler()"
      ],
      "metadata": {
        "id": "HZbRwiGmmxm3"
      },
      "execution_count": 7,
      "outputs": []
    },
    {
      "cell_type": "code",
      "source": [
        "X = scaler.fit_transform(X)"
      ],
      "metadata": {
        "id": "ULMUTu67m008"
      },
      "execution_count": 8,
      "outputs": []
    },
    {
      "cell_type": "code",
      "source": [
        "from sklearn.model_selection import train_test_split\n",
        "X_train,X_test,y_train,y_test = train_test_split(X,y,test_size=0.2,random_state=1)"
      ],
      "metadata": {
        "id": "4sS3txn1m3TC"
      },
      "execution_count": 9,
      "outputs": []
    },
    {
      "cell_type": "code",
      "source": [
        "import tensorflow\n",
        "from tensorflow import keras\n",
        "from keras import Sequential\n",
        "from keras import layers\n",
        "from keras.layers import Dense, Dropout"
      ],
      "metadata": {
        "id": "58gsvpOpm5sQ"
      },
      "execution_count": 42,
      "outputs": []
    },
    {
      "cell_type": "code",
      "source": [
        "model = Sequential()\n",
        "model.add(Dense(32, input_dim = 8, activation = \"relu\"))\n",
        "model.add(Dense(1, activation = \"sigmoid\"))\n",
        "\n",
        "model.compile(optimizer = \"Adam\", loss = \"binary_crossentropy\", metrics = [\"accuracy\"])"
      ],
      "metadata": {
        "id": "r8_BNqngn4nB"
      },
      "execution_count": 11,
      "outputs": []
    },
    {
      "cell_type": "code",
      "source": [
        "model.fit(X_train,y_train, epochs = 100, batch_size = 32, validation_data = (X_test, y_test))"
      ],
      "metadata": {
        "colab": {
          "base_uri": "https://localhost:8080/"
        },
        "id": "-QADLukUpoHw",
        "outputId": "f5cbe4cb-b277-494c-b417-011e057363b3"
      },
      "execution_count": 12,
      "outputs": [
        {
          "output_type": "stream",
          "name": "stdout",
          "text": [
            "Epoch 1/100\n",
            "20/20 [==============================] - 1s 15ms/step - loss: 0.8252 - accuracy: 0.3697 - val_loss: 0.7488 - val_accuracy: 0.4156\n",
            "Epoch 2/100\n",
            "20/20 [==============================] - 0s 5ms/step - loss: 0.7350 - accuracy: 0.4707 - val_loss: 0.6831 - val_accuracy: 0.6299\n",
            "Epoch 3/100\n",
            "20/20 [==============================] - 0s 13ms/step - loss: 0.6688 - accuracy: 0.6254 - val_loss: 0.6368 - val_accuracy: 0.6688\n",
            "Epoch 4/100\n",
            "20/20 [==============================] - 0s 7ms/step - loss: 0.6229 - accuracy: 0.6547 - val_loss: 0.6020 - val_accuracy: 0.6883\n",
            "Epoch 5/100\n",
            "20/20 [==============================] - 0s 7ms/step - loss: 0.5867 - accuracy: 0.6922 - val_loss: 0.5747 - val_accuracy: 0.7338\n",
            "Epoch 6/100\n",
            "20/20 [==============================] - 0s 8ms/step - loss: 0.5607 - accuracy: 0.7117 - val_loss: 0.5568 - val_accuracy: 0.7338\n",
            "Epoch 7/100\n",
            "20/20 [==============================] - 0s 12ms/step - loss: 0.5402 - accuracy: 0.7296 - val_loss: 0.5391 - val_accuracy: 0.7727\n",
            "Epoch 8/100\n",
            "20/20 [==============================] - 0s 7ms/step - loss: 0.5232 - accuracy: 0.7443 - val_loss: 0.5260 - val_accuracy: 0.7792\n",
            "Epoch 9/100\n",
            "20/20 [==============================] - 0s 9ms/step - loss: 0.5103 - accuracy: 0.7508 - val_loss: 0.5141 - val_accuracy: 0.7792\n",
            "Epoch 10/100\n",
            "20/20 [==============================] - 0s 10ms/step - loss: 0.4986 - accuracy: 0.7573 - val_loss: 0.5056 - val_accuracy: 0.7987\n",
            "Epoch 11/100\n",
            "20/20 [==============================] - 0s 12ms/step - loss: 0.4898 - accuracy: 0.7720 - val_loss: 0.4998 - val_accuracy: 0.8117\n",
            "Epoch 12/100\n",
            "20/20 [==============================] - 0s 16ms/step - loss: 0.4826 - accuracy: 0.7736 - val_loss: 0.4935 - val_accuracy: 0.8117\n",
            "Epoch 13/100\n",
            "20/20 [==============================] - 0s 13ms/step - loss: 0.4761 - accuracy: 0.7769 - val_loss: 0.4895 - val_accuracy: 0.7987\n",
            "Epoch 14/100\n",
            "20/20 [==============================] - 0s 14ms/step - loss: 0.4717 - accuracy: 0.7834 - val_loss: 0.4849 - val_accuracy: 0.7987\n",
            "Epoch 15/100\n",
            "20/20 [==============================] - 0s 16ms/step - loss: 0.4674 - accuracy: 0.7834 - val_loss: 0.4822 - val_accuracy: 0.7987\n",
            "Epoch 16/100\n",
            "20/20 [==============================] - 0s 21ms/step - loss: 0.4639 - accuracy: 0.7834 - val_loss: 0.4807 - val_accuracy: 0.7987\n",
            "Epoch 17/100\n",
            "20/20 [==============================] - 0s 13ms/step - loss: 0.4610 - accuracy: 0.7818 - val_loss: 0.4799 - val_accuracy: 0.8052\n",
            "Epoch 18/100\n",
            "20/20 [==============================] - 0s 18ms/step - loss: 0.4581 - accuracy: 0.7818 - val_loss: 0.4790 - val_accuracy: 0.7987\n",
            "Epoch 19/100\n",
            "20/20 [==============================] - 0s 19ms/step - loss: 0.4556 - accuracy: 0.7850 - val_loss: 0.4774 - val_accuracy: 0.8117\n",
            "Epoch 20/100\n",
            "20/20 [==============================] - 0s 25ms/step - loss: 0.4545 - accuracy: 0.7850 - val_loss: 0.4767 - val_accuracy: 0.7987\n",
            "Epoch 21/100\n",
            "20/20 [==============================] - 0s 11ms/step - loss: 0.4525 - accuracy: 0.7834 - val_loss: 0.4758 - val_accuracy: 0.8052\n",
            "Epoch 22/100\n",
            "20/20 [==============================] - 0s 18ms/step - loss: 0.4510 - accuracy: 0.7850 - val_loss: 0.4752 - val_accuracy: 0.8052\n",
            "Epoch 23/100\n",
            "20/20 [==============================] - 0s 8ms/step - loss: 0.4497 - accuracy: 0.7866 - val_loss: 0.4756 - val_accuracy: 0.8117\n",
            "Epoch 24/100\n",
            "20/20 [==============================] - 0s 18ms/step - loss: 0.4484 - accuracy: 0.7834 - val_loss: 0.4749 - val_accuracy: 0.8052\n",
            "Epoch 25/100\n",
            "20/20 [==============================] - 0s 13ms/step - loss: 0.4472 - accuracy: 0.7866 - val_loss: 0.4750 - val_accuracy: 0.8182\n",
            "Epoch 26/100\n",
            "20/20 [==============================] - 0s 10ms/step - loss: 0.4458 - accuracy: 0.7866 - val_loss: 0.4750 - val_accuracy: 0.8117\n",
            "Epoch 27/100\n",
            "20/20 [==============================] - 0s 11ms/step - loss: 0.4446 - accuracy: 0.7850 - val_loss: 0.4743 - val_accuracy: 0.8117\n",
            "Epoch 28/100\n",
            "20/20 [==============================] - 0s 11ms/step - loss: 0.4439 - accuracy: 0.7834 - val_loss: 0.4739 - val_accuracy: 0.8182\n",
            "Epoch 29/100\n",
            "20/20 [==============================] - 0s 10ms/step - loss: 0.4431 - accuracy: 0.7883 - val_loss: 0.4743 - val_accuracy: 0.8052\n",
            "Epoch 30/100\n",
            "20/20 [==============================] - 0s 7ms/step - loss: 0.4424 - accuracy: 0.7883 - val_loss: 0.4742 - val_accuracy: 0.8052\n",
            "Epoch 31/100\n",
            "20/20 [==============================] - 0s 14ms/step - loss: 0.4409 - accuracy: 0.7883 - val_loss: 0.4741 - val_accuracy: 0.8052\n",
            "Epoch 32/100\n",
            "20/20 [==============================] - 0s 7ms/step - loss: 0.4407 - accuracy: 0.7883 - val_loss: 0.4738 - val_accuracy: 0.8052\n",
            "Epoch 33/100\n",
            "20/20 [==============================] - 0s 9ms/step - loss: 0.4396 - accuracy: 0.7883 - val_loss: 0.4752 - val_accuracy: 0.8052\n",
            "Epoch 34/100\n",
            "20/20 [==============================] - 0s 11ms/step - loss: 0.4386 - accuracy: 0.7899 - val_loss: 0.4750 - val_accuracy: 0.7987\n",
            "Epoch 35/100\n",
            "20/20 [==============================] - 0s 13ms/step - loss: 0.4377 - accuracy: 0.7899 - val_loss: 0.4749 - val_accuracy: 0.7922\n",
            "Epoch 36/100\n",
            "20/20 [==============================] - 0s 12ms/step - loss: 0.4375 - accuracy: 0.7883 - val_loss: 0.4735 - val_accuracy: 0.7922\n",
            "Epoch 37/100\n",
            "20/20 [==============================] - 0s 18ms/step - loss: 0.4366 - accuracy: 0.7899 - val_loss: 0.4741 - val_accuracy: 0.7987\n",
            "Epoch 38/100\n",
            "20/20 [==============================] - 0s 15ms/step - loss: 0.4360 - accuracy: 0.7883 - val_loss: 0.4742 - val_accuracy: 0.7922\n",
            "Epoch 39/100\n",
            "20/20 [==============================] - 0s 14ms/step - loss: 0.4349 - accuracy: 0.7883 - val_loss: 0.4744 - val_accuracy: 0.7922\n",
            "Epoch 40/100\n",
            "20/20 [==============================] - 0s 8ms/step - loss: 0.4345 - accuracy: 0.7850 - val_loss: 0.4749 - val_accuracy: 0.7922\n",
            "Epoch 41/100\n",
            "20/20 [==============================] - 1s 29ms/step - loss: 0.4346 - accuracy: 0.7850 - val_loss: 0.4756 - val_accuracy: 0.7922\n",
            "Epoch 42/100\n",
            "20/20 [==============================] - 0s 20ms/step - loss: 0.4332 - accuracy: 0.7834 - val_loss: 0.4746 - val_accuracy: 0.7922\n",
            "Epoch 43/100\n",
            "20/20 [==============================] - 0s 17ms/step - loss: 0.4325 - accuracy: 0.7866 - val_loss: 0.4743 - val_accuracy: 0.7922\n",
            "Epoch 44/100\n",
            "20/20 [==============================] - 0s 22ms/step - loss: 0.4325 - accuracy: 0.7899 - val_loss: 0.4727 - val_accuracy: 0.7857\n",
            "Epoch 45/100\n",
            "20/20 [==============================] - 0s 7ms/step - loss: 0.4310 - accuracy: 0.7899 - val_loss: 0.4730 - val_accuracy: 0.7922\n",
            "Epoch 46/100\n",
            "20/20 [==============================] - 0s 9ms/step - loss: 0.4307 - accuracy: 0.7883 - val_loss: 0.4727 - val_accuracy: 0.7987\n",
            "Epoch 47/100\n",
            "20/20 [==============================] - 0s 7ms/step - loss: 0.4300 - accuracy: 0.7899 - val_loss: 0.4732 - val_accuracy: 0.7987\n",
            "Epoch 48/100\n",
            "20/20 [==============================] - 0s 8ms/step - loss: 0.4294 - accuracy: 0.7899 - val_loss: 0.4724 - val_accuracy: 0.7857\n",
            "Epoch 49/100\n",
            "20/20 [==============================] - 0s 8ms/step - loss: 0.4289 - accuracy: 0.7915 - val_loss: 0.4728 - val_accuracy: 0.7857\n",
            "Epoch 50/100\n",
            "20/20 [==============================] - 0s 10ms/step - loss: 0.4287 - accuracy: 0.7915 - val_loss: 0.4733 - val_accuracy: 0.7857\n",
            "Epoch 51/100\n",
            "20/20 [==============================] - 0s 9ms/step - loss: 0.4280 - accuracy: 0.7915 - val_loss: 0.4737 - val_accuracy: 0.7857\n",
            "Epoch 52/100\n",
            "20/20 [==============================] - 0s 10ms/step - loss: 0.4277 - accuracy: 0.7932 - val_loss: 0.4733 - val_accuracy: 0.7857\n",
            "Epoch 53/100\n",
            "20/20 [==============================] - 0s 10ms/step - loss: 0.4274 - accuracy: 0.7899 - val_loss: 0.4743 - val_accuracy: 0.7857\n",
            "Epoch 54/100\n",
            "20/20 [==============================] - 0s 10ms/step - loss: 0.4268 - accuracy: 0.7915 - val_loss: 0.4742 - val_accuracy: 0.7857\n",
            "Epoch 55/100\n",
            "20/20 [==============================] - 0s 8ms/step - loss: 0.4264 - accuracy: 0.7932 - val_loss: 0.4734 - val_accuracy: 0.7922\n",
            "Epoch 56/100\n",
            "20/20 [==============================] - 0s 8ms/step - loss: 0.4264 - accuracy: 0.7932 - val_loss: 0.4732 - val_accuracy: 0.7922\n",
            "Epoch 57/100\n",
            "20/20 [==============================] - 0s 9ms/step - loss: 0.4252 - accuracy: 0.7932 - val_loss: 0.4733 - val_accuracy: 0.7922\n",
            "Epoch 58/100\n",
            "20/20 [==============================] - 0s 8ms/step - loss: 0.4248 - accuracy: 0.7948 - val_loss: 0.4740 - val_accuracy: 0.7922\n",
            "Epoch 59/100\n",
            "20/20 [==============================] - 0s 7ms/step - loss: 0.4255 - accuracy: 0.7932 - val_loss: 0.4751 - val_accuracy: 0.7922\n",
            "Epoch 60/100\n",
            "20/20 [==============================] - 0s 8ms/step - loss: 0.4244 - accuracy: 0.7915 - val_loss: 0.4742 - val_accuracy: 0.7922\n",
            "Epoch 61/100\n",
            "20/20 [==============================] - 0s 12ms/step - loss: 0.4241 - accuracy: 0.7948 - val_loss: 0.4745 - val_accuracy: 0.7922\n",
            "Epoch 62/100\n",
            "20/20 [==============================] - 0s 16ms/step - loss: 0.4231 - accuracy: 0.7964 - val_loss: 0.4729 - val_accuracy: 0.7922\n",
            "Epoch 63/100\n",
            "20/20 [==============================] - 0s 11ms/step - loss: 0.4234 - accuracy: 0.7915 - val_loss: 0.4731 - val_accuracy: 0.7857\n",
            "Epoch 64/100\n",
            "20/20 [==============================] - 0s 8ms/step - loss: 0.4223 - accuracy: 0.7948 - val_loss: 0.4738 - val_accuracy: 0.7857\n",
            "Epoch 65/100\n",
            "20/20 [==============================] - 0s 10ms/step - loss: 0.4222 - accuracy: 0.7964 - val_loss: 0.4729 - val_accuracy: 0.7857\n",
            "Epoch 66/100\n",
            "20/20 [==============================] - 0s 7ms/step - loss: 0.4217 - accuracy: 0.7932 - val_loss: 0.4737 - val_accuracy: 0.7987\n",
            "Epoch 67/100\n",
            "20/20 [==============================] - 0s 8ms/step - loss: 0.4214 - accuracy: 0.7915 - val_loss: 0.4727 - val_accuracy: 0.7857\n",
            "Epoch 68/100\n",
            "20/20 [==============================] - 0s 10ms/step - loss: 0.4212 - accuracy: 0.7948 - val_loss: 0.4728 - val_accuracy: 0.7987\n",
            "Epoch 69/100\n",
            "20/20 [==============================] - 0s 20ms/step - loss: 0.4208 - accuracy: 0.7932 - val_loss: 0.4729 - val_accuracy: 0.7857\n",
            "Epoch 70/100\n",
            "20/20 [==============================] - 1s 27ms/step - loss: 0.4206 - accuracy: 0.7932 - val_loss: 0.4728 - val_accuracy: 0.7857\n",
            "Epoch 71/100\n",
            "20/20 [==============================] - 1s 29ms/step - loss: 0.4193 - accuracy: 0.7932 - val_loss: 0.4744 - val_accuracy: 0.7857\n",
            "Epoch 72/100\n",
            "20/20 [==============================] - 0s 18ms/step - loss: 0.4195 - accuracy: 0.7948 - val_loss: 0.4740 - val_accuracy: 0.7857\n",
            "Epoch 73/100\n",
            "20/20 [==============================] - 0s 17ms/step - loss: 0.4191 - accuracy: 0.7948 - val_loss: 0.4742 - val_accuracy: 0.7922\n",
            "Epoch 74/100\n",
            "20/20 [==============================] - 0s 15ms/step - loss: 0.4191 - accuracy: 0.7948 - val_loss: 0.4743 - val_accuracy: 0.7922\n",
            "Epoch 75/100\n",
            "20/20 [==============================] - 0s 19ms/step - loss: 0.4177 - accuracy: 0.7915 - val_loss: 0.4741 - val_accuracy: 0.7922\n",
            "Epoch 76/100\n",
            "20/20 [==============================] - 0s 16ms/step - loss: 0.4180 - accuracy: 0.7932 - val_loss: 0.4737 - val_accuracy: 0.7857\n",
            "Epoch 77/100\n",
            "20/20 [==============================] - 0s 22ms/step - loss: 0.4176 - accuracy: 0.7915 - val_loss: 0.4744 - val_accuracy: 0.7987\n",
            "Epoch 78/100\n",
            "20/20 [==============================] - 0s 21ms/step - loss: 0.4171 - accuracy: 0.7932 - val_loss: 0.4744 - val_accuracy: 0.7922\n",
            "Epoch 79/100\n",
            "20/20 [==============================] - 0s 13ms/step - loss: 0.4173 - accuracy: 0.7948 - val_loss: 0.4750 - val_accuracy: 0.7987\n",
            "Epoch 80/100\n",
            "20/20 [==============================] - 0s 8ms/step - loss: 0.4163 - accuracy: 0.7948 - val_loss: 0.4746 - val_accuracy: 0.7987\n",
            "Epoch 81/100\n",
            "20/20 [==============================] - 0s 10ms/step - loss: 0.4161 - accuracy: 0.7948 - val_loss: 0.4729 - val_accuracy: 0.7987\n",
            "Epoch 82/100\n",
            "20/20 [==============================] - 0s 7ms/step - loss: 0.4160 - accuracy: 0.7899 - val_loss: 0.4724 - val_accuracy: 0.7922\n",
            "Epoch 83/100\n",
            "20/20 [==============================] - 0s 7ms/step - loss: 0.4157 - accuracy: 0.7948 - val_loss: 0.4733 - val_accuracy: 0.7922\n",
            "Epoch 84/100\n",
            "20/20 [==============================] - 0s 9ms/step - loss: 0.4153 - accuracy: 0.7915 - val_loss: 0.4726 - val_accuracy: 0.7922\n",
            "Epoch 85/100\n",
            "20/20 [==============================] - 0s 14ms/step - loss: 0.4151 - accuracy: 0.7932 - val_loss: 0.4737 - val_accuracy: 0.7792\n",
            "Epoch 86/100\n",
            "20/20 [==============================] - 0s 12ms/step - loss: 0.4148 - accuracy: 0.7948 - val_loss: 0.4741 - val_accuracy: 0.7857\n",
            "Epoch 87/100\n",
            "20/20 [==============================] - 0s 7ms/step - loss: 0.4142 - accuracy: 0.7948 - val_loss: 0.4740 - val_accuracy: 0.7922\n",
            "Epoch 88/100\n",
            "20/20 [==============================] - 0s 7ms/step - loss: 0.4145 - accuracy: 0.7915 - val_loss: 0.4741 - val_accuracy: 0.7922\n",
            "Epoch 89/100\n",
            "20/20 [==============================] - 0s 8ms/step - loss: 0.4141 - accuracy: 0.7915 - val_loss: 0.4731 - val_accuracy: 0.7922\n",
            "Epoch 90/100\n",
            "20/20 [==============================] - 0s 7ms/step - loss: 0.4131 - accuracy: 0.7915 - val_loss: 0.4751 - val_accuracy: 0.7987\n",
            "Epoch 91/100\n",
            "20/20 [==============================] - 0s 8ms/step - loss: 0.4135 - accuracy: 0.7932 - val_loss: 0.4749 - val_accuracy: 0.8052\n",
            "Epoch 92/100\n",
            "20/20 [==============================] - 0s 10ms/step - loss: 0.4128 - accuracy: 0.7899 - val_loss: 0.4753 - val_accuracy: 0.7987\n",
            "Epoch 93/100\n",
            "20/20 [==============================] - 0s 9ms/step - loss: 0.4125 - accuracy: 0.7948 - val_loss: 0.4772 - val_accuracy: 0.7987\n",
            "Epoch 94/100\n",
            "20/20 [==============================] - 0s 10ms/step - loss: 0.4124 - accuracy: 0.7915 - val_loss: 0.4777 - val_accuracy: 0.7987\n",
            "Epoch 95/100\n",
            "20/20 [==============================] - 0s 7ms/step - loss: 0.4121 - accuracy: 0.7899 - val_loss: 0.4783 - val_accuracy: 0.7922\n",
            "Epoch 96/100\n",
            "20/20 [==============================] - 0s 4ms/step - loss: 0.4115 - accuracy: 0.7964 - val_loss: 0.4771 - val_accuracy: 0.7922\n",
            "Epoch 97/100\n",
            "20/20 [==============================] - 0s 5ms/step - loss: 0.4115 - accuracy: 0.7932 - val_loss: 0.4752 - val_accuracy: 0.7987\n",
            "Epoch 98/100\n",
            "20/20 [==============================] - 0s 4ms/step - loss: 0.4110 - accuracy: 0.7899 - val_loss: 0.4763 - val_accuracy: 0.7987\n",
            "Epoch 99/100\n",
            "20/20 [==============================] - 0s 5ms/step - loss: 0.4107 - accuracy: 0.7883 - val_loss: 0.4760 - val_accuracy: 0.7987\n",
            "Epoch 100/100\n",
            "20/20 [==============================] - 0s 4ms/step - loss: 0.4105 - accuracy: 0.7899 - val_loss: 0.4756 - val_accuracy: 0.8052\n"
          ]
        },
        {
          "output_type": "execute_result",
          "data": {
            "text/plain": [
              "<keras.src.callbacks.History at 0x7b65c00cbf10>"
            ]
          },
          "metadata": {},
          "execution_count": 12
        }
      ]
    },
    {
      "cell_type": "code",
      "source": [
        "!pip install keras-tuner"
      ],
      "metadata": {
        "colab": {
          "base_uri": "https://localhost:8080/"
        },
        "id": "9jIWzku8qNgN",
        "outputId": "5c75fa1c-053c-4662-e03b-4af14ce8e6ab"
      },
      "execution_count": 13,
      "outputs": [
        {
          "output_type": "stream",
          "name": "stdout",
          "text": [
            "Requirement already satisfied: keras-tuner in /usr/local/lib/python3.10/dist-packages (1.4.6)\n",
            "Requirement already satisfied: keras in /usr/local/lib/python3.10/dist-packages (from keras-tuner) (2.15.0)\n",
            "Requirement already satisfied: packaging in /usr/local/lib/python3.10/dist-packages (from keras-tuner) (23.2)\n",
            "Requirement already satisfied: requests in /usr/local/lib/python3.10/dist-packages (from keras-tuner) (2.31.0)\n",
            "Requirement already satisfied: kt-legacy in /usr/local/lib/python3.10/dist-packages (from keras-tuner) (1.0.5)\n",
            "Requirement already satisfied: charset-normalizer<4,>=2 in /usr/local/lib/python3.10/dist-packages (from requests->keras-tuner) (3.3.2)\n",
            "Requirement already satisfied: idna<4,>=2.5 in /usr/local/lib/python3.10/dist-packages (from requests->keras-tuner) (3.6)\n",
            "Requirement already satisfied: urllib3<3,>=1.21.1 in /usr/local/lib/python3.10/dist-packages (from requests->keras-tuner) (2.0.7)\n",
            "Requirement already satisfied: certifi>=2017.4.17 in /usr/local/lib/python3.10/dist-packages (from requests->keras-tuner) (2023.11.17)\n"
          ]
        }
      ]
    },
    {
      "cell_type": "code",
      "source": [
        "import keras_tuner as kt"
      ],
      "metadata": {
        "id": "DsA6or7TqwAP"
      },
      "execution_count": 14,
      "outputs": []
    },
    {
      "cell_type": "markdown",
      "source": [
        "# Optimizing Optimizer"
      ],
      "metadata": {
        "id": "ySGngP13tPVA"
      }
    },
    {
      "cell_type": "code",
      "source": [
        "def build_model(hp):\n",
        "  model = Sequential()\n",
        "  model.add(Dense(32, input_dim = 8, activation= \"relu\"))\n",
        "  model.add(Dense(1, activation = \"sigmoid\"))\n",
        "\n",
        "  optimizer = hp.Choice(\"optimizers\", values = [\"adam\",\"adadelta\",\"rmsprop\", \"sgd\"])\n",
        "  model.compile(loss = \"binary_crossentropy\", metrics = [\"accuracy\"], optimizer = optimizer)\n",
        "\n",
        "  return model"
      ],
      "metadata": {
        "id": "-BVxstSBtJjV"
      },
      "execution_count": 15,
      "outputs": []
    },
    {
      "cell_type": "code",
      "source": [
        "tuner = kt.RandomSearch(\n",
        "    build_model,\n",
        "    objective = \"val_accuracy\",\n",
        "    max_trials = 5\n",
        ")"
      ],
      "metadata": {
        "colab": {
          "base_uri": "https://localhost:8080/"
        },
        "id": "xlJ33ZgOuyQJ",
        "outputId": "c38ca116-9bb2-47fa-be2c-50180e2278b2"
      },
      "execution_count": 16,
      "outputs": [
        {
          "output_type": "stream",
          "name": "stdout",
          "text": [
            "Reloading Tuner from ./untitled_project/tuner0.json\n"
          ]
        }
      ]
    },
    {
      "cell_type": "code",
      "source": [
        "tuner.search(X_train,y_train, epochs = 5, validation_data = (X_test, y_test))"
      ],
      "metadata": {
        "id": "4q2DWm2ivJba"
      },
      "execution_count": 17,
      "outputs": []
    },
    {
      "cell_type": "code",
      "source": [
        "tuner.get_best_hyperparameters()"
      ],
      "metadata": {
        "colab": {
          "base_uri": "https://localhost:8080/"
        },
        "id": "mD2jux5Zv58H",
        "outputId": "7300b3cb-c6e8-4743-e2d9-ae9006f7cefa"
      },
      "execution_count": 18,
      "outputs": [
        {
          "output_type": "execute_result",
          "data": {
            "text/plain": [
              "[<keras_tuner.src.engine.hyperparameters.hyperparameters.HyperParameters at 0x7b65b3fbd390>]"
            ]
          },
          "metadata": {},
          "execution_count": 18
        }
      ]
    },
    {
      "cell_type": "code",
      "source": [
        "tuner.get_best_hyperparameters()[0]"
      ],
      "metadata": {
        "colab": {
          "base_uri": "https://localhost:8080/"
        },
        "id": "DM-8y_-fwUbx",
        "outputId": "527919af-0dc5-4c57-acba-782da669ed33"
      },
      "execution_count": 19,
      "outputs": [
        {
          "output_type": "execute_result",
          "data": {
            "text/plain": [
              "<keras_tuner.src.engine.hyperparameters.hyperparameters.HyperParameters at 0x7b65b3fbd390>"
            ]
          },
          "metadata": {},
          "execution_count": 19
        }
      ]
    },
    {
      "cell_type": "code",
      "source": [
        "tuner.get_best_hyperparameters()[0].values"
      ],
      "metadata": {
        "colab": {
          "base_uri": "https://localhost:8080/"
        },
        "id": "73p8VzriwYAW",
        "outputId": "5192a5b4-1d8f-468c-c97f-56f7b931d6ba"
      },
      "execution_count": 20,
      "outputs": [
        {
          "output_type": "execute_result",
          "data": {
            "text/plain": [
              "{'optimizers': 'rmsprop'}"
            ]
          },
          "metadata": {},
          "execution_count": 20
        }
      ]
    },
    {
      "cell_type": "code",
      "source": [
        "model = tuner.get_best_models(num_models=1)[0]"
      ],
      "metadata": {
        "id": "OlJz3ac1wasR"
      },
      "execution_count": 21,
      "outputs": []
    },
    {
      "cell_type": "code",
      "source": [
        "model.summary()"
      ],
      "metadata": {
        "colab": {
          "base_uri": "https://localhost:8080/"
        },
        "id": "x-dbszZ0wprB",
        "outputId": "6fd92999-143b-4f24-b48a-4219e32e295d"
      },
      "execution_count": 22,
      "outputs": [
        {
          "output_type": "stream",
          "name": "stdout",
          "text": [
            "Model: \"sequential\"\n",
            "_________________________________________________________________\n",
            " Layer (type)                Output Shape              Param #   \n",
            "=================================================================\n",
            " dense (Dense)               (None, 32)                288       \n",
            "                                                                 \n",
            " dense_1 (Dense)             (None, 1)                 33        \n",
            "                                                                 \n",
            "=================================================================\n",
            "Total params: 321 (1.25 KB)\n",
            "Trainable params: 321 (1.25 KB)\n",
            "Non-trainable params: 0 (0.00 Byte)\n",
            "_________________________________________________________________\n"
          ]
        }
      ]
    },
    {
      "cell_type": "code",
      "source": [
        "model.fit(X_train,y_train, batch_size= 32, epochs = 100, initial_epoch=6, validation_data = (X_test, y_test))"
      ],
      "metadata": {
        "colab": {
          "base_uri": "https://localhost:8080/"
        },
        "id": "fRUEyg_RwseM",
        "outputId": "c6ee557a-11f7-4675-8bb3-d48e6c5c6441"
      },
      "execution_count": 23,
      "outputs": [
        {
          "output_type": "stream",
          "name": "stdout",
          "text": [
            "Epoch 7/100\n",
            "20/20 [==============================] - 1s 26ms/step - loss: 0.5140 - accuracy: 0.7492 - val_loss: 0.5316 - val_accuracy: 0.7857\n",
            "Epoch 8/100\n",
            "20/20 [==============================] - 0s 9ms/step - loss: 0.5036 - accuracy: 0.7573 - val_loss: 0.5250 - val_accuracy: 0.7922\n",
            "Epoch 9/100\n",
            "20/20 [==============================] - 0s 6ms/step - loss: 0.4952 - accuracy: 0.7638 - val_loss: 0.5191 - val_accuracy: 0.8052\n",
            "Epoch 10/100\n",
            "20/20 [==============================] - 0s 5ms/step - loss: 0.4885 - accuracy: 0.7655 - val_loss: 0.5145 - val_accuracy: 0.8117\n",
            "Epoch 11/100\n",
            "20/20 [==============================] - 0s 5ms/step - loss: 0.4830 - accuracy: 0.7638 - val_loss: 0.5110 - val_accuracy: 0.8117\n",
            "Epoch 12/100\n",
            "20/20 [==============================] - 0s 5ms/step - loss: 0.4787 - accuracy: 0.7736 - val_loss: 0.5077 - val_accuracy: 0.7922\n",
            "Epoch 13/100\n",
            "20/20 [==============================] - 0s 4ms/step - loss: 0.4748 - accuracy: 0.7638 - val_loss: 0.5047 - val_accuracy: 0.7922\n",
            "Epoch 14/100\n",
            "20/20 [==============================] - 0s 4ms/step - loss: 0.4712 - accuracy: 0.7687 - val_loss: 0.5021 - val_accuracy: 0.7987\n",
            "Epoch 15/100\n",
            "20/20 [==============================] - 0s 4ms/step - loss: 0.4685 - accuracy: 0.7687 - val_loss: 0.5010 - val_accuracy: 0.7987\n",
            "Epoch 16/100\n",
            "20/20 [==============================] - 0s 4ms/step - loss: 0.4664 - accuracy: 0.7655 - val_loss: 0.4995 - val_accuracy: 0.7987\n",
            "Epoch 17/100\n",
            "20/20 [==============================] - 0s 5ms/step - loss: 0.4638 - accuracy: 0.7671 - val_loss: 0.4977 - val_accuracy: 0.7987\n",
            "Epoch 18/100\n",
            "20/20 [==============================] - 0s 5ms/step - loss: 0.4617 - accuracy: 0.7671 - val_loss: 0.4972 - val_accuracy: 0.7987\n",
            "Epoch 19/100\n",
            "20/20 [==============================] - 0s 4ms/step - loss: 0.4599 - accuracy: 0.7720 - val_loss: 0.4959 - val_accuracy: 0.7987\n",
            "Epoch 20/100\n",
            "20/20 [==============================] - 0s 4ms/step - loss: 0.4584 - accuracy: 0.7687 - val_loss: 0.4950 - val_accuracy: 0.7987\n",
            "Epoch 21/100\n",
            "20/20 [==============================] - 0s 5ms/step - loss: 0.4567 - accuracy: 0.7704 - val_loss: 0.4941 - val_accuracy: 0.7987\n",
            "Epoch 22/100\n",
            "20/20 [==============================] - 0s 4ms/step - loss: 0.4555 - accuracy: 0.7752 - val_loss: 0.4928 - val_accuracy: 0.7987\n",
            "Epoch 23/100\n",
            "20/20 [==============================] - 0s 5ms/step - loss: 0.4537 - accuracy: 0.7752 - val_loss: 0.4910 - val_accuracy: 0.7987\n",
            "Epoch 24/100\n",
            "20/20 [==============================] - 0s 6ms/step - loss: 0.4525 - accuracy: 0.7769 - val_loss: 0.4908 - val_accuracy: 0.7922\n",
            "Epoch 25/100\n",
            "20/20 [==============================] - 0s 4ms/step - loss: 0.4510 - accuracy: 0.7785 - val_loss: 0.4901 - val_accuracy: 0.7922\n",
            "Epoch 26/100\n",
            "20/20 [==============================] - 0s 5ms/step - loss: 0.4501 - accuracy: 0.7785 - val_loss: 0.4891 - val_accuracy: 0.7922\n",
            "Epoch 27/100\n",
            "20/20 [==============================] - 0s 4ms/step - loss: 0.4495 - accuracy: 0.7785 - val_loss: 0.4868 - val_accuracy: 0.7922\n",
            "Epoch 28/100\n",
            "20/20 [==============================] - 0s 4ms/step - loss: 0.4479 - accuracy: 0.7769 - val_loss: 0.4861 - val_accuracy: 0.7922\n",
            "Epoch 29/100\n",
            "20/20 [==============================] - 0s 5ms/step - loss: 0.4478 - accuracy: 0.7785 - val_loss: 0.4853 - val_accuracy: 0.7857\n",
            "Epoch 30/100\n",
            "20/20 [==============================] - 0s 6ms/step - loss: 0.4467 - accuracy: 0.7769 - val_loss: 0.4847 - val_accuracy: 0.7857\n",
            "Epoch 31/100\n",
            "20/20 [==============================] - 0s 9ms/step - loss: 0.4459 - accuracy: 0.7769 - val_loss: 0.4847 - val_accuracy: 0.7857\n",
            "Epoch 32/100\n",
            "20/20 [==============================] - 0s 7ms/step - loss: 0.4451 - accuracy: 0.7752 - val_loss: 0.4841 - val_accuracy: 0.7922\n",
            "Epoch 33/100\n",
            "20/20 [==============================] - 0s 6ms/step - loss: 0.4448 - accuracy: 0.7785 - val_loss: 0.4837 - val_accuracy: 0.7922\n",
            "Epoch 34/100\n",
            "20/20 [==============================] - 0s 5ms/step - loss: 0.4442 - accuracy: 0.7785 - val_loss: 0.4827 - val_accuracy: 0.7987\n",
            "Epoch 35/100\n",
            "20/20 [==============================] - 0s 4ms/step - loss: 0.4429 - accuracy: 0.7769 - val_loss: 0.4821 - val_accuracy: 0.7987\n",
            "Epoch 36/100\n",
            "20/20 [==============================] - 0s 5ms/step - loss: 0.4426 - accuracy: 0.7752 - val_loss: 0.4813 - val_accuracy: 0.8052\n",
            "Epoch 37/100\n",
            "20/20 [==============================] - 0s 5ms/step - loss: 0.4418 - accuracy: 0.7752 - val_loss: 0.4815 - val_accuracy: 0.7987\n",
            "Epoch 38/100\n",
            "20/20 [==============================] - 0s 4ms/step - loss: 0.4413 - accuracy: 0.7818 - val_loss: 0.4810 - val_accuracy: 0.8052\n",
            "Epoch 39/100\n",
            "20/20 [==============================] - 0s 4ms/step - loss: 0.4407 - accuracy: 0.7818 - val_loss: 0.4807 - val_accuracy: 0.7987\n",
            "Epoch 40/100\n",
            "20/20 [==============================] - 0s 6ms/step - loss: 0.4398 - accuracy: 0.7785 - val_loss: 0.4795 - val_accuracy: 0.7922\n",
            "Epoch 41/100\n",
            "20/20 [==============================] - 0s 4ms/step - loss: 0.4392 - accuracy: 0.7785 - val_loss: 0.4794 - val_accuracy: 0.7922\n",
            "Epoch 42/100\n",
            "20/20 [==============================] - 0s 4ms/step - loss: 0.4389 - accuracy: 0.7785 - val_loss: 0.4789 - val_accuracy: 0.7922\n",
            "Epoch 43/100\n",
            "20/20 [==============================] - 0s 4ms/step - loss: 0.4389 - accuracy: 0.7883 - val_loss: 0.4788 - val_accuracy: 0.7922\n",
            "Epoch 44/100\n",
            "20/20 [==============================] - 0s 5ms/step - loss: 0.4380 - accuracy: 0.7883 - val_loss: 0.4781 - val_accuracy: 0.7987\n",
            "Epoch 45/100\n",
            "20/20 [==============================] - 0s 5ms/step - loss: 0.4374 - accuracy: 0.7850 - val_loss: 0.4787 - val_accuracy: 0.7987\n",
            "Epoch 46/100\n",
            "20/20 [==============================] - 0s 5ms/step - loss: 0.4368 - accuracy: 0.7818 - val_loss: 0.4793 - val_accuracy: 0.7987\n",
            "Epoch 47/100\n",
            "20/20 [==============================] - 0s 5ms/step - loss: 0.4365 - accuracy: 0.7850 - val_loss: 0.4790 - val_accuracy: 0.7922\n",
            "Epoch 48/100\n",
            "20/20 [==============================] - 0s 5ms/step - loss: 0.4360 - accuracy: 0.7801 - val_loss: 0.4786 - val_accuracy: 0.7922\n",
            "Epoch 49/100\n",
            "20/20 [==============================] - 0s 4ms/step - loss: 0.4355 - accuracy: 0.7834 - val_loss: 0.4773 - val_accuracy: 0.7987\n",
            "Epoch 50/100\n",
            "20/20 [==============================] - 0s 6ms/step - loss: 0.4346 - accuracy: 0.7801 - val_loss: 0.4776 - val_accuracy: 0.7922\n",
            "Epoch 51/100\n",
            "20/20 [==============================] - 0s 4ms/step - loss: 0.4346 - accuracy: 0.7801 - val_loss: 0.4769 - val_accuracy: 0.7922\n",
            "Epoch 52/100\n",
            "20/20 [==============================] - 0s 4ms/step - loss: 0.4340 - accuracy: 0.7818 - val_loss: 0.4766 - val_accuracy: 0.7922\n",
            "Epoch 53/100\n",
            "20/20 [==============================] - 0s 4ms/step - loss: 0.4337 - accuracy: 0.7818 - val_loss: 0.4764 - val_accuracy: 0.7922\n",
            "Epoch 54/100\n",
            "20/20 [==============================] - 0s 4ms/step - loss: 0.4338 - accuracy: 0.7818 - val_loss: 0.4766 - val_accuracy: 0.7922\n",
            "Epoch 55/100\n",
            "20/20 [==============================] - 0s 5ms/step - loss: 0.4329 - accuracy: 0.7818 - val_loss: 0.4768 - val_accuracy: 0.7922\n",
            "Epoch 56/100\n",
            "20/20 [==============================] - 0s 5ms/step - loss: 0.4327 - accuracy: 0.7850 - val_loss: 0.4766 - val_accuracy: 0.7922\n",
            "Epoch 57/100\n",
            "20/20 [==============================] - 0s 4ms/step - loss: 0.4324 - accuracy: 0.7850 - val_loss: 0.4758 - val_accuracy: 0.7922\n",
            "Epoch 58/100\n",
            "20/20 [==============================] - 0s 4ms/step - loss: 0.4319 - accuracy: 0.7866 - val_loss: 0.4756 - val_accuracy: 0.7922\n",
            "Epoch 59/100\n",
            "20/20 [==============================] - 0s 4ms/step - loss: 0.4314 - accuracy: 0.7850 - val_loss: 0.4747 - val_accuracy: 0.7922\n",
            "Epoch 60/100\n",
            "20/20 [==============================] - 0s 15ms/step - loss: 0.4316 - accuracy: 0.7866 - val_loss: 0.4749 - val_accuracy: 0.7922\n",
            "Epoch 61/100\n",
            "20/20 [==============================] - 0s 7ms/step - loss: 0.4306 - accuracy: 0.7850 - val_loss: 0.4745 - val_accuracy: 0.7922\n",
            "Epoch 62/100\n",
            "20/20 [==============================] - 0s 10ms/step - loss: 0.4309 - accuracy: 0.7866 - val_loss: 0.4747 - val_accuracy: 0.7922\n",
            "Epoch 63/100\n",
            "20/20 [==============================] - 0s 14ms/step - loss: 0.4299 - accuracy: 0.7883 - val_loss: 0.4743 - val_accuracy: 0.7922\n",
            "Epoch 64/100\n",
            "20/20 [==============================] - 0s 15ms/step - loss: 0.4298 - accuracy: 0.7866 - val_loss: 0.4742 - val_accuracy: 0.7987\n",
            "Epoch 65/100\n",
            "20/20 [==============================] - 0s 18ms/step - loss: 0.4296 - accuracy: 0.7899 - val_loss: 0.4735 - val_accuracy: 0.7922\n",
            "Epoch 66/100\n",
            "20/20 [==============================] - 0s 12ms/step - loss: 0.4292 - accuracy: 0.7915 - val_loss: 0.4731 - val_accuracy: 0.7987\n",
            "Epoch 67/100\n",
            "20/20 [==============================] - 0s 16ms/step - loss: 0.4291 - accuracy: 0.7866 - val_loss: 0.4733 - val_accuracy: 0.7987\n",
            "Epoch 68/100\n",
            "20/20 [==============================] - 0s 14ms/step - loss: 0.4285 - accuracy: 0.7866 - val_loss: 0.4727 - val_accuracy: 0.7987\n",
            "Epoch 69/100\n",
            "20/20 [==============================] - 0s 16ms/step - loss: 0.4282 - accuracy: 0.7899 - val_loss: 0.4731 - val_accuracy: 0.7922\n",
            "Epoch 70/100\n",
            "20/20 [==============================] - 0s 12ms/step - loss: 0.4280 - accuracy: 0.7932 - val_loss: 0.4737 - val_accuracy: 0.7987\n",
            "Epoch 71/100\n",
            "20/20 [==============================] - 0s 17ms/step - loss: 0.4276 - accuracy: 0.7866 - val_loss: 0.4735 - val_accuracy: 0.7987\n",
            "Epoch 72/100\n",
            "20/20 [==============================] - 0s 16ms/step - loss: 0.4271 - accuracy: 0.7899 - val_loss: 0.4739 - val_accuracy: 0.7987\n",
            "Epoch 73/100\n",
            "20/20 [==============================] - 0s 10ms/step - loss: 0.4269 - accuracy: 0.7899 - val_loss: 0.4738 - val_accuracy: 0.7987\n",
            "Epoch 74/100\n",
            "20/20 [==============================] - 0s 15ms/step - loss: 0.4269 - accuracy: 0.7915 - val_loss: 0.4741 - val_accuracy: 0.7987\n",
            "Epoch 75/100\n",
            "20/20 [==============================] - 0s 13ms/step - loss: 0.4264 - accuracy: 0.7932 - val_loss: 0.4731 - val_accuracy: 0.7987\n",
            "Epoch 76/100\n",
            "20/20 [==============================] - 0s 17ms/step - loss: 0.4260 - accuracy: 0.7915 - val_loss: 0.4725 - val_accuracy: 0.7987\n",
            "Epoch 77/100\n",
            "20/20 [==============================] - 0s 9ms/step - loss: 0.4257 - accuracy: 0.7932 - val_loss: 0.4727 - val_accuracy: 0.7987\n",
            "Epoch 78/100\n",
            "20/20 [==============================] - 0s 6ms/step - loss: 0.4255 - accuracy: 0.7948 - val_loss: 0.4732 - val_accuracy: 0.7987\n",
            "Epoch 79/100\n",
            "20/20 [==============================] - 0s 9ms/step - loss: 0.4254 - accuracy: 0.7915 - val_loss: 0.4740 - val_accuracy: 0.7987\n",
            "Epoch 80/100\n",
            "20/20 [==============================] - 0s 12ms/step - loss: 0.4250 - accuracy: 0.7932 - val_loss: 0.4738 - val_accuracy: 0.7987\n",
            "Epoch 81/100\n",
            "20/20 [==============================] - 0s 7ms/step - loss: 0.4245 - accuracy: 0.7980 - val_loss: 0.4736 - val_accuracy: 0.7987\n",
            "Epoch 82/100\n",
            "20/20 [==============================] - 0s 7ms/step - loss: 0.4248 - accuracy: 0.7980 - val_loss: 0.4725 - val_accuracy: 0.7987\n",
            "Epoch 83/100\n",
            "20/20 [==============================] - 0s 14ms/step - loss: 0.4240 - accuracy: 0.7932 - val_loss: 0.4717 - val_accuracy: 0.7987\n",
            "Epoch 84/100\n",
            "20/20 [==============================] - 0s 8ms/step - loss: 0.4240 - accuracy: 0.7997 - val_loss: 0.4715 - val_accuracy: 0.7987\n",
            "Epoch 85/100\n",
            "20/20 [==============================] - 0s 15ms/step - loss: 0.4239 - accuracy: 0.7948 - val_loss: 0.4713 - val_accuracy: 0.7987\n",
            "Epoch 86/100\n",
            "20/20 [==============================] - 0s 7ms/step - loss: 0.4234 - accuracy: 0.7964 - val_loss: 0.4710 - val_accuracy: 0.7987\n",
            "Epoch 87/100\n",
            "20/20 [==============================] - 0s 6ms/step - loss: 0.4230 - accuracy: 0.7980 - val_loss: 0.4715 - val_accuracy: 0.8052\n",
            "Epoch 88/100\n",
            "20/20 [==============================] - 0s 7ms/step - loss: 0.4226 - accuracy: 0.7964 - val_loss: 0.4709 - val_accuracy: 0.8052\n",
            "Epoch 89/100\n",
            "20/20 [==============================] - 0s 6ms/step - loss: 0.4228 - accuracy: 0.7980 - val_loss: 0.4714 - val_accuracy: 0.8052\n",
            "Epoch 90/100\n",
            "20/20 [==============================] - 0s 7ms/step - loss: 0.4221 - accuracy: 0.7980 - val_loss: 0.4713 - val_accuracy: 0.7987\n",
            "Epoch 91/100\n",
            "20/20 [==============================] - 0s 9ms/step - loss: 0.4220 - accuracy: 0.7997 - val_loss: 0.4715 - val_accuracy: 0.7987\n",
            "Epoch 92/100\n",
            "20/20 [==============================] - 0s 10ms/step - loss: 0.4221 - accuracy: 0.7997 - val_loss: 0.4717 - val_accuracy: 0.8052\n",
            "Epoch 93/100\n",
            "20/20 [==============================] - 0s 7ms/step - loss: 0.4213 - accuracy: 0.8013 - val_loss: 0.4726 - val_accuracy: 0.7987\n",
            "Epoch 94/100\n",
            "20/20 [==============================] - 0s 10ms/step - loss: 0.4214 - accuracy: 0.8029 - val_loss: 0.4723 - val_accuracy: 0.7987\n",
            "Epoch 95/100\n",
            "20/20 [==============================] - 0s 9ms/step - loss: 0.4211 - accuracy: 0.7948 - val_loss: 0.4725 - val_accuracy: 0.7987\n",
            "Epoch 96/100\n",
            "20/20 [==============================] - 0s 11ms/step - loss: 0.4211 - accuracy: 0.7980 - val_loss: 0.4725 - val_accuracy: 0.7987\n",
            "Epoch 97/100\n",
            "20/20 [==============================] - 0s 8ms/step - loss: 0.4207 - accuracy: 0.8013 - val_loss: 0.4725 - val_accuracy: 0.7987\n",
            "Epoch 98/100\n",
            "20/20 [==============================] - 0s 10ms/step - loss: 0.4204 - accuracy: 0.7964 - val_loss: 0.4719 - val_accuracy: 0.8052\n",
            "Epoch 99/100\n",
            "20/20 [==============================] - 0s 10ms/step - loss: 0.4200 - accuracy: 0.8013 - val_loss: 0.4720 - val_accuracy: 0.8052\n",
            "Epoch 100/100\n",
            "20/20 [==============================] - 0s 8ms/step - loss: 0.4198 - accuracy: 0.7997 - val_loss: 0.4710 - val_accuracy: 0.7987\n"
          ]
        },
        {
          "output_type": "execute_result",
          "data": {
            "text/plain": [
              "<keras.src.callbacks.History at 0x7b65b2dc7bb0>"
            ]
          },
          "metadata": {},
          "execution_count": 23
        }
      ]
    },
    {
      "cell_type": "markdown",
      "source": [
        "# Optimizing no. of units"
      ],
      "metadata": {
        "id": "n1i93fOBxs0Z"
      }
    },
    {
      "cell_type": "code",
      "source": [
        "def build_model(hp):\n",
        "  model = Sequential()\n",
        "  units = hp.Int(\"units\",min_value = 8, max_value = 128,step = 32)\n",
        "  model.add(Dense(units = units , activation = \"relu\"))\n",
        "  model.add(Dense(1,activation = \"sigmoid\"))\n",
        "\n",
        "  model.compile(optimizer = \"adam\", loss = \"binary_crossentropy\", metrics = [\"accuracy\"])\n",
        "  return model"
      ],
      "metadata": {
        "id": "Nqim3_zMxfgH"
      },
      "execution_count": 24,
      "outputs": []
    },
    {
      "cell_type": "code",
      "source": [
        "tuner  = kt.RandomSearch(\n",
        "    build_model,\n",
        "    objective = \"val_accuracy\",\n",
        "    max_trials = 5,\n",
        "    directory = \"mydirectory\",\n",
        "    project_name = \"units\"\n",
        ")"
      ],
      "metadata": {
        "colab": {
          "base_uri": "https://localhost:8080/"
        },
        "id": "XvcXRGyP0c_6",
        "outputId": "c68e7c08-aa1f-42c7-ba22-2a66803b20c6"
      },
      "execution_count": 25,
      "outputs": [
        {
          "output_type": "stream",
          "name": "stdout",
          "text": [
            "Reloading Tuner from mydirectory/units/tuner0.json\n"
          ]
        }
      ]
    },
    {
      "cell_type": "code",
      "source": [
        "tuner.search(X_train,y_train,epochs = 5, validation_data = (X_test, y_test))"
      ],
      "metadata": {
        "id": "EWtP7Xmb0rXv"
      },
      "execution_count": 26,
      "outputs": []
    },
    {
      "cell_type": "code",
      "source": [
        "tuner.get_best_hyperparameters()[0].values"
      ],
      "metadata": {
        "colab": {
          "base_uri": "https://localhost:8080/"
        },
        "id": "WxzFjfyn1Ypj",
        "outputId": "542a387c-f93b-4560-ef3d-ae34f838c0bc"
      },
      "execution_count": 27,
      "outputs": [
        {
          "output_type": "execute_result",
          "data": {
            "text/plain": [
              "{'units': 104}"
            ]
          },
          "metadata": {},
          "execution_count": 27
        }
      ]
    },
    {
      "cell_type": "code",
      "source": [
        "model = tuner.get_best_models(num_models=1)[0]"
      ],
      "metadata": {
        "id": "7KW2MPna1ddd"
      },
      "execution_count": 28,
      "outputs": []
    },
    {
      "cell_type": "code",
      "source": [
        "model.fit(X_train,y_train,batch_size=32,epochs=100,initial_epoch=6, validation_data = (X_test,y_test))"
      ],
      "metadata": {
        "colab": {
          "base_uri": "https://localhost:8080/"
        },
        "id": "IEkpTVuR8xaV",
        "outputId": "2983fd92-b9f6-4876-b3cb-d350f518c7ef"
      },
      "execution_count": 30,
      "outputs": [
        {
          "output_type": "stream",
          "name": "stdout",
          "text": [
            "Epoch 7/100\n",
            "20/20 [==============================] - 1s 15ms/step - loss: 0.4831 - accuracy: 0.7752 - val_loss: 0.4829 - val_accuracy: 0.7922\n",
            "Epoch 8/100\n",
            "20/20 [==============================] - 0s 4ms/step - loss: 0.4742 - accuracy: 0.7850 - val_loss: 0.4792 - val_accuracy: 0.7792\n",
            "Epoch 9/100\n",
            "20/20 [==============================] - 0s 5ms/step - loss: 0.4660 - accuracy: 0.7818 - val_loss: 0.4741 - val_accuracy: 0.7857\n",
            "Epoch 10/100\n",
            "20/20 [==============================] - 0s 4ms/step - loss: 0.4600 - accuracy: 0.7818 - val_loss: 0.4713 - val_accuracy: 0.7857\n",
            "Epoch 11/100\n",
            "20/20 [==============================] - 0s 4ms/step - loss: 0.4556 - accuracy: 0.7818 - val_loss: 0.4706 - val_accuracy: 0.7857\n",
            "Epoch 12/100\n",
            "20/20 [==============================] - 0s 4ms/step - loss: 0.4525 - accuracy: 0.7883 - val_loss: 0.4677 - val_accuracy: 0.7857\n",
            "Epoch 13/100\n",
            "20/20 [==============================] - 0s 5ms/step - loss: 0.4497 - accuracy: 0.7883 - val_loss: 0.4682 - val_accuracy: 0.7857\n",
            "Epoch 14/100\n",
            "20/20 [==============================] - 0s 4ms/step - loss: 0.4479 - accuracy: 0.7866 - val_loss: 0.4678 - val_accuracy: 0.7857\n",
            "Epoch 15/100\n",
            "20/20 [==============================] - 0s 5ms/step - loss: 0.4463 - accuracy: 0.7818 - val_loss: 0.4679 - val_accuracy: 0.7922\n",
            "Epoch 16/100\n",
            "20/20 [==============================] - 0s 5ms/step - loss: 0.4438 - accuracy: 0.7818 - val_loss: 0.4643 - val_accuracy: 0.7987\n",
            "Epoch 17/100\n",
            "20/20 [==============================] - 0s 4ms/step - loss: 0.4426 - accuracy: 0.7850 - val_loss: 0.4626 - val_accuracy: 0.8052\n",
            "Epoch 18/100\n",
            "20/20 [==============================] - 0s 4ms/step - loss: 0.4417 - accuracy: 0.7866 - val_loss: 0.4621 - val_accuracy: 0.7987\n",
            "Epoch 19/100\n",
            "20/20 [==============================] - 0s 4ms/step - loss: 0.4402 - accuracy: 0.7866 - val_loss: 0.4621 - val_accuracy: 0.7922\n",
            "Epoch 20/100\n",
            "20/20 [==============================] - 0s 5ms/step - loss: 0.4382 - accuracy: 0.7818 - val_loss: 0.4630 - val_accuracy: 0.7987\n",
            "Epoch 21/100\n",
            "20/20 [==============================] - 0s 5ms/step - loss: 0.4377 - accuracy: 0.7850 - val_loss: 0.4609 - val_accuracy: 0.7987\n",
            "Epoch 22/100\n",
            "20/20 [==============================] - 0s 5ms/step - loss: 0.4363 - accuracy: 0.7834 - val_loss: 0.4618 - val_accuracy: 0.7987\n",
            "Epoch 23/100\n",
            "20/20 [==============================] - 0s 4ms/step - loss: 0.4352 - accuracy: 0.7883 - val_loss: 0.4609 - val_accuracy: 0.7922\n",
            "Epoch 24/100\n",
            "20/20 [==============================] - 0s 4ms/step - loss: 0.4345 - accuracy: 0.7866 - val_loss: 0.4621 - val_accuracy: 0.7987\n",
            "Epoch 25/100\n",
            "20/20 [==============================] - 0s 4ms/step - loss: 0.4327 - accuracy: 0.7883 - val_loss: 0.4614 - val_accuracy: 0.7987\n",
            "Epoch 26/100\n",
            "20/20 [==============================] - 0s 4ms/step - loss: 0.4321 - accuracy: 0.7915 - val_loss: 0.4630 - val_accuracy: 0.7922\n",
            "Epoch 27/100\n",
            "20/20 [==============================] - 0s 5ms/step - loss: 0.4311 - accuracy: 0.7850 - val_loss: 0.4643 - val_accuracy: 0.8052\n",
            "Epoch 28/100\n",
            "20/20 [==============================] - 0s 4ms/step - loss: 0.4306 - accuracy: 0.7866 - val_loss: 0.4623 - val_accuracy: 0.7857\n",
            "Epoch 29/100\n",
            "20/20 [==============================] - 0s 5ms/step - loss: 0.4298 - accuracy: 0.7866 - val_loss: 0.4613 - val_accuracy: 0.8182\n",
            "Epoch 30/100\n",
            "20/20 [==============================] - 0s 4ms/step - loss: 0.4287 - accuracy: 0.7883 - val_loss: 0.4615 - val_accuracy: 0.8117\n",
            "Epoch 31/100\n",
            "20/20 [==============================] - 0s 4ms/step - loss: 0.4278 - accuracy: 0.7899 - val_loss: 0.4608 - val_accuracy: 0.8117\n",
            "Epoch 32/100\n",
            "20/20 [==============================] - 0s 4ms/step - loss: 0.4270 - accuracy: 0.7834 - val_loss: 0.4611 - val_accuracy: 0.8052\n",
            "Epoch 33/100\n",
            "20/20 [==============================] - 0s 4ms/step - loss: 0.4267 - accuracy: 0.7899 - val_loss: 0.4606 - val_accuracy: 0.8117\n",
            "Epoch 34/100\n",
            "20/20 [==============================] - 0s 6ms/step - loss: 0.4249 - accuracy: 0.7915 - val_loss: 0.4617 - val_accuracy: 0.8117\n",
            "Epoch 35/100\n",
            "20/20 [==============================] - 0s 5ms/step - loss: 0.4249 - accuracy: 0.7883 - val_loss: 0.4617 - val_accuracy: 0.8117\n",
            "Epoch 36/100\n",
            "20/20 [==============================] - 0s 9ms/step - loss: 0.4237 - accuracy: 0.7915 - val_loss: 0.4597 - val_accuracy: 0.8052\n",
            "Epoch 37/100\n",
            "20/20 [==============================] - 0s 7ms/step - loss: 0.4233 - accuracy: 0.7899 - val_loss: 0.4594 - val_accuracy: 0.8052\n",
            "Epoch 38/100\n",
            "20/20 [==============================] - 0s 6ms/step - loss: 0.4236 - accuracy: 0.7948 - val_loss: 0.4626 - val_accuracy: 0.8117\n",
            "Epoch 39/100\n",
            "20/20 [==============================] - 0s 7ms/step - loss: 0.4220 - accuracy: 0.7964 - val_loss: 0.4639 - val_accuracy: 0.8117\n",
            "Epoch 40/100\n",
            "20/20 [==============================] - 0s 6ms/step - loss: 0.4206 - accuracy: 0.7980 - val_loss: 0.4623 - val_accuracy: 0.8117\n",
            "Epoch 41/100\n",
            "20/20 [==============================] - 0s 7ms/step - loss: 0.4215 - accuracy: 0.8029 - val_loss: 0.4614 - val_accuracy: 0.8117\n",
            "Epoch 42/100\n",
            "20/20 [==============================] - 0s 6ms/step - loss: 0.4197 - accuracy: 0.7980 - val_loss: 0.4600 - val_accuracy: 0.8182\n",
            "Epoch 43/100\n",
            "20/20 [==============================] - 0s 6ms/step - loss: 0.4188 - accuracy: 0.7980 - val_loss: 0.4604 - val_accuracy: 0.8182\n",
            "Epoch 44/100\n",
            "20/20 [==============================] - 0s 6ms/step - loss: 0.4178 - accuracy: 0.7932 - val_loss: 0.4603 - val_accuracy: 0.8182\n",
            "Epoch 45/100\n",
            "20/20 [==============================] - 0s 7ms/step - loss: 0.4169 - accuracy: 0.8013 - val_loss: 0.4623 - val_accuracy: 0.8052\n",
            "Epoch 46/100\n",
            "20/20 [==============================] - 0s 7ms/step - loss: 0.4165 - accuracy: 0.8029 - val_loss: 0.4625 - val_accuracy: 0.8117\n",
            "Epoch 47/100\n",
            "20/20 [==============================] - 0s 8ms/step - loss: 0.4164 - accuracy: 0.8013 - val_loss: 0.4637 - val_accuracy: 0.7987\n",
            "Epoch 48/100\n",
            "20/20 [==============================] - 0s 7ms/step - loss: 0.4157 - accuracy: 0.8013 - val_loss: 0.4637 - val_accuracy: 0.8117\n",
            "Epoch 49/100\n",
            "20/20 [==============================] - 0s 7ms/step - loss: 0.4149 - accuracy: 0.8013 - val_loss: 0.4614 - val_accuracy: 0.8117\n",
            "Epoch 50/100\n",
            "20/20 [==============================] - 0s 6ms/step - loss: 0.4137 - accuracy: 0.8013 - val_loss: 0.4615 - val_accuracy: 0.8182\n",
            "Epoch 51/100\n",
            "20/20 [==============================] - 0s 10ms/step - loss: 0.4123 - accuracy: 0.8013 - val_loss: 0.4608 - val_accuracy: 0.8312\n",
            "Epoch 52/100\n",
            "20/20 [==============================] - 0s 7ms/step - loss: 0.4120 - accuracy: 0.8029 - val_loss: 0.4598 - val_accuracy: 0.8052\n",
            "Epoch 53/100\n",
            "20/20 [==============================] - 0s 6ms/step - loss: 0.4116 - accuracy: 0.8062 - val_loss: 0.4619 - val_accuracy: 0.8182\n",
            "Epoch 54/100\n",
            "20/20 [==============================] - 0s 7ms/step - loss: 0.4109 - accuracy: 0.8046 - val_loss: 0.4619 - val_accuracy: 0.8182\n",
            "Epoch 55/100\n",
            "20/20 [==============================] - 0s 7ms/step - loss: 0.4115 - accuracy: 0.8046 - val_loss: 0.4592 - val_accuracy: 0.8117\n",
            "Epoch 56/100\n",
            "20/20 [==============================] - 0s 7ms/step - loss: 0.4100 - accuracy: 0.8094 - val_loss: 0.4594 - val_accuracy: 0.8182\n",
            "Epoch 57/100\n",
            "20/20 [==============================] - 0s 7ms/step - loss: 0.4097 - accuracy: 0.8094 - val_loss: 0.4622 - val_accuracy: 0.8182\n",
            "Epoch 58/100\n",
            "20/20 [==============================] - 0s 8ms/step - loss: 0.4085 - accuracy: 0.8094 - val_loss: 0.4593 - val_accuracy: 0.8117\n",
            "Epoch 59/100\n",
            "20/20 [==============================] - 0s 8ms/step - loss: 0.4078 - accuracy: 0.8127 - val_loss: 0.4578 - val_accuracy: 0.8117\n",
            "Epoch 60/100\n",
            "20/20 [==============================] - 0s 6ms/step - loss: 0.4078 - accuracy: 0.8127 - val_loss: 0.4588 - val_accuracy: 0.8117\n",
            "Epoch 61/100\n",
            "20/20 [==============================] - 0s 6ms/step - loss: 0.4078 - accuracy: 0.8062 - val_loss: 0.4567 - val_accuracy: 0.8052\n",
            "Epoch 62/100\n",
            "20/20 [==============================] - 0s 7ms/step - loss: 0.4084 - accuracy: 0.8127 - val_loss: 0.4585 - val_accuracy: 0.8247\n",
            "Epoch 63/100\n",
            "20/20 [==============================] - 0s 5ms/step - loss: 0.4070 - accuracy: 0.8094 - val_loss: 0.4621 - val_accuracy: 0.8117\n",
            "Epoch 64/100\n",
            "20/20 [==============================] - 0s 4ms/step - loss: 0.4083 - accuracy: 0.8078 - val_loss: 0.4586 - val_accuracy: 0.8117\n",
            "Epoch 65/100\n",
            "20/20 [==============================] - 0s 4ms/step - loss: 0.4056 - accuracy: 0.8143 - val_loss: 0.4574 - val_accuracy: 0.8052\n",
            "Epoch 66/100\n",
            "20/20 [==============================] - 0s 5ms/step - loss: 0.4049 - accuracy: 0.8078 - val_loss: 0.4569 - val_accuracy: 0.8247\n",
            "Epoch 67/100\n",
            "20/20 [==============================] - 0s 5ms/step - loss: 0.4049 - accuracy: 0.8127 - val_loss: 0.4611 - val_accuracy: 0.8247\n",
            "Epoch 68/100\n",
            "20/20 [==============================] - 0s 5ms/step - loss: 0.4042 - accuracy: 0.8225 - val_loss: 0.4556 - val_accuracy: 0.8247\n",
            "Epoch 69/100\n",
            "20/20 [==============================] - 0s 4ms/step - loss: 0.4034 - accuracy: 0.8127 - val_loss: 0.4590 - val_accuracy: 0.8182\n",
            "Epoch 70/100\n",
            "20/20 [==============================] - 0s 5ms/step - loss: 0.4027 - accuracy: 0.8094 - val_loss: 0.4613 - val_accuracy: 0.8247\n",
            "Epoch 71/100\n",
            "20/20 [==============================] - 0s 4ms/step - loss: 0.4021 - accuracy: 0.8111 - val_loss: 0.4598 - val_accuracy: 0.8247\n",
            "Epoch 72/100\n",
            "20/20 [==============================] - 0s 4ms/step - loss: 0.4017 - accuracy: 0.8160 - val_loss: 0.4615 - val_accuracy: 0.8247\n",
            "Epoch 73/100\n",
            "20/20 [==============================] - 0s 5ms/step - loss: 0.4020 - accuracy: 0.8143 - val_loss: 0.4593 - val_accuracy: 0.8117\n",
            "Epoch 74/100\n",
            "20/20 [==============================] - 0s 5ms/step - loss: 0.4007 - accuracy: 0.8176 - val_loss: 0.4604 - val_accuracy: 0.8247\n",
            "Epoch 75/100\n",
            "20/20 [==============================] - 0s 5ms/step - loss: 0.4006 - accuracy: 0.8192 - val_loss: 0.4610 - val_accuracy: 0.8247\n",
            "Epoch 76/100\n",
            "20/20 [==============================] - 0s 5ms/step - loss: 0.4005 - accuracy: 0.8208 - val_loss: 0.4600 - val_accuracy: 0.8117\n",
            "Epoch 77/100\n",
            "20/20 [==============================] - 0s 5ms/step - loss: 0.4004 - accuracy: 0.8143 - val_loss: 0.4577 - val_accuracy: 0.8182\n",
            "Epoch 78/100\n",
            "20/20 [==============================] - 0s 5ms/step - loss: 0.3992 - accuracy: 0.8143 - val_loss: 0.4595 - val_accuracy: 0.8052\n",
            "Epoch 79/100\n",
            "20/20 [==============================] - 0s 4ms/step - loss: 0.3993 - accuracy: 0.8208 - val_loss: 0.4587 - val_accuracy: 0.8117\n",
            "Epoch 80/100\n",
            "20/20 [==============================] - 0s 4ms/step - loss: 0.3976 - accuracy: 0.8192 - val_loss: 0.4605 - val_accuracy: 0.8247\n",
            "Epoch 81/100\n",
            "20/20 [==============================] - 0s 4ms/step - loss: 0.3981 - accuracy: 0.8225 - val_loss: 0.4609 - val_accuracy: 0.8182\n",
            "Epoch 82/100\n",
            "20/20 [==============================] - 0s 4ms/step - loss: 0.3971 - accuracy: 0.8176 - val_loss: 0.4608 - val_accuracy: 0.8247\n",
            "Epoch 83/100\n",
            "20/20 [==============================] - 0s 4ms/step - loss: 0.3969 - accuracy: 0.8094 - val_loss: 0.4564 - val_accuracy: 0.8117\n",
            "Epoch 84/100\n",
            "20/20 [==============================] - 0s 4ms/step - loss: 0.3965 - accuracy: 0.8143 - val_loss: 0.4566 - val_accuracy: 0.8182\n",
            "Epoch 85/100\n",
            "20/20 [==============================] - 0s 5ms/step - loss: 0.3965 - accuracy: 0.8192 - val_loss: 0.4581 - val_accuracy: 0.8182\n",
            "Epoch 86/100\n",
            "20/20 [==============================] - 0s 5ms/step - loss: 0.3958 - accuracy: 0.8257 - val_loss: 0.4582 - val_accuracy: 0.8182\n",
            "Epoch 87/100\n",
            "20/20 [==============================] - 0s 5ms/step - loss: 0.3948 - accuracy: 0.8257 - val_loss: 0.4606 - val_accuracy: 0.8182\n",
            "Epoch 88/100\n",
            "20/20 [==============================] - 0s 4ms/step - loss: 0.3945 - accuracy: 0.8192 - val_loss: 0.4601 - val_accuracy: 0.8182\n",
            "Epoch 89/100\n",
            "20/20 [==============================] - 0s 5ms/step - loss: 0.3950 - accuracy: 0.8192 - val_loss: 0.4575 - val_accuracy: 0.8247\n",
            "Epoch 90/100\n",
            "20/20 [==============================] - 0s 4ms/step - loss: 0.3941 - accuracy: 0.8192 - val_loss: 0.4596 - val_accuracy: 0.8117\n",
            "Epoch 91/100\n",
            "20/20 [==============================] - 0s 4ms/step - loss: 0.3945 - accuracy: 0.8143 - val_loss: 0.4576 - val_accuracy: 0.8117\n",
            "Epoch 92/100\n",
            "20/20 [==============================] - 0s 5ms/step - loss: 0.3924 - accuracy: 0.8225 - val_loss: 0.4578 - val_accuracy: 0.8182\n",
            "Epoch 93/100\n",
            "20/20 [==============================] - 0s 5ms/step - loss: 0.3920 - accuracy: 0.8274 - val_loss: 0.4574 - val_accuracy: 0.8182\n",
            "Epoch 94/100\n",
            "20/20 [==============================] - 0s 5ms/step - loss: 0.3933 - accuracy: 0.8192 - val_loss: 0.4566 - val_accuracy: 0.8117\n",
            "Epoch 95/100\n",
            "20/20 [==============================] - 0s 4ms/step - loss: 0.3918 - accuracy: 0.8225 - val_loss: 0.4567 - val_accuracy: 0.8052\n",
            "Epoch 96/100\n",
            "20/20 [==============================] - 0s 5ms/step - loss: 0.3912 - accuracy: 0.8208 - val_loss: 0.4584 - val_accuracy: 0.8117\n",
            "Epoch 97/100\n",
            "20/20 [==============================] - 0s 6ms/step - loss: 0.3904 - accuracy: 0.8241 - val_loss: 0.4582 - val_accuracy: 0.8117\n",
            "Epoch 98/100\n",
            "20/20 [==============================] - 0s 4ms/step - loss: 0.3908 - accuracy: 0.8225 - val_loss: 0.4615 - val_accuracy: 0.8117\n",
            "Epoch 99/100\n",
            "20/20 [==============================] - 0s 4ms/step - loss: 0.3899 - accuracy: 0.8208 - val_loss: 0.4561 - val_accuracy: 0.8247\n",
            "Epoch 100/100\n",
            "20/20 [==============================] - 0s 4ms/step - loss: 0.3894 - accuracy: 0.8241 - val_loss: 0.4572 - val_accuracy: 0.8247\n"
          ]
        },
        {
          "output_type": "execute_result",
          "data": {
            "text/plain": [
              "<keras.src.callbacks.History at 0x7b65b3d01d50>"
            ]
          },
          "metadata": {},
          "execution_count": 30
        }
      ]
    },
    {
      "cell_type": "code",
      "source": [
        "model.summary()"
      ],
      "metadata": {
        "colab": {
          "base_uri": "https://localhost:8080/"
        },
        "id": "x43f0O483HYH",
        "outputId": "55444bc9-aa73-4f6f-fb18-e6e594440f03"
      },
      "execution_count": 31,
      "outputs": [
        {
          "output_type": "stream",
          "name": "stdout",
          "text": [
            "Model: \"sequential\"\n",
            "_________________________________________________________________\n",
            " Layer (type)                Output Shape              Param #   \n",
            "=================================================================\n",
            " dense (Dense)               (None, 104)               936       \n",
            "                                                                 \n",
            " dense_1 (Dense)             (None, 1)                 105       \n",
            "                                                                 \n",
            "=================================================================\n",
            "Total params: 1041 (4.07 KB)\n",
            "Trainable params: 1041 (4.07 KB)\n",
            "Non-trainable params: 0 (0.00 Byte)\n",
            "_________________________________________________________________\n"
          ]
        }
      ]
    },
    {
      "cell_type": "markdown",
      "source": [
        "# Optimizating No of hidden layers"
      ],
      "metadata": {
        "id": "po9ADuYV9FMu"
      }
    },
    {
      "cell_type": "code",
      "source": [
        "def build_model(hp):\n",
        "  model = Sequential()\n",
        "  model.add(Dense(104, input_dim = 8, activation = \"relu\"))\n",
        "\n",
        "  for i in range(hp.Int(\"num_layers\",min_value = 1, max_value = 10)):\n",
        "    model.add(Dense(104,activation = \"relu\"))\n",
        "  model.add(Dense(1,activation = \"sigmoid\"))\n",
        "\n",
        "  model.compile(optimizer=\"adam\",loss = \"binary_crossentropy\", metrics = [\"accuracy\"])\n",
        "\n",
        "  return model"
      ],
      "metadata": {
        "id": "iRlzoj3Z3JY1"
      },
      "execution_count": 35,
      "outputs": []
    },
    {
      "cell_type": "code",
      "source": [
        "tuner = kt.RandomSearch(\n",
        "    build_model,\n",
        "    max_trials = 5,\n",
        "    objective = \"accuracy\",\n",
        "    directory = \"mydirectory\",\n",
        "    project_name = \"num_layers\"\n",
        ")"
      ],
      "metadata": {
        "id": "7ba_C5SD-MLL"
      },
      "execution_count": 36,
      "outputs": []
    },
    {
      "cell_type": "code",
      "source": [
        "tuner.search(X_train,y_train, epochs = 5, validation_data = (X_test,y_test))"
      ],
      "metadata": {
        "colab": {
          "base_uri": "https://localhost:8080/"
        },
        "id": "IUEsdYUd-PLM",
        "outputId": "cfb75f6c-6bc1-45fd-bd92-1ea6c5934a28"
      },
      "execution_count": 37,
      "outputs": [
        {
          "output_type": "stream",
          "name": "stdout",
          "text": [
            "Trial 5 Complete [00h 00m 05s]\n",
            "accuracy: 0.7882736325263977\n",
            "\n",
            "Best accuracy So Far: 0.7996742725372314\n",
            "Total elapsed time: 00h 00m 21s\n"
          ]
        }
      ]
    },
    {
      "cell_type": "code",
      "source": [
        "tuner.get_best_hyperparameters()[0].values"
      ],
      "metadata": {
        "colab": {
          "base_uri": "https://localhost:8080/"
        },
        "id": "VJcJlnC0_BoW",
        "outputId": "fff6cf40-9541-4921-c5bd-88cfda3a2ee1"
      },
      "execution_count": 38,
      "outputs": [
        {
          "output_type": "execute_result",
          "data": {
            "text/plain": [
              "{'num_layers': 9}"
            ]
          },
          "metadata": {},
          "execution_count": 38
        }
      ]
    },
    {
      "cell_type": "code",
      "source": [
        "model = tuner.get_best_models(num_models=1)[0]"
      ],
      "metadata": {
        "id": "_VvIwfHRACg2"
      },
      "execution_count": 39,
      "outputs": []
    },
    {
      "cell_type": "code",
      "source": [
        "model.fit(X_train, y_train, batch_size = 32, epochs = 100, initial_epoch = 5, validation_data =(X_test,y_test))"
      ],
      "metadata": {
        "colab": {
          "base_uri": "https://localhost:8080/"
        },
        "id": "XoQreLn5AKf7",
        "outputId": "8d05cbc2-a74f-4dff-887e-59dd0271ccef"
      },
      "execution_count": 40,
      "outputs": [
        {
          "output_type": "stream",
          "name": "stdout",
          "text": [
            "Epoch 6/100\n",
            "20/20 [==============================] - 3s 22ms/step - loss: 0.4103 - accuracy: 0.8127 - val_loss: 0.4988 - val_accuracy: 0.7727\n",
            "Epoch 7/100\n",
            "20/20 [==============================] - 0s 7ms/step - loss: 0.4108 - accuracy: 0.8241 - val_loss: 0.4923 - val_accuracy: 0.8117\n",
            "Epoch 8/100\n",
            "20/20 [==============================] - 0s 8ms/step - loss: 0.3970 - accuracy: 0.8306 - val_loss: 0.5118 - val_accuracy: 0.7987\n",
            "Epoch 9/100\n",
            "20/20 [==============================] - 0s 8ms/step - loss: 0.3837 - accuracy: 0.8355 - val_loss: 0.4956 - val_accuracy: 0.8117\n",
            "Epoch 10/100\n",
            "20/20 [==============================] - 0s 7ms/step - loss: 0.3608 - accuracy: 0.8339 - val_loss: 0.4943 - val_accuracy: 0.7987\n",
            "Epoch 11/100\n",
            "20/20 [==============================] - 0s 7ms/step - loss: 0.3754 - accuracy: 0.8290 - val_loss: 0.4899 - val_accuracy: 0.7922\n",
            "Epoch 12/100\n",
            "20/20 [==============================] - 0s 8ms/step - loss: 0.3363 - accuracy: 0.8648 - val_loss: 0.5267 - val_accuracy: 0.7792\n",
            "Epoch 13/100\n",
            "20/20 [==============================] - 0s 7ms/step - loss: 0.3600 - accuracy: 0.8371 - val_loss: 0.5555 - val_accuracy: 0.7727\n",
            "Epoch 14/100\n",
            "20/20 [==============================] - 0s 7ms/step - loss: 0.3276 - accuracy: 0.8599 - val_loss: 0.6062 - val_accuracy: 0.7727\n",
            "Epoch 15/100\n",
            "20/20 [==============================] - 0s 7ms/step - loss: 0.2955 - accuracy: 0.8713 - val_loss: 0.5934 - val_accuracy: 0.7532\n",
            "Epoch 16/100\n",
            "20/20 [==============================] - 0s 7ms/step - loss: 0.2890 - accuracy: 0.8958 - val_loss: 0.6408 - val_accuracy: 0.7597\n",
            "Epoch 17/100\n",
            "20/20 [==============================] - 0s 6ms/step - loss: 0.2657 - accuracy: 0.8876 - val_loss: 0.6386 - val_accuracy: 0.7857\n",
            "Epoch 18/100\n",
            "20/20 [==============================] - 0s 6ms/step - loss: 0.2719 - accuracy: 0.8909 - val_loss: 0.6464 - val_accuracy: 0.7468\n",
            "Epoch 19/100\n",
            "20/20 [==============================] - 0s 8ms/step - loss: 0.2172 - accuracy: 0.9218 - val_loss: 0.7712 - val_accuracy: 0.7662\n",
            "Epoch 20/100\n",
            "20/20 [==============================] - 0s 7ms/step - loss: 0.2135 - accuracy: 0.9186 - val_loss: 0.7256 - val_accuracy: 0.7662\n",
            "Epoch 21/100\n",
            "20/20 [==============================] - 0s 7ms/step - loss: 0.2110 - accuracy: 0.9121 - val_loss: 0.9679 - val_accuracy: 0.7273\n",
            "Epoch 22/100\n",
            "20/20 [==============================] - 0s 7ms/step - loss: 0.1914 - accuracy: 0.9283 - val_loss: 0.5990 - val_accuracy: 0.7792\n",
            "Epoch 23/100\n",
            "20/20 [==============================] - 0s 6ms/step - loss: 0.2262 - accuracy: 0.9023 - val_loss: 0.7602 - val_accuracy: 0.7143\n",
            "Epoch 24/100\n",
            "20/20 [==============================] - 0s 7ms/step - loss: 0.2083 - accuracy: 0.9121 - val_loss: 0.7729 - val_accuracy: 0.7727\n",
            "Epoch 25/100\n",
            "20/20 [==============================] - 0s 6ms/step - loss: 0.1771 - accuracy: 0.9300 - val_loss: 0.8000 - val_accuracy: 0.7468\n",
            "Epoch 26/100\n",
            "20/20 [==============================] - 0s 7ms/step - loss: 0.1582 - accuracy: 0.9332 - val_loss: 1.1458 - val_accuracy: 0.7662\n",
            "Epoch 27/100\n",
            "20/20 [==============================] - 0s 7ms/step - loss: 0.1920 - accuracy: 0.9186 - val_loss: 0.7385 - val_accuracy: 0.7857\n",
            "Epoch 28/100\n",
            "20/20 [==============================] - 0s 7ms/step - loss: 0.1281 - accuracy: 0.9446 - val_loss: 1.0052 - val_accuracy: 0.7208\n",
            "Epoch 29/100\n",
            "20/20 [==============================] - 0s 7ms/step - loss: 0.1576 - accuracy: 0.9381 - val_loss: 0.8381 - val_accuracy: 0.7597\n",
            "Epoch 30/100\n",
            "20/20 [==============================] - 0s 6ms/step - loss: 0.1208 - accuracy: 0.9544 - val_loss: 1.1143 - val_accuracy: 0.7338\n",
            "Epoch 31/100\n",
            "20/20 [==============================] - 0s 10ms/step - loss: 0.0924 - accuracy: 0.9707 - val_loss: 1.3961 - val_accuracy: 0.7727\n",
            "Epoch 32/100\n",
            "20/20 [==============================] - 0s 11ms/step - loss: 0.1019 - accuracy: 0.9642 - val_loss: 1.3358 - val_accuracy: 0.7338\n",
            "Epoch 33/100\n",
            "20/20 [==============================] - 0s 12ms/step - loss: 0.0607 - accuracy: 0.9772 - val_loss: 1.6614 - val_accuracy: 0.7727\n",
            "Epoch 34/100\n",
            "20/20 [==============================] - 0s 11ms/step - loss: 0.1976 - accuracy: 0.9300 - val_loss: 0.7589 - val_accuracy: 0.7078\n",
            "Epoch 35/100\n",
            "20/20 [==============================] - 0s 11ms/step - loss: 0.1235 - accuracy: 0.9577 - val_loss: 1.0496 - val_accuracy: 0.7338\n",
            "Epoch 36/100\n",
            "20/20 [==============================] - 0s 11ms/step - loss: 0.0520 - accuracy: 0.9837 - val_loss: 1.6758 - val_accuracy: 0.7468\n",
            "Epoch 37/100\n",
            "20/20 [==============================] - 0s 11ms/step - loss: 0.0367 - accuracy: 0.9870 - val_loss: 1.5813 - val_accuracy: 0.7597\n",
            "Epoch 38/100\n",
            "20/20 [==============================] - 0s 11ms/step - loss: 0.0836 - accuracy: 0.9756 - val_loss: 1.2454 - val_accuracy: 0.7532\n",
            "Epoch 39/100\n",
            "20/20 [==============================] - 0s 12ms/step - loss: 0.0779 - accuracy: 0.9674 - val_loss: 1.1391 - val_accuracy: 0.7143\n",
            "Epoch 40/100\n",
            "20/20 [==============================] - 0s 12ms/step - loss: 0.0710 - accuracy: 0.9674 - val_loss: 1.4043 - val_accuracy: 0.7597\n",
            "Epoch 41/100\n",
            "20/20 [==============================] - 0s 11ms/step - loss: 0.0842 - accuracy: 0.9723 - val_loss: 1.6172 - val_accuracy: 0.7403\n",
            "Epoch 42/100\n",
            "20/20 [==============================] - 0s 14ms/step - loss: 0.1717 - accuracy: 0.9381 - val_loss: 0.8893 - val_accuracy: 0.7727\n",
            "Epoch 43/100\n",
            "20/20 [==============================] - 0s 13ms/step - loss: 0.1063 - accuracy: 0.9609 - val_loss: 1.0680 - val_accuracy: 0.7662\n",
            "Epoch 44/100\n",
            "20/20 [==============================] - 0s 11ms/step - loss: 0.0417 - accuracy: 0.9886 - val_loss: 1.6472 - val_accuracy: 0.7468\n",
            "Epoch 45/100\n",
            "20/20 [==============================] - 0s 11ms/step - loss: 0.0177 - accuracy: 0.9935 - val_loss: 2.0446 - val_accuracy: 0.7338\n",
            "Epoch 46/100\n",
            "20/20 [==============================] - 0s 13ms/step - loss: 0.0215 - accuracy: 0.9935 - val_loss: 2.0228 - val_accuracy: 0.7662\n",
            "Epoch 47/100\n",
            "20/20 [==============================] - 0s 8ms/step - loss: 0.0376 - accuracy: 0.9886 - val_loss: 1.6633 - val_accuracy: 0.7338\n",
            "Epoch 48/100\n",
            "20/20 [==============================] - 0s 9ms/step - loss: 0.0290 - accuracy: 0.9886 - val_loss: 1.8732 - val_accuracy: 0.7468\n",
            "Epoch 49/100\n",
            "20/20 [==============================] - 0s 8ms/step - loss: 0.0214 - accuracy: 0.9902 - val_loss: 2.1068 - val_accuracy: 0.7338\n",
            "Epoch 50/100\n",
            "20/20 [==============================] - 0s 7ms/step - loss: 0.1023 - accuracy: 0.9707 - val_loss: 1.2602 - val_accuracy: 0.7143\n",
            "Epoch 51/100\n",
            "20/20 [==============================] - 0s 8ms/step - loss: 0.0658 - accuracy: 0.9756 - val_loss: 1.1054 - val_accuracy: 0.7532\n",
            "Epoch 52/100\n",
            "20/20 [==============================] - 0s 9ms/step - loss: 0.0199 - accuracy: 0.9935 - val_loss: 1.9162 - val_accuracy: 0.7338\n",
            "Epoch 53/100\n",
            "20/20 [==============================] - 0s 7ms/step - loss: 0.0445 - accuracy: 0.9870 - val_loss: 1.8568 - val_accuracy: 0.7013\n",
            "Epoch 54/100\n",
            "20/20 [==============================] - 0s 7ms/step - loss: 0.0867 - accuracy: 0.9739 - val_loss: 1.1260 - val_accuracy: 0.7403\n",
            "Epoch 55/100\n",
            "20/20 [==============================] - 0s 8ms/step - loss: 0.0982 - accuracy: 0.9756 - val_loss: 1.1542 - val_accuracy: 0.7143\n",
            "Epoch 56/100\n",
            "20/20 [==============================] - 0s 7ms/step - loss: 0.0471 - accuracy: 0.9853 - val_loss: 1.5170 - val_accuracy: 0.7143\n",
            "Epoch 57/100\n",
            "20/20 [==============================] - 0s 7ms/step - loss: 0.0292 - accuracy: 0.9902 - val_loss: 1.5458 - val_accuracy: 0.6623\n",
            "Epoch 58/100\n",
            "20/20 [==============================] - 0s 9ms/step - loss: 0.0369 - accuracy: 0.9886 - val_loss: 2.1162 - val_accuracy: 0.7208\n",
            "Epoch 59/100\n",
            "20/20 [==============================] - 0s 8ms/step - loss: 0.0521 - accuracy: 0.9886 - val_loss: 1.2686 - val_accuracy: 0.7338\n",
            "Epoch 60/100\n",
            "20/20 [==============================] - 0s 8ms/step - loss: 0.0161 - accuracy: 0.9951 - val_loss: 1.7502 - val_accuracy: 0.7013\n",
            "Epoch 61/100\n",
            "20/20 [==============================] - 0s 7ms/step - loss: 0.0161 - accuracy: 0.9967 - val_loss: 1.9600 - val_accuracy: 0.7143\n",
            "Epoch 62/100\n",
            "20/20 [==============================] - 0s 7ms/step - loss: 0.0125 - accuracy: 0.9984 - val_loss: 2.0937 - val_accuracy: 0.7143\n",
            "Epoch 63/100\n",
            "20/20 [==============================] - 0s 7ms/step - loss: 0.0045 - accuracy: 0.9984 - val_loss: 2.3601 - val_accuracy: 0.7013\n",
            "Epoch 64/100\n",
            "20/20 [==============================] - 0s 7ms/step - loss: 0.0114 - accuracy: 0.9967 - val_loss: 2.0508 - val_accuracy: 0.7208\n",
            "Epoch 65/100\n",
            "20/20 [==============================] - 0s 7ms/step - loss: 0.0089 - accuracy: 0.9967 - val_loss: 1.9712 - val_accuracy: 0.7208\n",
            "Epoch 66/100\n",
            "20/20 [==============================] - 0s 6ms/step - loss: 0.0089 - accuracy: 0.9967 - val_loss: 2.1948 - val_accuracy: 0.7208\n",
            "Epoch 67/100\n",
            "20/20 [==============================] - 0s 6ms/step - loss: 0.0032 - accuracy: 0.9984 - val_loss: 2.2999 - val_accuracy: 0.7208\n",
            "Epoch 68/100\n",
            "20/20 [==============================] - 0s 7ms/step - loss: 0.0010 - accuracy: 1.0000 - val_loss: 2.4422 - val_accuracy: 0.7208\n",
            "Epoch 69/100\n",
            "20/20 [==============================] - 0s 7ms/step - loss: 6.7288e-04 - accuracy: 1.0000 - val_loss: 2.5577 - val_accuracy: 0.7208\n",
            "Epoch 70/100\n",
            "20/20 [==============================] - 0s 7ms/step - loss: 4.9112e-04 - accuracy: 1.0000 - val_loss: 2.6538 - val_accuracy: 0.7208\n",
            "Epoch 71/100\n",
            "20/20 [==============================] - 0s 7ms/step - loss: 3.7352e-04 - accuracy: 1.0000 - val_loss: 2.7324 - val_accuracy: 0.7208\n",
            "Epoch 72/100\n",
            "20/20 [==============================] - 0s 8ms/step - loss: 3.0870e-04 - accuracy: 1.0000 - val_loss: 2.7967 - val_accuracy: 0.7208\n",
            "Epoch 73/100\n",
            "20/20 [==============================] - 0s 7ms/step - loss: 2.4130e-04 - accuracy: 1.0000 - val_loss: 2.8508 - val_accuracy: 0.7208\n",
            "Epoch 74/100\n",
            "20/20 [==============================] - 0s 7ms/step - loss: 2.0386e-04 - accuracy: 1.0000 - val_loss: 2.9022 - val_accuracy: 0.7208\n",
            "Epoch 75/100\n",
            "20/20 [==============================] - 0s 6ms/step - loss: 1.7556e-04 - accuracy: 1.0000 - val_loss: 2.9496 - val_accuracy: 0.7208\n",
            "Epoch 76/100\n",
            "20/20 [==============================] - 0s 7ms/step - loss: 1.5281e-04 - accuracy: 1.0000 - val_loss: 2.9908 - val_accuracy: 0.7208\n",
            "Epoch 77/100\n",
            "20/20 [==============================] - 0s 7ms/step - loss: 1.3505e-04 - accuracy: 1.0000 - val_loss: 3.0311 - val_accuracy: 0.7208\n",
            "Epoch 78/100\n",
            "20/20 [==============================] - 0s 7ms/step - loss: 1.2152e-04 - accuracy: 1.0000 - val_loss: 3.0662 - val_accuracy: 0.7208\n",
            "Epoch 79/100\n",
            "20/20 [==============================] - 0s 9ms/step - loss: 1.0793e-04 - accuracy: 1.0000 - val_loss: 3.1024 - val_accuracy: 0.7208\n",
            "Epoch 80/100\n",
            "20/20 [==============================] - 0s 7ms/step - loss: 9.7862e-05 - accuracy: 1.0000 - val_loss: 3.1333 - val_accuracy: 0.7208\n",
            "Epoch 81/100\n",
            "20/20 [==============================] - 0s 7ms/step - loss: 8.9123e-05 - accuracy: 1.0000 - val_loss: 3.1616 - val_accuracy: 0.7208\n",
            "Epoch 82/100\n",
            "20/20 [==============================] - 0s 6ms/step - loss: 8.1655e-05 - accuracy: 1.0000 - val_loss: 3.1882 - val_accuracy: 0.7208\n",
            "Epoch 83/100\n",
            "20/20 [==============================] - 0s 6ms/step - loss: 7.5266e-05 - accuracy: 1.0000 - val_loss: 3.2152 - val_accuracy: 0.7208\n",
            "Epoch 84/100\n",
            "20/20 [==============================] - 0s 7ms/step - loss: 6.4829e-05 - accuracy: 1.0000 - val_loss: 3.2484 - val_accuracy: 0.7208\n",
            "Epoch 85/100\n",
            "20/20 [==============================] - 0s 8ms/step - loss: 6.0776e-05 - accuracy: 1.0000 - val_loss: 3.2726 - val_accuracy: 0.7208\n",
            "Epoch 86/100\n",
            "20/20 [==============================] - 0s 8ms/step - loss: 5.5939e-05 - accuracy: 1.0000 - val_loss: 3.2939 - val_accuracy: 0.7208\n",
            "Epoch 87/100\n",
            "20/20 [==============================] - 0s 7ms/step - loss: 5.2565e-05 - accuracy: 1.0000 - val_loss: 3.3166 - val_accuracy: 0.7208\n",
            "Epoch 88/100\n",
            "20/20 [==============================] - 0s 7ms/step - loss: 4.8984e-05 - accuracy: 1.0000 - val_loss: 3.3372 - val_accuracy: 0.7208\n",
            "Epoch 89/100\n",
            "20/20 [==============================] - 0s 7ms/step - loss: 4.5745e-05 - accuracy: 1.0000 - val_loss: 3.3574 - val_accuracy: 0.7208\n",
            "Epoch 90/100\n",
            "20/20 [==============================] - 0s 7ms/step - loss: 4.3318e-05 - accuracy: 1.0000 - val_loss: 3.3785 - val_accuracy: 0.7208\n",
            "Epoch 91/100\n",
            "20/20 [==============================] - 0s 8ms/step - loss: 4.0600e-05 - accuracy: 1.0000 - val_loss: 3.3957 - val_accuracy: 0.7208\n",
            "Epoch 92/100\n",
            "20/20 [==============================] - 0s 8ms/step - loss: 3.8462e-05 - accuracy: 1.0000 - val_loss: 3.4136 - val_accuracy: 0.7208\n",
            "Epoch 93/100\n",
            "20/20 [==============================] - 0s 8ms/step - loss: 3.6542e-05 - accuracy: 1.0000 - val_loss: 3.4316 - val_accuracy: 0.7208\n",
            "Epoch 94/100\n",
            "20/20 [==============================] - 0s 8ms/step - loss: 3.4617e-05 - accuracy: 1.0000 - val_loss: 3.4470 - val_accuracy: 0.7208\n",
            "Epoch 95/100\n",
            "20/20 [==============================] - 0s 8ms/step - loss: 3.2840e-05 - accuracy: 1.0000 - val_loss: 3.4648 - val_accuracy: 0.7208\n",
            "Epoch 96/100\n",
            "20/20 [==============================] - 0s 7ms/step - loss: 3.1161e-05 - accuracy: 1.0000 - val_loss: 3.4793 - val_accuracy: 0.7208\n",
            "Epoch 97/100\n",
            "20/20 [==============================] - 0s 7ms/step - loss: 2.9892e-05 - accuracy: 1.0000 - val_loss: 3.4960 - val_accuracy: 0.7208\n",
            "Epoch 98/100\n",
            "20/20 [==============================] - 0s 7ms/step - loss: 2.8490e-05 - accuracy: 1.0000 - val_loss: 3.5113 - val_accuracy: 0.7208\n",
            "Epoch 99/100\n",
            "20/20 [==============================] - 0s 8ms/step - loss: 2.7181e-05 - accuracy: 1.0000 - val_loss: 3.5259 - val_accuracy: 0.7208\n",
            "Epoch 100/100\n",
            "20/20 [==============================] - 0s 7ms/step - loss: 2.6022e-05 - accuracy: 1.0000 - val_loss: 3.5394 - val_accuracy: 0.7208\n"
          ]
        },
        {
          "output_type": "execute_result",
          "data": {
            "text/plain": [
              "<keras.src.callbacks.History at 0x7b65b2fd47c0>"
            ]
          },
          "metadata": {},
          "execution_count": 40
        }
      ]
    },
    {
      "cell_type": "code",
      "source": [
        "model.summary()"
      ],
      "metadata": {
        "colab": {
          "base_uri": "https://localhost:8080/"
        },
        "id": "FLD6wLXkAf4B",
        "outputId": "76761c0d-6b27-40dd-9d8b-e00c55785bd5"
      },
      "execution_count": 41,
      "outputs": [
        {
          "output_type": "stream",
          "name": "stdout",
          "text": [
            "Model: \"sequential\"\n",
            "_________________________________________________________________\n",
            " Layer (type)                Output Shape              Param #   \n",
            "=================================================================\n",
            " dense (Dense)               (None, 104)               936       \n",
            "                                                                 \n",
            " dense_1 (Dense)             (None, 104)               10920     \n",
            "                                                                 \n",
            " dense_2 (Dense)             (None, 104)               10920     \n",
            "                                                                 \n",
            " dense_3 (Dense)             (None, 104)               10920     \n",
            "                                                                 \n",
            " dense_4 (Dense)             (None, 104)               10920     \n",
            "                                                                 \n",
            " dense_5 (Dense)             (None, 104)               10920     \n",
            "                                                                 \n",
            " dense_6 (Dense)             (None, 104)               10920     \n",
            "                                                                 \n",
            " dense_7 (Dense)             (None, 104)               10920     \n",
            "                                                                 \n",
            " dense_8 (Dense)             (None, 104)               10920     \n",
            "                                                                 \n",
            " dense_9 (Dense)             (None, 104)               10920     \n",
            "                                                                 \n",
            " dense_10 (Dense)            (None, 1)                 105       \n",
            "                                                                 \n",
            "=================================================================\n",
            "Total params: 99321 (387.97 KB)\n",
            "Trainable params: 99321 (387.97 KB)\n",
            "Non-trainable params: 0 (0.00 Byte)\n",
            "_________________________________________________________________\n"
          ]
        }
      ]
    },
    {
      "cell_type": "markdown",
      "source": [
        "# optimizing no of units, activation, learning_rate"
      ],
      "metadata": {
        "id": "MJVOGYZBBEmq"
      }
    },
    {
      "cell_type": "code",
      "source": [
        "def build_model(hp):\n",
        "    model = keras.Sequential()\n",
        "    model.add(layers.Flatten())\n",
        "    model.add(\n",
        "        layers.Dense(\n",
        "            # Tune number of units.\n",
        "            units=hp.Int(\"units\", min_value=32, max_value=512, step=32),\n",
        "            # Tune the activation function to use.\n",
        "            activation=hp.Choice(\"activation\", [\"relu\", \"tanh\"]),\n",
        "        )\n",
        "    )\n",
        "    # Tune whether to use dropout.\n",
        "    if hp.Boolean(\"dropout\"):\n",
        "        model.add(layers.Dropout(rate=0.25))\n",
        "    model.add(layers.Dense(1, activation=\"softmax\"))\n",
        "    # Define the optimizer learning rate as a hyperparameter.\n",
        "    learning_rate = hp.Float(\"lr\", min_value=1e-4, max_value=1e-2, sampling=\"log\")\n",
        "    model.compile(\n",
        "        optimizer=keras.optimizers.Adam(learning_rate=learning_rate),\n",
        "        loss=\"categorical_crossentropy\",\n",
        "        metrics=[\"accuracy\"],\n",
        "    )\n",
        "    return model"
      ],
      "metadata": {
        "id": "KlTQYP_bA-qk"
      },
      "execution_count": 43,
      "outputs": []
    },
    {
      "cell_type": "code",
      "source": [
        "tuner = kt.RandomSearch(\n",
        "    build_model,\n",
        "    max_trials = 5,\n",
        "    objective = \"accuracy\",\n",
        "    directory = \"mydirectory\",\n",
        "    project_name = \"nodes_activation_lr\"\n",
        ")"
      ],
      "metadata": {
        "id": "Gu2qD8fLB7--"
      },
      "execution_count": 44,
      "outputs": []
    },
    {
      "cell_type": "code",
      "source": [
        "tuner.search(X_train,y_train, epochs = 5, validation_data = (X_test,y_test))"
      ],
      "metadata": {
        "colab": {
          "base_uri": "https://localhost:8080/"
        },
        "id": "pIC9DQPKCEJ2",
        "outputId": "cf848c20-4887-4a70-bd6f-0a5e0ff971dd"
      },
      "execution_count": 45,
      "outputs": [
        {
          "output_type": "stream",
          "name": "stdout",
          "text": [
            "Trial 5 Complete [00h 00m 03s]\n",
            "accuracy: 0.34690552949905396\n",
            "\n",
            "Best accuracy So Far: 0.34690552949905396\n",
            "Total elapsed time: 00h 00m 13s\n"
          ]
        }
      ]
    },
    {
      "cell_type": "code",
      "source": [
        "tuner.get_best_hyperparameters()[0].values"
      ],
      "metadata": {
        "colab": {
          "base_uri": "https://localhost:8080/"
        },
        "id": "ilRrd975CKBD",
        "outputId": "faa88493-92f0-4bc9-8d67-cb4928266772"
      },
      "execution_count": 46,
      "outputs": [
        {
          "output_type": "execute_result",
          "data": {
            "text/plain": [
              "{'units': 416,\n",
              " 'activation': 'relu',\n",
              " 'dropout': False,\n",
              " 'lr': 0.0010514440542815132}"
            ]
          },
          "metadata": {},
          "execution_count": 46
        }
      ]
    },
    {
      "cell_type": "code",
      "source": [
        "model = tuner.get_best_models(num_models=1)[0]"
      ],
      "metadata": {
        "id": "lAzEHLjxCgqm"
      },
      "execution_count": 47,
      "outputs": []
    },
    {
      "cell_type": "code",
      "source": [
        "model.fit(X_train, y_train, batch_size = 32, epochs = 100, initial_epoch = 5, validation_data =(X_test,y_test))"
      ],
      "metadata": {
        "colab": {
          "base_uri": "https://localhost:8080/"
        },
        "id": "FG4qODMDClUL",
        "outputId": "d23fb99f-f55b-4c15-94b7-72f777cc556d"
      },
      "execution_count": 48,
      "outputs": [
        {
          "output_type": "stream",
          "name": "stdout",
          "text": [
            "Epoch 6/100\n",
            "20/20 [==============================] - 1s 14ms/step - loss: 0.0000e+00 - accuracy: 0.3469 - val_loss: 0.0000e+00 - val_accuracy: 0.3571\n",
            "Epoch 7/100\n",
            "20/20 [==============================] - 0s 5ms/step - loss: 0.0000e+00 - accuracy: 0.3469 - val_loss: 0.0000e+00 - val_accuracy: 0.3571\n",
            "Epoch 8/100\n",
            "20/20 [==============================] - 0s 5ms/step - loss: 0.0000e+00 - accuracy: 0.3469 - val_loss: 0.0000e+00 - val_accuracy: 0.3571\n",
            "Epoch 9/100\n",
            "20/20 [==============================] - 0s 5ms/step - loss: 0.0000e+00 - accuracy: 0.3469 - val_loss: 0.0000e+00 - val_accuracy: 0.3571\n",
            "Epoch 10/100\n",
            "20/20 [==============================] - 0s 6ms/step - loss: 0.0000e+00 - accuracy: 0.3469 - val_loss: 0.0000e+00 - val_accuracy: 0.3571\n",
            "Epoch 11/100\n",
            "20/20 [==============================] - 0s 4ms/step - loss: 0.0000e+00 - accuracy: 0.3469 - val_loss: 0.0000e+00 - val_accuracy: 0.3571\n",
            "Epoch 12/100\n",
            "20/20 [==============================] - 0s 5ms/step - loss: 0.0000e+00 - accuracy: 0.3469 - val_loss: 0.0000e+00 - val_accuracy: 0.3571\n",
            "Epoch 13/100\n",
            "20/20 [==============================] - 0s 4ms/step - loss: 0.0000e+00 - accuracy: 0.3469 - val_loss: 0.0000e+00 - val_accuracy: 0.3571\n",
            "Epoch 14/100\n",
            "20/20 [==============================] - 0s 4ms/step - loss: 0.0000e+00 - accuracy: 0.3469 - val_loss: 0.0000e+00 - val_accuracy: 0.3571\n",
            "Epoch 15/100\n",
            "20/20 [==============================] - 0s 4ms/step - loss: 0.0000e+00 - accuracy: 0.3469 - val_loss: 0.0000e+00 - val_accuracy: 0.3571\n",
            "Epoch 16/100\n",
            "20/20 [==============================] - 0s 5ms/step - loss: 0.0000e+00 - accuracy: 0.3469 - val_loss: 0.0000e+00 - val_accuracy: 0.3571\n",
            "Epoch 17/100\n",
            "20/20 [==============================] - 0s 5ms/step - loss: 0.0000e+00 - accuracy: 0.3469 - val_loss: 0.0000e+00 - val_accuracy: 0.3571\n",
            "Epoch 18/100\n",
            "20/20 [==============================] - 0s 5ms/step - loss: 0.0000e+00 - accuracy: 0.3469 - val_loss: 0.0000e+00 - val_accuracy: 0.3571\n",
            "Epoch 19/100\n",
            "20/20 [==============================] - 0s 5ms/step - loss: 0.0000e+00 - accuracy: 0.3469 - val_loss: 0.0000e+00 - val_accuracy: 0.3571\n",
            "Epoch 20/100\n",
            "20/20 [==============================] - 0s 5ms/step - loss: 0.0000e+00 - accuracy: 0.3469 - val_loss: 0.0000e+00 - val_accuracy: 0.3571\n",
            "Epoch 21/100\n",
            "20/20 [==============================] - 0s 5ms/step - loss: 0.0000e+00 - accuracy: 0.3469 - val_loss: 0.0000e+00 - val_accuracy: 0.3571\n",
            "Epoch 22/100\n",
            "20/20 [==============================] - 0s 5ms/step - loss: 0.0000e+00 - accuracy: 0.3469 - val_loss: 0.0000e+00 - val_accuracy: 0.3571\n",
            "Epoch 23/100\n",
            "20/20 [==============================] - 0s 4ms/step - loss: 0.0000e+00 - accuracy: 0.3469 - val_loss: 0.0000e+00 - val_accuracy: 0.3571\n",
            "Epoch 24/100\n",
            "20/20 [==============================] - 0s 4ms/step - loss: 0.0000e+00 - accuracy: 0.3469 - val_loss: 0.0000e+00 - val_accuracy: 0.3571\n",
            "Epoch 25/100\n",
            "20/20 [==============================] - 0s 5ms/step - loss: 0.0000e+00 - accuracy: 0.3469 - val_loss: 0.0000e+00 - val_accuracy: 0.3571\n",
            "Epoch 26/100\n",
            "20/20 [==============================] - 0s 8ms/step - loss: 0.0000e+00 - accuracy: 0.3469 - val_loss: 0.0000e+00 - val_accuracy: 0.3571\n",
            "Epoch 27/100\n",
            "20/20 [==============================] - 0s 5ms/step - loss: 0.0000e+00 - accuracy: 0.3469 - val_loss: 0.0000e+00 - val_accuracy: 0.3571\n",
            "Epoch 28/100\n",
            "20/20 [==============================] - 0s 4ms/step - loss: 0.0000e+00 - accuracy: 0.3469 - val_loss: 0.0000e+00 - val_accuracy: 0.3571\n",
            "Epoch 29/100\n",
            "20/20 [==============================] - 0s 5ms/step - loss: 0.0000e+00 - accuracy: 0.3469 - val_loss: 0.0000e+00 - val_accuracy: 0.3571\n",
            "Epoch 30/100\n",
            "20/20 [==============================] - 0s 5ms/step - loss: 0.0000e+00 - accuracy: 0.3469 - val_loss: 0.0000e+00 - val_accuracy: 0.3571\n",
            "Epoch 31/100\n",
            "20/20 [==============================] - 0s 4ms/step - loss: 0.0000e+00 - accuracy: 0.3469 - val_loss: 0.0000e+00 - val_accuracy: 0.3571\n",
            "Epoch 32/100\n",
            "20/20 [==============================] - 0s 5ms/step - loss: 0.0000e+00 - accuracy: 0.3469 - val_loss: 0.0000e+00 - val_accuracy: 0.3571\n",
            "Epoch 33/100\n",
            "20/20 [==============================] - 0s 5ms/step - loss: 0.0000e+00 - accuracy: 0.3469 - val_loss: 0.0000e+00 - val_accuracy: 0.3571\n",
            "Epoch 34/100\n",
            "20/20 [==============================] - 0s 5ms/step - loss: 0.0000e+00 - accuracy: 0.3469 - val_loss: 0.0000e+00 - val_accuracy: 0.3571\n",
            "Epoch 35/100\n",
            "20/20 [==============================] - 0s 4ms/step - loss: 0.0000e+00 - accuracy: 0.3469 - val_loss: 0.0000e+00 - val_accuracy: 0.3571\n",
            "Epoch 36/100\n",
            "20/20 [==============================] - 0s 5ms/step - loss: 0.0000e+00 - accuracy: 0.3469 - val_loss: 0.0000e+00 - val_accuracy: 0.3571\n",
            "Epoch 37/100\n",
            "20/20 [==============================] - 0s 5ms/step - loss: 0.0000e+00 - accuracy: 0.3469 - val_loss: 0.0000e+00 - val_accuracy: 0.3571\n",
            "Epoch 38/100\n",
            "20/20 [==============================] - 0s 4ms/step - loss: 0.0000e+00 - accuracy: 0.3469 - val_loss: 0.0000e+00 - val_accuracy: 0.3571\n",
            "Epoch 39/100\n",
            "20/20 [==============================] - 0s 5ms/step - loss: 0.0000e+00 - accuracy: 0.3469 - val_loss: 0.0000e+00 - val_accuracy: 0.3571\n",
            "Epoch 40/100\n",
            "20/20 [==============================] - 0s 5ms/step - loss: 0.0000e+00 - accuracy: 0.3469 - val_loss: 0.0000e+00 - val_accuracy: 0.3571\n",
            "Epoch 41/100\n",
            "20/20 [==============================] - 0s 5ms/step - loss: 0.0000e+00 - accuracy: 0.3469 - val_loss: 0.0000e+00 - val_accuracy: 0.3571\n",
            "Epoch 42/100\n",
            "20/20 [==============================] - 0s 6ms/step - loss: 0.0000e+00 - accuracy: 0.3469 - val_loss: 0.0000e+00 - val_accuracy: 0.3571\n",
            "Epoch 43/100\n",
            "20/20 [==============================] - 0s 5ms/step - loss: 0.0000e+00 - accuracy: 0.3469 - val_loss: 0.0000e+00 - val_accuracy: 0.3571\n",
            "Epoch 44/100\n",
            "20/20 [==============================] - 0s 5ms/step - loss: 0.0000e+00 - accuracy: 0.3469 - val_loss: 0.0000e+00 - val_accuracy: 0.3571\n",
            "Epoch 45/100\n",
            "20/20 [==============================] - 0s 4ms/step - loss: 0.0000e+00 - accuracy: 0.3469 - val_loss: 0.0000e+00 - val_accuracy: 0.3571\n",
            "Epoch 46/100\n",
            "20/20 [==============================] - 0s 5ms/step - loss: 0.0000e+00 - accuracy: 0.3469 - val_loss: 0.0000e+00 - val_accuracy: 0.3571\n",
            "Epoch 47/100\n",
            "20/20 [==============================] - 0s 5ms/step - loss: 0.0000e+00 - accuracy: 0.3469 - val_loss: 0.0000e+00 - val_accuracy: 0.3571\n",
            "Epoch 48/100\n",
            "20/20 [==============================] - 0s 4ms/step - loss: 0.0000e+00 - accuracy: 0.3469 - val_loss: 0.0000e+00 - val_accuracy: 0.3571\n",
            "Epoch 49/100\n",
            "20/20 [==============================] - 0s 5ms/step - loss: 0.0000e+00 - accuracy: 0.3469 - val_loss: 0.0000e+00 - val_accuracy: 0.3571\n",
            "Epoch 50/100\n",
            "20/20 [==============================] - 0s 5ms/step - loss: 0.0000e+00 - accuracy: 0.3469 - val_loss: 0.0000e+00 - val_accuracy: 0.3571\n",
            "Epoch 51/100\n",
            "20/20 [==============================] - 0s 5ms/step - loss: 0.0000e+00 - accuracy: 0.3469 - val_loss: 0.0000e+00 - val_accuracy: 0.3571\n",
            "Epoch 52/100\n",
            "20/20 [==============================] - 0s 4ms/step - loss: 0.0000e+00 - accuracy: 0.3469 - val_loss: 0.0000e+00 - val_accuracy: 0.3571\n",
            "Epoch 53/100\n",
            "20/20 [==============================] - 0s 5ms/step - loss: 0.0000e+00 - accuracy: 0.3469 - val_loss: 0.0000e+00 - val_accuracy: 0.3571\n",
            "Epoch 54/100\n",
            "20/20 [==============================] - 0s 4ms/step - loss: 0.0000e+00 - accuracy: 0.3469 - val_loss: 0.0000e+00 - val_accuracy: 0.3571\n",
            "Epoch 55/100\n",
            "20/20 [==============================] - 0s 5ms/step - loss: 0.0000e+00 - accuracy: 0.3469 - val_loss: 0.0000e+00 - val_accuracy: 0.3571\n",
            "Epoch 56/100\n",
            "20/20 [==============================] - 0s 5ms/step - loss: 0.0000e+00 - accuracy: 0.3469 - val_loss: 0.0000e+00 - val_accuracy: 0.3571\n",
            "Epoch 57/100\n",
            "20/20 [==============================] - 0s 5ms/step - loss: 0.0000e+00 - accuracy: 0.3469 - val_loss: 0.0000e+00 - val_accuracy: 0.3571\n",
            "Epoch 58/100\n",
            "20/20 [==============================] - 0s 4ms/step - loss: 0.0000e+00 - accuracy: 0.3469 - val_loss: 0.0000e+00 - val_accuracy: 0.3571\n",
            "Epoch 59/100\n",
            "20/20 [==============================] - 0s 5ms/step - loss: 0.0000e+00 - accuracy: 0.3469 - val_loss: 0.0000e+00 - val_accuracy: 0.3571\n",
            "Epoch 60/100\n",
            "20/20 [==============================] - 0s 5ms/step - loss: 0.0000e+00 - accuracy: 0.3469 - val_loss: 0.0000e+00 - val_accuracy: 0.3571\n",
            "Epoch 61/100\n",
            "20/20 [==============================] - 0s 5ms/step - loss: 0.0000e+00 - accuracy: 0.3469 - val_loss: 0.0000e+00 - val_accuracy: 0.3571\n",
            "Epoch 62/100\n",
            "20/20 [==============================] - 0s 4ms/step - loss: 0.0000e+00 - accuracy: 0.3469 - val_loss: 0.0000e+00 - val_accuracy: 0.3571\n",
            "Epoch 63/100\n",
            "20/20 [==============================] - 0s 4ms/step - loss: 0.0000e+00 - accuracy: 0.3469 - val_loss: 0.0000e+00 - val_accuracy: 0.3571\n",
            "Epoch 64/100\n",
            "20/20 [==============================] - 0s 4ms/step - loss: 0.0000e+00 - accuracy: 0.3469 - val_loss: 0.0000e+00 - val_accuracy: 0.3571\n",
            "Epoch 65/100\n",
            "20/20 [==============================] - 0s 5ms/step - loss: 0.0000e+00 - accuracy: 0.3469 - val_loss: 0.0000e+00 - val_accuracy: 0.3571\n",
            "Epoch 66/100\n",
            "20/20 [==============================] - 0s 5ms/step - loss: 0.0000e+00 - accuracy: 0.3469 - val_loss: 0.0000e+00 - val_accuracy: 0.3571\n",
            "Epoch 67/100\n",
            "20/20 [==============================] - 0s 8ms/step - loss: 0.0000e+00 - accuracy: 0.3469 - val_loss: 0.0000e+00 - val_accuracy: 0.3571\n",
            "Epoch 68/100\n",
            "20/20 [==============================] - 0s 8ms/step - loss: 0.0000e+00 - accuracy: 0.3469 - val_loss: 0.0000e+00 - val_accuracy: 0.3571\n",
            "Epoch 69/100\n",
            "20/20 [==============================] - 0s 6ms/step - loss: 0.0000e+00 - accuracy: 0.3469 - val_loss: 0.0000e+00 - val_accuracy: 0.3571\n",
            "Epoch 70/100\n",
            "20/20 [==============================] - 0s 6ms/step - loss: 0.0000e+00 - accuracy: 0.3469 - val_loss: 0.0000e+00 - val_accuracy: 0.3571\n",
            "Epoch 71/100\n",
            "20/20 [==============================] - 0s 6ms/step - loss: 0.0000e+00 - accuracy: 0.3469 - val_loss: 0.0000e+00 - val_accuracy: 0.3571\n",
            "Epoch 72/100\n",
            "20/20 [==============================] - 0s 6ms/step - loss: 0.0000e+00 - accuracy: 0.3469 - val_loss: 0.0000e+00 - val_accuracy: 0.3571\n",
            "Epoch 73/100\n",
            "20/20 [==============================] - 0s 8ms/step - loss: 0.0000e+00 - accuracy: 0.3469 - val_loss: 0.0000e+00 - val_accuracy: 0.3571\n",
            "Epoch 74/100\n",
            "20/20 [==============================] - 0s 10ms/step - loss: 0.0000e+00 - accuracy: 0.3469 - val_loss: 0.0000e+00 - val_accuracy: 0.3571\n",
            "Epoch 75/100\n",
            "20/20 [==============================] - 0s 7ms/step - loss: 0.0000e+00 - accuracy: 0.3469 - val_loss: 0.0000e+00 - val_accuracy: 0.3571\n",
            "Epoch 76/100\n",
            "20/20 [==============================] - 0s 6ms/step - loss: 0.0000e+00 - accuracy: 0.3469 - val_loss: 0.0000e+00 - val_accuracy: 0.3571\n",
            "Epoch 77/100\n",
            "20/20 [==============================] - 0s 7ms/step - loss: 0.0000e+00 - accuracy: 0.3469 - val_loss: 0.0000e+00 - val_accuracy: 0.3571\n",
            "Epoch 78/100\n",
            "20/20 [==============================] - 0s 8ms/step - loss: 0.0000e+00 - accuracy: 0.3469 - val_loss: 0.0000e+00 - val_accuracy: 0.3571\n",
            "Epoch 79/100\n",
            "20/20 [==============================] - 0s 7ms/step - loss: 0.0000e+00 - accuracy: 0.3469 - val_loss: 0.0000e+00 - val_accuracy: 0.3571\n",
            "Epoch 80/100\n",
            "20/20 [==============================] - 0s 6ms/step - loss: 0.0000e+00 - accuracy: 0.3469 - val_loss: 0.0000e+00 - val_accuracy: 0.3571\n",
            "Epoch 81/100\n",
            "20/20 [==============================] - 0s 9ms/step - loss: 0.0000e+00 - accuracy: 0.3469 - val_loss: 0.0000e+00 - val_accuracy: 0.3571\n",
            "Epoch 82/100\n",
            "20/20 [==============================] - 0s 8ms/step - loss: 0.0000e+00 - accuracy: 0.3469 - val_loss: 0.0000e+00 - val_accuracy: 0.3571\n",
            "Epoch 83/100\n",
            "20/20 [==============================] - 0s 7ms/step - loss: 0.0000e+00 - accuracy: 0.3469 - val_loss: 0.0000e+00 - val_accuracy: 0.3571\n",
            "Epoch 84/100\n",
            "20/20 [==============================] - 0s 7ms/step - loss: 0.0000e+00 - accuracy: 0.3469 - val_loss: 0.0000e+00 - val_accuracy: 0.3571\n",
            "Epoch 85/100\n",
            "20/20 [==============================] - 0s 6ms/step - loss: 0.0000e+00 - accuracy: 0.3469 - val_loss: 0.0000e+00 - val_accuracy: 0.3571\n",
            "Epoch 86/100\n",
            "20/20 [==============================] - 0s 7ms/step - loss: 0.0000e+00 - accuracy: 0.3469 - val_loss: 0.0000e+00 - val_accuracy: 0.3571\n",
            "Epoch 87/100\n",
            "20/20 [==============================] - 0s 6ms/step - loss: 0.0000e+00 - accuracy: 0.3469 - val_loss: 0.0000e+00 - val_accuracy: 0.3571\n",
            "Epoch 88/100\n",
            "20/20 [==============================] - 0s 9ms/step - loss: 0.0000e+00 - accuracy: 0.3469 - val_loss: 0.0000e+00 - val_accuracy: 0.3571\n",
            "Epoch 89/100\n",
            "20/20 [==============================] - 0s 7ms/step - loss: 0.0000e+00 - accuracy: 0.3469 - val_loss: 0.0000e+00 - val_accuracy: 0.3571\n",
            "Epoch 90/100\n",
            "20/20 [==============================] - 0s 7ms/step - loss: 0.0000e+00 - accuracy: 0.3469 - val_loss: 0.0000e+00 - val_accuracy: 0.3571\n",
            "Epoch 91/100\n",
            "20/20 [==============================] - 0s 5ms/step - loss: 0.0000e+00 - accuracy: 0.3469 - val_loss: 0.0000e+00 - val_accuracy: 0.3571\n",
            "Epoch 92/100\n",
            "20/20 [==============================] - 0s 4ms/step - loss: 0.0000e+00 - accuracy: 0.3469 - val_loss: 0.0000e+00 - val_accuracy: 0.3571\n",
            "Epoch 93/100\n",
            "20/20 [==============================] - 0s 4ms/step - loss: 0.0000e+00 - accuracy: 0.3469 - val_loss: 0.0000e+00 - val_accuracy: 0.3571\n",
            "Epoch 94/100\n",
            "20/20 [==============================] - 0s 4ms/step - loss: 0.0000e+00 - accuracy: 0.3469 - val_loss: 0.0000e+00 - val_accuracy: 0.3571\n",
            "Epoch 95/100\n",
            "20/20 [==============================] - 0s 4ms/step - loss: 0.0000e+00 - accuracy: 0.3469 - val_loss: 0.0000e+00 - val_accuracy: 0.3571\n",
            "Epoch 96/100\n",
            "20/20 [==============================] - 0s 4ms/step - loss: 0.0000e+00 - accuracy: 0.3469 - val_loss: 0.0000e+00 - val_accuracy: 0.3571\n",
            "Epoch 97/100\n",
            "20/20 [==============================] - 0s 4ms/step - loss: 0.0000e+00 - accuracy: 0.3469 - val_loss: 0.0000e+00 - val_accuracy: 0.3571\n",
            "Epoch 98/100\n",
            "20/20 [==============================] - 0s 4ms/step - loss: 0.0000e+00 - accuracy: 0.3469 - val_loss: 0.0000e+00 - val_accuracy: 0.3571\n",
            "Epoch 99/100\n",
            "20/20 [==============================] - 0s 4ms/step - loss: 0.0000e+00 - accuracy: 0.3469 - val_loss: 0.0000e+00 - val_accuracy: 0.3571\n",
            "Epoch 100/100\n",
            "20/20 [==============================] - 0s 4ms/step - loss: 0.0000e+00 - accuracy: 0.3469 - val_loss: 0.0000e+00 - val_accuracy: 0.3571\n"
          ]
        },
        {
          "output_type": "execute_result",
          "data": {
            "text/plain": [
              "<keras.src.callbacks.History at 0x7b65b303dd50>"
            ]
          },
          "metadata": {},
          "execution_count": 48
        }
      ]
    },
    {
      "cell_type": "code",
      "source": [
        "model.summary()"
      ],
      "metadata": {
        "colab": {
          "base_uri": "https://localhost:8080/"
        },
        "id": "0Vvqvj0yCpjw",
        "outputId": "968f710c-8979-45a6-9c66-18eaf886f194"
      },
      "execution_count": 49,
      "outputs": [
        {
          "output_type": "stream",
          "name": "stdout",
          "text": [
            "Model: \"sequential\"\n",
            "_________________________________________________________________\n",
            " Layer (type)                Output Shape              Param #   \n",
            "=================================================================\n",
            " flatten (Flatten)           (None, 8)                 0         \n",
            "                                                                 \n",
            " dense (Dense)               (None, 416)               3744      \n",
            "                                                                 \n",
            " dense_1 (Dense)             (None, 1)                 417       \n",
            "                                                                 \n",
            "=================================================================\n",
            "Total params: 4161 (16.25 KB)\n",
            "Trainable params: 4161 (16.25 KB)\n",
            "Non-trainable params: 0 (0.00 Byte)\n",
            "_________________________________________________________________\n"
          ]
        }
      ]
    },
    {
      "cell_type": "markdown",
      "source": [
        "# optimizing all the hyperparametrs"
      ],
      "metadata": {
        "id": "sCgzzRU6DZer"
      }
    },
    {
      "cell_type": "code",
      "source": [
        "def build_model(hp):\n",
        "\n",
        "  model = Sequential()\n",
        "\n",
        "  counter = 0\n",
        "  for i in range(hp.Int(\"num_layers\", min_value = 1, max_value = 8)):\n",
        "\n",
        "    if counter == 0:\n",
        "      model.add(Dense(hp.Int(\"nodes\" + str(i), min_value = 8, max_value = 512,step =8), activation = hp.Choice(\"activation\" + str(i), values = [\"relu\",\"tanh\"])))\n",
        "      model.add(Dropout(hp.Choice(\"droppout\" + str(i), [0.1,0.2,0.3,0.4,0.5,0.6])))\n",
        "    else:\n",
        "      model.add(Dense(hp.Int(\"nodes\" + str(i), min_value = 8, max_value = 512, step = 8), activation = hp.Choice(\"activation\" + str(i), values = [\"relu\",\"tanh\"])))\n",
        "      model.add(Dropout(hp.Choice(\"droppout\" + str(i), [0.1,0.2,0.3,0.4,0.5,0.6])))\n",
        "\n",
        "    counter += 1\n",
        "\n",
        "  model.add(Dense(1,activation='sigmoid'))\n",
        "  learning_rate = hp.Float(\"lr\", min_value=1e-3, max_value=1, sampling=\"log\")\n",
        "  optimizer=hp.Choice('optimizer', values=['rmsprop','adam','sgd','nadam','adadelta'])\n",
        "\n",
        "  model.compile(optimizer = optimizer,\n",
        "                  loss='binary_crossentropy',\n",
        "                  metrics=['accuracy'],\n",
        "                  )\n",
        "  model.learning_rate = learning_rate\n",
        "\n",
        "  return model\n",
        ""
      ],
      "metadata": {
        "id": "IH1OqwWIDMbQ"
      },
      "execution_count": 66,
      "outputs": []
    },
    {
      "cell_type": "code",
      "source": [
        "tuner = kt.RandomSearch(build_model,\n",
        "                        objective='val_accuracy',\n",
        "                        max_trials=10,\n",
        "                        directory=\"mydir\",\n",
        "                        project_name='final')"
      ],
      "metadata": {
        "id": "2INBV7cQSh6I"
      },
      "execution_count": 67,
      "outputs": []
    },
    {
      "cell_type": "code",
      "source": [
        "tuner.search(X_train,y_train,epochs=10,validation_data=(X_test,y_test))"
      ],
      "metadata": {
        "colab": {
          "base_uri": "https://localhost:8080/"
        },
        "id": "Mwnnb0MPUEzv",
        "outputId": "196c2672-bdb0-4498-9fe9-59a948365e4b"
      },
      "execution_count": 68,
      "outputs": [
        {
          "output_type": "stream",
          "name": "stdout",
          "text": [
            "Trial 10 Complete [00h 00m 04s]\n",
            "val_accuracy: 0.8181818127632141\n",
            "\n",
            "Best val_accuracy So Far: 0.8246753215789795\n",
            "Total elapsed time: 00h 00m 59s\n"
          ]
        }
      ]
    },
    {
      "cell_type": "code",
      "source": [
        "tuner.get_best_hyperparameters()[0].values"
      ],
      "metadata": {
        "colab": {
          "base_uri": "https://localhost:8080/"
        },
        "id": "UIMVYjfFW5Ei",
        "outputId": "4c9d7d16-7ef1-4e0a-8dac-04d1a6268ac7"
      },
      "execution_count": 69,
      "outputs": [
        {
          "output_type": "execute_result",
          "data": {
            "text/plain": [
              "{'num_layers': 6,\n",
              " 'nodes0': 344,\n",
              " 'activation0': 'relu',\n",
              " 'droppout0': 0.6,\n",
              " 'lr': 0.1362601717791948,\n",
              " 'optimizer': 'rmsprop',\n",
              " 'nodes1': 8,\n",
              " 'activation1': 'relu',\n",
              " 'droppout1': 0.1,\n",
              " 'nodes2': 8,\n",
              " 'activation2': 'relu',\n",
              " 'droppout2': 0.1,\n",
              " 'nodes3': 8,\n",
              " 'activation3': 'relu',\n",
              " 'droppout3': 0.1,\n",
              " 'nodes4': 8,\n",
              " 'activation4': 'relu',\n",
              " 'droppout4': 0.1,\n",
              " 'nodes5': 8,\n",
              " 'activation5': 'relu',\n",
              " 'droppout5': 0.1}"
            ]
          },
          "metadata": {},
          "execution_count": 69
        }
      ]
    },
    {
      "cell_type": "code",
      "source": [
        "model = tuner.get_best_models(num_models=1)[0]"
      ],
      "metadata": {
        "id": "iKCIzCSJXcfL"
      },
      "execution_count": 70,
      "outputs": []
    },
    {
      "cell_type": "code",
      "source": [
        "model.fit(X_train,y_train,epochs=300,initial_epoch=10,validation_data=(X_test,y_test))"
      ],
      "metadata": {
        "colab": {
          "base_uri": "https://localhost:8080/"
        },
        "id": "pJGeyTqeXiWF",
        "outputId": "2a1fd940-194e-4bb3-93b0-d26271c7f478"
      },
      "execution_count": 71,
      "outputs": [
        {
          "output_type": "stream",
          "name": "stdout",
          "text": [
            "Epoch 11/300\n",
            "20/20 [==============================] - 3s 17ms/step - loss: 0.5171 - accuracy: 0.7329 - val_loss: 0.4816 - val_accuracy: 0.8117\n",
            "Epoch 12/300\n",
            "20/20 [==============================] - 0s 6ms/step - loss: 0.5039 - accuracy: 0.7410 - val_loss: 0.4793 - val_accuracy: 0.8182\n",
            "Epoch 13/300\n",
            "20/20 [==============================] - 0s 6ms/step - loss: 0.5020 - accuracy: 0.7590 - val_loss: 0.4737 - val_accuracy: 0.8182\n",
            "Epoch 14/300\n",
            "20/20 [==============================] - 0s 6ms/step - loss: 0.4980 - accuracy: 0.7313 - val_loss: 0.4705 - val_accuracy: 0.8247\n",
            "Epoch 15/300\n",
            "20/20 [==============================] - 0s 6ms/step - loss: 0.4869 - accuracy: 0.7280 - val_loss: 0.4758 - val_accuracy: 0.8182\n",
            "Epoch 16/300\n",
            "20/20 [==============================] - 0s 6ms/step - loss: 0.4903 - accuracy: 0.7508 - val_loss: 0.4734 - val_accuracy: 0.8182\n",
            "Epoch 17/300\n",
            "20/20 [==============================] - 0s 7ms/step - loss: 0.5113 - accuracy: 0.7427 - val_loss: 0.4786 - val_accuracy: 0.8182\n",
            "Epoch 18/300\n",
            "20/20 [==============================] - 0s 5ms/step - loss: 0.5015 - accuracy: 0.7378 - val_loss: 0.4754 - val_accuracy: 0.8182\n",
            "Epoch 19/300\n",
            "20/20 [==============================] - 0s 6ms/step - loss: 0.4860 - accuracy: 0.7573 - val_loss: 0.4717 - val_accuracy: 0.8182\n",
            "Epoch 20/300\n",
            "20/20 [==============================] - 0s 6ms/step - loss: 0.4919 - accuracy: 0.7329 - val_loss: 0.4746 - val_accuracy: 0.8117\n",
            "Epoch 21/300\n",
            "20/20 [==============================] - 0s 6ms/step - loss: 0.4864 - accuracy: 0.7769 - val_loss: 0.4751 - val_accuracy: 0.8182\n",
            "Epoch 22/300\n",
            "20/20 [==============================] - 0s 7ms/step - loss: 0.4954 - accuracy: 0.7476 - val_loss: 0.4704 - val_accuracy: 0.8182\n",
            "Epoch 23/300\n",
            "20/20 [==============================] - 0s 7ms/step - loss: 0.4773 - accuracy: 0.7606 - val_loss: 0.4725 - val_accuracy: 0.8182\n",
            "Epoch 24/300\n",
            "20/20 [==============================] - 0s 7ms/step - loss: 0.4719 - accuracy: 0.7655 - val_loss: 0.4709 - val_accuracy: 0.8247\n",
            "Epoch 25/300\n",
            "20/20 [==============================] - 0s 6ms/step - loss: 0.4857 - accuracy: 0.7524 - val_loss: 0.4757 - val_accuracy: 0.8182\n",
            "Epoch 26/300\n",
            "20/20 [==============================] - 0s 5ms/step - loss: 0.5016 - accuracy: 0.7524 - val_loss: 0.4740 - val_accuracy: 0.8247\n",
            "Epoch 27/300\n",
            "20/20 [==============================] - 0s 6ms/step - loss: 0.4830 - accuracy: 0.7850 - val_loss: 0.4738 - val_accuracy: 0.8182\n",
            "Epoch 28/300\n",
            "20/20 [==============================] - 0s 6ms/step - loss: 0.4795 - accuracy: 0.7638 - val_loss: 0.4742 - val_accuracy: 0.8247\n",
            "Epoch 29/300\n",
            "20/20 [==============================] - 0s 6ms/step - loss: 0.4773 - accuracy: 0.7704 - val_loss: 0.4736 - val_accuracy: 0.8182\n",
            "Epoch 30/300\n",
            "20/20 [==============================] - 0s 7ms/step - loss: 0.4828 - accuracy: 0.7606 - val_loss: 0.4720 - val_accuracy: 0.8117\n",
            "Epoch 31/300\n",
            "20/20 [==============================] - 0s 8ms/step - loss: 0.4799 - accuracy: 0.7704 - val_loss: 0.4744 - val_accuracy: 0.8247\n",
            "Epoch 32/300\n",
            "20/20 [==============================] - 0s 6ms/step - loss: 0.4932 - accuracy: 0.7541 - val_loss: 0.4743 - val_accuracy: 0.8247\n",
            "Epoch 33/300\n",
            "20/20 [==============================] - 0s 7ms/step - loss: 0.4804 - accuracy: 0.7590 - val_loss: 0.4769 - val_accuracy: 0.8052\n",
            "Epoch 34/300\n",
            "20/20 [==============================] - 0s 6ms/step - loss: 0.4552 - accuracy: 0.7850 - val_loss: 0.4724 - val_accuracy: 0.8247\n",
            "Epoch 35/300\n",
            "20/20 [==============================] - 0s 7ms/step - loss: 0.4853 - accuracy: 0.7638 - val_loss: 0.4692 - val_accuracy: 0.8247\n",
            "Epoch 36/300\n",
            "20/20 [==============================] - 0s 9ms/step - loss: 0.4926 - accuracy: 0.7671 - val_loss: 0.4714 - val_accuracy: 0.8052\n",
            "Epoch 37/300\n",
            "20/20 [==============================] - 0s 8ms/step - loss: 0.4828 - accuracy: 0.7557 - val_loss: 0.4729 - val_accuracy: 0.8052\n",
            "Epoch 38/300\n",
            "20/20 [==============================] - 0s 7ms/step - loss: 0.4495 - accuracy: 0.7769 - val_loss: 0.4726 - val_accuracy: 0.8052\n",
            "Epoch 39/300\n",
            "20/20 [==============================] - 0s 8ms/step - loss: 0.4719 - accuracy: 0.7785 - val_loss: 0.4723 - val_accuracy: 0.8052\n",
            "Epoch 40/300\n",
            "20/20 [==============================] - 0s 10ms/step - loss: 0.4484 - accuracy: 0.7736 - val_loss: 0.4769 - val_accuracy: 0.8052\n",
            "Epoch 41/300\n",
            "20/20 [==============================] - 0s 8ms/step - loss: 0.4704 - accuracy: 0.7785 - val_loss: 0.4749 - val_accuracy: 0.8052\n",
            "Epoch 42/300\n",
            "20/20 [==============================] - 0s 7ms/step - loss: 0.4633 - accuracy: 0.7899 - val_loss: 0.4713 - val_accuracy: 0.8052\n",
            "Epoch 43/300\n",
            "20/20 [==============================] - 0s 14ms/step - loss: 0.4748 - accuracy: 0.7606 - val_loss: 0.4725 - val_accuracy: 0.7922\n",
            "Epoch 44/300\n",
            "20/20 [==============================] - 0s 7ms/step - loss: 0.4756 - accuracy: 0.7606 - val_loss: 0.4733 - val_accuracy: 0.7922\n",
            "Epoch 45/300\n",
            "20/20 [==============================] - 0s 7ms/step - loss: 0.4677 - accuracy: 0.7866 - val_loss: 0.4726 - val_accuracy: 0.7987\n",
            "Epoch 46/300\n",
            "20/20 [==============================] - 0s 6ms/step - loss: 0.4499 - accuracy: 0.7964 - val_loss: 0.4688 - val_accuracy: 0.8117\n",
            "Epoch 47/300\n",
            "20/20 [==============================] - 0s 8ms/step - loss: 0.4528 - accuracy: 0.7736 - val_loss: 0.4632 - val_accuracy: 0.8247\n",
            "Epoch 48/300\n",
            "20/20 [==============================] - 0s 9ms/step - loss: 0.4614 - accuracy: 0.7736 - val_loss: 0.4682 - val_accuracy: 0.8052\n",
            "Epoch 49/300\n",
            "20/20 [==============================] - 0s 10ms/step - loss: 0.4690 - accuracy: 0.7785 - val_loss: 0.4697 - val_accuracy: 0.8117\n",
            "Epoch 50/300\n",
            "20/20 [==============================] - 0s 11ms/step - loss: 0.4438 - accuracy: 0.7818 - val_loss: 0.4739 - val_accuracy: 0.8182\n",
            "Epoch 51/300\n",
            "20/20 [==============================] - 0s 10ms/step - loss: 0.4631 - accuracy: 0.7752 - val_loss: 0.4726 - val_accuracy: 0.8247\n",
            "Epoch 52/300\n",
            "20/20 [==============================] - 0s 11ms/step - loss: 0.4533 - accuracy: 0.7638 - val_loss: 0.4749 - val_accuracy: 0.8117\n",
            "Epoch 53/300\n",
            "20/20 [==============================] - 0s 9ms/step - loss: 0.4672 - accuracy: 0.7866 - val_loss: 0.4726 - val_accuracy: 0.8052\n",
            "Epoch 54/300\n",
            "20/20 [==============================] - 0s 11ms/step - loss: 0.4539 - accuracy: 0.7948 - val_loss: 0.4687 - val_accuracy: 0.8117\n",
            "Epoch 55/300\n",
            "20/20 [==============================] - 0s 8ms/step - loss: 0.4570 - accuracy: 0.7801 - val_loss: 0.4689 - val_accuracy: 0.8182\n",
            "Epoch 56/300\n",
            "20/20 [==============================] - 0s 8ms/step - loss: 0.4550 - accuracy: 0.7915 - val_loss: 0.4712 - val_accuracy: 0.8052\n",
            "Epoch 57/300\n",
            "20/20 [==============================] - 0s 8ms/step - loss: 0.4448 - accuracy: 0.7980 - val_loss: 0.4678 - val_accuracy: 0.8117\n",
            "Epoch 58/300\n",
            "20/20 [==============================] - 0s 9ms/step - loss: 0.4689 - accuracy: 0.7655 - val_loss: 0.4690 - val_accuracy: 0.8117\n",
            "Epoch 59/300\n",
            "20/20 [==============================] - 0s 8ms/step - loss: 0.4519 - accuracy: 0.7850 - val_loss: 0.4693 - val_accuracy: 0.8117\n",
            "Epoch 60/300\n",
            "20/20 [==============================] - 0s 10ms/step - loss: 0.4550 - accuracy: 0.7899 - val_loss: 0.4721 - val_accuracy: 0.8052\n",
            "Epoch 61/300\n",
            "20/20 [==============================] - 0s 11ms/step - loss: 0.4453 - accuracy: 0.7883 - val_loss: 0.4733 - val_accuracy: 0.8052\n",
            "Epoch 62/300\n",
            "20/20 [==============================] - 0s 10ms/step - loss: 0.4503 - accuracy: 0.7964 - val_loss: 0.4734 - val_accuracy: 0.8052\n",
            "Epoch 63/300\n",
            "20/20 [==============================] - 0s 9ms/step - loss: 0.4450 - accuracy: 0.7997 - val_loss: 0.4719 - val_accuracy: 0.8117\n",
            "Epoch 64/300\n",
            "20/20 [==============================] - 0s 10ms/step - loss: 0.4450 - accuracy: 0.8046 - val_loss: 0.4715 - val_accuracy: 0.8052\n",
            "Epoch 65/300\n",
            "20/20 [==============================] - 0s 13ms/step - loss: 0.4275 - accuracy: 0.7948 - val_loss: 0.4728 - val_accuracy: 0.7987\n",
            "Epoch 66/300\n",
            "20/20 [==============================] - 0s 10ms/step - loss: 0.4518 - accuracy: 0.7736 - val_loss: 0.4691 - val_accuracy: 0.7987\n",
            "Epoch 67/300\n",
            "20/20 [==============================] - 0s 9ms/step - loss: 0.4378 - accuracy: 0.7818 - val_loss: 0.4719 - val_accuracy: 0.7987\n",
            "Epoch 68/300\n",
            "20/20 [==============================] - 0s 11ms/step - loss: 0.4419 - accuracy: 0.7948 - val_loss: 0.4769 - val_accuracy: 0.7987\n",
            "Epoch 69/300\n",
            "20/20 [==============================] - 0s 10ms/step - loss: 0.4444 - accuracy: 0.7915 - val_loss: 0.4727 - val_accuracy: 0.8052\n",
            "Epoch 70/300\n",
            "20/20 [==============================] - 0s 7ms/step - loss: 0.4483 - accuracy: 0.7785 - val_loss: 0.4742 - val_accuracy: 0.7987\n",
            "Epoch 71/300\n",
            "20/20 [==============================] - 0s 6ms/step - loss: 0.4428 - accuracy: 0.7899 - val_loss: 0.4738 - val_accuracy: 0.7987\n",
            "Epoch 72/300\n",
            "20/20 [==============================] - 0s 7ms/step - loss: 0.4284 - accuracy: 0.7964 - val_loss: 0.4765 - val_accuracy: 0.8052\n",
            "Epoch 73/300\n",
            "20/20 [==============================] - 0s 6ms/step - loss: 0.4561 - accuracy: 0.7997 - val_loss: 0.4739 - val_accuracy: 0.8052\n",
            "Epoch 74/300\n",
            "20/20 [==============================] - 0s 8ms/step - loss: 0.4408 - accuracy: 0.7980 - val_loss: 0.4750 - val_accuracy: 0.7987\n",
            "Epoch 75/300\n",
            "20/20 [==============================] - 0s 7ms/step - loss: 0.4418 - accuracy: 0.7818 - val_loss: 0.4781 - val_accuracy: 0.7987\n",
            "Epoch 76/300\n",
            "20/20 [==============================] - 0s 7ms/step - loss: 0.4511 - accuracy: 0.7932 - val_loss: 0.4756 - val_accuracy: 0.8052\n",
            "Epoch 77/300\n",
            "20/20 [==============================] - 0s 8ms/step - loss: 0.4532 - accuracy: 0.8111 - val_loss: 0.4729 - val_accuracy: 0.8052\n",
            "Epoch 78/300\n",
            "20/20 [==============================] - 0s 6ms/step - loss: 0.4360 - accuracy: 0.7980 - val_loss: 0.4786 - val_accuracy: 0.7987\n",
            "Epoch 79/300\n",
            "20/20 [==============================] - 0s 7ms/step - loss: 0.4518 - accuracy: 0.8029 - val_loss: 0.4819 - val_accuracy: 0.7987\n",
            "Epoch 80/300\n",
            "20/20 [==============================] - 0s 7ms/step - loss: 0.4334 - accuracy: 0.7834 - val_loss: 0.4733 - val_accuracy: 0.8117\n",
            "Epoch 81/300\n",
            "20/20 [==============================] - 0s 7ms/step - loss: 0.4242 - accuracy: 0.7964 - val_loss: 0.4770 - val_accuracy: 0.8182\n",
            "Epoch 82/300\n",
            "20/20 [==============================] - 0s 6ms/step - loss: 0.4374 - accuracy: 0.8078 - val_loss: 0.4722 - val_accuracy: 0.8117\n",
            "Epoch 83/300\n",
            "20/20 [==============================] - 0s 6ms/step - loss: 0.4341 - accuracy: 0.8176 - val_loss: 0.4695 - val_accuracy: 0.8182\n",
            "Epoch 84/300\n",
            "20/20 [==============================] - 0s 7ms/step - loss: 0.4507 - accuracy: 0.8078 - val_loss: 0.4705 - val_accuracy: 0.7987\n",
            "Epoch 85/300\n",
            "20/20 [==============================] - 0s 7ms/step - loss: 0.4364 - accuracy: 0.8046 - val_loss: 0.4678 - val_accuracy: 0.7987\n",
            "Epoch 86/300\n",
            "20/20 [==============================] - 0s 7ms/step - loss: 0.4320 - accuracy: 0.7932 - val_loss: 0.4718 - val_accuracy: 0.8117\n",
            "Epoch 87/300\n",
            "20/20 [==============================] - 0s 6ms/step - loss: 0.4399 - accuracy: 0.7980 - val_loss: 0.4709 - val_accuracy: 0.8052\n",
            "Epoch 88/300\n",
            "20/20 [==============================] - 0s 7ms/step - loss: 0.4400 - accuracy: 0.8013 - val_loss: 0.4708 - val_accuracy: 0.8117\n",
            "Epoch 89/300\n",
            "20/20 [==============================] - 0s 6ms/step - loss: 0.4225 - accuracy: 0.7948 - val_loss: 0.4688 - val_accuracy: 0.8182\n",
            "Epoch 90/300\n",
            "20/20 [==============================] - 0s 8ms/step - loss: 0.4410 - accuracy: 0.7997 - val_loss: 0.4757 - val_accuracy: 0.8117\n",
            "Epoch 91/300\n",
            "20/20 [==============================] - 0s 6ms/step - loss: 0.4346 - accuracy: 0.8111 - val_loss: 0.4745 - val_accuracy: 0.8312\n",
            "Epoch 92/300\n",
            "20/20 [==============================] - 0s 8ms/step - loss: 0.4095 - accuracy: 0.8094 - val_loss: 0.4724 - val_accuracy: 0.8182\n",
            "Epoch 93/300\n",
            "20/20 [==============================] - 0s 5ms/step - loss: 0.4345 - accuracy: 0.8062 - val_loss: 0.4726 - val_accuracy: 0.8117\n",
            "Epoch 94/300\n",
            "20/20 [==============================] - 0s 5ms/step - loss: 0.4497 - accuracy: 0.7883 - val_loss: 0.4687 - val_accuracy: 0.8182\n",
            "Epoch 95/300\n",
            "20/20 [==============================] - 0s 6ms/step - loss: 0.4170 - accuracy: 0.8127 - val_loss: 0.4697 - val_accuracy: 0.8117\n",
            "Epoch 96/300\n",
            "20/20 [==============================] - 0s 6ms/step - loss: 0.4407 - accuracy: 0.8094 - val_loss: 0.4674 - val_accuracy: 0.8247\n",
            "Epoch 97/300\n",
            "20/20 [==============================] - 0s 6ms/step - loss: 0.4479 - accuracy: 0.8029 - val_loss: 0.4620 - val_accuracy: 0.8182\n",
            "Epoch 98/300\n",
            "20/20 [==============================] - 0s 5ms/step - loss: 0.4507 - accuracy: 0.8078 - val_loss: 0.4601 - val_accuracy: 0.8377\n",
            "Epoch 99/300\n",
            "20/20 [==============================] - 0s 6ms/step - loss: 0.4328 - accuracy: 0.7980 - val_loss: 0.4642 - val_accuracy: 0.8312\n",
            "Epoch 100/300\n",
            "20/20 [==============================] - 0s 7ms/step - loss: 0.4315 - accuracy: 0.7948 - val_loss: 0.4671 - val_accuracy: 0.8312\n",
            "Epoch 101/300\n",
            "20/20 [==============================] - 0s 6ms/step - loss: 0.4160 - accuracy: 0.8290 - val_loss: 0.4691 - val_accuracy: 0.8312\n",
            "Epoch 102/300\n",
            "20/20 [==============================] - 0s 6ms/step - loss: 0.4250 - accuracy: 0.8029 - val_loss: 0.4710 - val_accuracy: 0.8247\n",
            "Epoch 103/300\n",
            "20/20 [==============================] - 0s 6ms/step - loss: 0.4425 - accuracy: 0.8013 - val_loss: 0.4661 - val_accuracy: 0.8312\n",
            "Epoch 104/300\n",
            "20/20 [==============================] - 0s 6ms/step - loss: 0.4064 - accuracy: 0.8046 - val_loss: 0.4744 - val_accuracy: 0.8117\n",
            "Epoch 105/300\n",
            "20/20 [==============================] - 0s 8ms/step - loss: 0.4380 - accuracy: 0.7948 - val_loss: 0.4733 - val_accuracy: 0.8052\n",
            "Epoch 106/300\n",
            "20/20 [==============================] - 0s 6ms/step - loss: 0.4336 - accuracy: 0.7899 - val_loss: 0.4735 - val_accuracy: 0.8117\n",
            "Epoch 107/300\n",
            "20/20 [==============================] - 0s 6ms/step - loss: 0.4275 - accuracy: 0.8160 - val_loss: 0.4757 - val_accuracy: 0.7857\n",
            "Epoch 108/300\n",
            "20/20 [==============================] - 0s 7ms/step - loss: 0.4300 - accuracy: 0.8078 - val_loss: 0.4714 - val_accuracy: 0.8182\n",
            "Epoch 109/300\n",
            "20/20 [==============================] - 0s 7ms/step - loss: 0.4301 - accuracy: 0.7948 - val_loss: 0.4720 - val_accuracy: 0.8182\n",
            "Epoch 110/300\n",
            "20/20 [==============================] - 0s 7ms/step - loss: 0.4367 - accuracy: 0.8013 - val_loss: 0.4763 - val_accuracy: 0.8182\n",
            "Epoch 111/300\n",
            "20/20 [==============================] - 0s 6ms/step - loss: 0.4406 - accuracy: 0.8029 - val_loss: 0.4821 - val_accuracy: 0.8117\n",
            "Epoch 112/300\n",
            "20/20 [==============================] - 0s 7ms/step - loss: 0.4308 - accuracy: 0.7915 - val_loss: 0.4794 - val_accuracy: 0.8117\n",
            "Epoch 113/300\n",
            "20/20 [==============================] - 0s 7ms/step - loss: 0.4372 - accuracy: 0.8111 - val_loss: 0.4823 - val_accuracy: 0.8182\n",
            "Epoch 114/300\n",
            "20/20 [==============================] - 0s 6ms/step - loss: 0.4452 - accuracy: 0.8241 - val_loss: 0.4799 - val_accuracy: 0.8182\n",
            "Epoch 115/300\n",
            "20/20 [==============================] - 0s 7ms/step - loss: 0.4261 - accuracy: 0.8111 - val_loss: 0.4816 - val_accuracy: 0.8182\n",
            "Epoch 116/300\n",
            "20/20 [==============================] - 0s 6ms/step - loss: 0.4165 - accuracy: 0.8046 - val_loss: 0.4866 - val_accuracy: 0.7987\n",
            "Epoch 117/300\n",
            "20/20 [==============================] - 0s 6ms/step - loss: 0.4192 - accuracy: 0.8160 - val_loss: 0.4866 - val_accuracy: 0.8052\n",
            "Epoch 118/300\n",
            "20/20 [==============================] - 0s 7ms/step - loss: 0.4298 - accuracy: 0.8192 - val_loss: 0.4846 - val_accuracy: 0.8052\n",
            "Epoch 119/300\n",
            "20/20 [==============================] - 0s 7ms/step - loss: 0.4296 - accuracy: 0.8046 - val_loss: 0.4823 - val_accuracy: 0.8117\n",
            "Epoch 120/300\n",
            "20/20 [==============================] - 0s 6ms/step - loss: 0.4234 - accuracy: 0.8143 - val_loss: 0.4873 - val_accuracy: 0.8117\n",
            "Epoch 121/300\n",
            "20/20 [==============================] - 0s 6ms/step - loss: 0.3963 - accuracy: 0.8062 - val_loss: 0.4863 - val_accuracy: 0.8182\n",
            "Epoch 122/300\n",
            "20/20 [==============================] - 0s 6ms/step - loss: 0.4307 - accuracy: 0.8029 - val_loss: 0.4795 - val_accuracy: 0.8052\n",
            "Epoch 123/300\n",
            "20/20 [==============================] - 0s 7ms/step - loss: 0.4358 - accuracy: 0.8143 - val_loss: 0.4772 - val_accuracy: 0.8182\n",
            "Epoch 124/300\n",
            "20/20 [==============================] - 0s 6ms/step - loss: 0.4116 - accuracy: 0.7980 - val_loss: 0.4779 - val_accuracy: 0.8247\n",
            "Epoch 125/300\n",
            "20/20 [==============================] - 0s 6ms/step - loss: 0.4248 - accuracy: 0.8111 - val_loss: 0.4722 - val_accuracy: 0.8182\n",
            "Epoch 126/300\n",
            "20/20 [==============================] - 0s 6ms/step - loss: 0.4230 - accuracy: 0.8078 - val_loss: 0.4800 - val_accuracy: 0.8117\n",
            "Epoch 127/300\n",
            "20/20 [==============================] - 0s 6ms/step - loss: 0.4163 - accuracy: 0.8094 - val_loss: 0.4791 - val_accuracy: 0.8247\n",
            "Epoch 128/300\n",
            "20/20 [==============================] - 0s 6ms/step - loss: 0.3989 - accuracy: 0.8160 - val_loss: 0.4813 - val_accuracy: 0.8247\n",
            "Epoch 129/300\n",
            "20/20 [==============================] - 0s 6ms/step - loss: 0.4160 - accuracy: 0.8094 - val_loss: 0.4740 - val_accuracy: 0.8312\n",
            "Epoch 130/300\n",
            "20/20 [==============================] - 0s 5ms/step - loss: 0.4328 - accuracy: 0.7915 - val_loss: 0.4666 - val_accuracy: 0.8312\n",
            "Epoch 131/300\n",
            "20/20 [==============================] - 0s 7ms/step - loss: 0.4113 - accuracy: 0.8257 - val_loss: 0.4718 - val_accuracy: 0.8247\n",
            "Epoch 132/300\n",
            "20/20 [==============================] - 0s 5ms/step - loss: 0.4284 - accuracy: 0.8013 - val_loss: 0.4647 - val_accuracy: 0.8377\n",
            "Epoch 133/300\n",
            "20/20 [==============================] - 0s 5ms/step - loss: 0.4110 - accuracy: 0.8208 - val_loss: 0.4637 - val_accuracy: 0.8377\n",
            "Epoch 134/300\n",
            "20/20 [==============================] - 0s 6ms/step - loss: 0.4106 - accuracy: 0.8208 - val_loss: 0.4738 - val_accuracy: 0.8247\n",
            "Epoch 135/300\n",
            "20/20 [==============================] - 0s 6ms/step - loss: 0.4174 - accuracy: 0.8013 - val_loss: 0.4729 - val_accuracy: 0.8117\n",
            "Epoch 136/300\n",
            "20/20 [==============================] - 0s 5ms/step - loss: 0.4032 - accuracy: 0.8274 - val_loss: 0.4753 - val_accuracy: 0.8182\n",
            "Epoch 137/300\n",
            "20/20 [==============================] - 0s 6ms/step - loss: 0.4320 - accuracy: 0.8143 - val_loss: 0.4710 - val_accuracy: 0.8182\n",
            "Epoch 138/300\n",
            "20/20 [==============================] - 0s 6ms/step - loss: 0.4284 - accuracy: 0.8046 - val_loss: 0.4617 - val_accuracy: 0.8377\n",
            "Epoch 139/300\n",
            "20/20 [==============================] - 0s 6ms/step - loss: 0.4316 - accuracy: 0.8176 - val_loss: 0.4627 - val_accuracy: 0.8377\n",
            "Epoch 140/300\n",
            "20/20 [==============================] - 0s 6ms/step - loss: 0.3964 - accuracy: 0.8176 - val_loss: 0.4727 - val_accuracy: 0.8312\n",
            "Epoch 141/300\n",
            "20/20 [==============================] - 0s 6ms/step - loss: 0.4172 - accuracy: 0.8176 - val_loss: 0.4712 - val_accuracy: 0.8442\n",
            "Epoch 142/300\n",
            "20/20 [==============================] - 0s 6ms/step - loss: 0.4393 - accuracy: 0.7980 - val_loss: 0.4722 - val_accuracy: 0.8312\n",
            "Epoch 143/300\n",
            "20/20 [==============================] - 0s 6ms/step - loss: 0.4119 - accuracy: 0.8208 - val_loss: 0.4734 - val_accuracy: 0.8247\n",
            "Epoch 144/300\n",
            "20/20 [==============================] - 0s 9ms/step - loss: 0.4042 - accuracy: 0.8355 - val_loss: 0.4811 - val_accuracy: 0.8182\n",
            "Epoch 145/300\n",
            "20/20 [==============================] - 0s 10ms/step - loss: 0.4278 - accuracy: 0.8111 - val_loss: 0.4708 - val_accuracy: 0.8182\n",
            "Epoch 146/300\n",
            "20/20 [==============================] - 0s 9ms/step - loss: 0.4094 - accuracy: 0.8290 - val_loss: 0.4762 - val_accuracy: 0.8052\n",
            "Epoch 147/300\n",
            "20/20 [==============================] - 0s 8ms/step - loss: 0.4146 - accuracy: 0.7915 - val_loss: 0.4679 - val_accuracy: 0.8247\n",
            "Epoch 148/300\n",
            "20/20 [==============================] - 0s 8ms/step - loss: 0.4047 - accuracy: 0.8208 - val_loss: 0.4685 - val_accuracy: 0.8312\n",
            "Epoch 149/300\n",
            "20/20 [==============================] - 0s 8ms/step - loss: 0.4214 - accuracy: 0.8127 - val_loss: 0.4625 - val_accuracy: 0.8312\n",
            "Epoch 150/300\n",
            "20/20 [==============================] - 0s 7ms/step - loss: 0.4105 - accuracy: 0.8274 - val_loss: 0.4690 - val_accuracy: 0.8182\n",
            "Epoch 151/300\n",
            "20/20 [==============================] - 0s 7ms/step - loss: 0.4114 - accuracy: 0.8111 - val_loss: 0.4707 - val_accuracy: 0.8312\n",
            "Epoch 152/300\n",
            "20/20 [==============================] - 0s 8ms/step - loss: 0.4047 - accuracy: 0.8176 - val_loss: 0.4662 - val_accuracy: 0.8312\n",
            "Epoch 153/300\n",
            "20/20 [==============================] - 0s 7ms/step - loss: 0.4045 - accuracy: 0.8274 - val_loss: 0.4721 - val_accuracy: 0.8312\n",
            "Epoch 154/300\n",
            "20/20 [==============================] - 0s 8ms/step - loss: 0.4156 - accuracy: 0.8208 - val_loss: 0.4653 - val_accuracy: 0.8312\n",
            "Epoch 155/300\n",
            "20/20 [==============================] - 0s 9ms/step - loss: 0.4213 - accuracy: 0.8225 - val_loss: 0.4632 - val_accuracy: 0.8312\n",
            "Epoch 156/300\n",
            "20/20 [==============================] - 0s 9ms/step - loss: 0.3924 - accuracy: 0.8322 - val_loss: 0.4602 - val_accuracy: 0.8506\n",
            "Epoch 157/300\n",
            "20/20 [==============================] - 0s 9ms/step - loss: 0.4016 - accuracy: 0.8225 - val_loss: 0.4659 - val_accuracy: 0.8442\n",
            "Epoch 158/300\n",
            "20/20 [==============================] - 0s 8ms/step - loss: 0.4105 - accuracy: 0.8225 - val_loss: 0.4696 - val_accuracy: 0.8117\n",
            "Epoch 159/300\n",
            "20/20 [==============================] - 0s 8ms/step - loss: 0.4238 - accuracy: 0.8160 - val_loss: 0.4618 - val_accuracy: 0.8377\n",
            "Epoch 160/300\n",
            "20/20 [==============================] - 0s 8ms/step - loss: 0.3995 - accuracy: 0.8160 - val_loss: 0.4642 - val_accuracy: 0.8377\n",
            "Epoch 161/300\n",
            "20/20 [==============================] - 0s 9ms/step - loss: 0.4026 - accuracy: 0.8160 - val_loss: 0.4633 - val_accuracy: 0.8312\n",
            "Epoch 162/300\n",
            "20/20 [==============================] - 0s 8ms/step - loss: 0.4004 - accuracy: 0.8257 - val_loss: 0.4627 - val_accuracy: 0.8377\n",
            "Epoch 163/300\n",
            "20/20 [==============================] - 0s 8ms/step - loss: 0.4089 - accuracy: 0.8127 - val_loss: 0.4623 - val_accuracy: 0.8247\n",
            "Epoch 164/300\n",
            "20/20 [==============================] - 0s 12ms/step - loss: 0.3928 - accuracy: 0.8208 - val_loss: 0.4672 - val_accuracy: 0.8182\n",
            "Epoch 165/300\n",
            "20/20 [==============================] - 0s 8ms/step - loss: 0.4004 - accuracy: 0.8257 - val_loss: 0.4710 - val_accuracy: 0.8247\n",
            "Epoch 166/300\n",
            "20/20 [==============================] - 0s 10ms/step - loss: 0.4158 - accuracy: 0.8225 - val_loss: 0.4713 - val_accuracy: 0.8117\n",
            "Epoch 167/300\n",
            "20/20 [==============================] - 0s 5ms/step - loss: 0.4032 - accuracy: 0.8192 - val_loss: 0.4676 - val_accuracy: 0.8247\n",
            "Epoch 168/300\n",
            "20/20 [==============================] - 0s 5ms/step - loss: 0.3982 - accuracy: 0.8241 - val_loss: 0.4655 - val_accuracy: 0.8182\n",
            "Epoch 169/300\n",
            "20/20 [==============================] - 0s 7ms/step - loss: 0.3897 - accuracy: 0.8225 - val_loss: 0.4673 - val_accuracy: 0.8117\n",
            "Epoch 170/300\n",
            "20/20 [==============================] - 0s 6ms/step - loss: 0.3891 - accuracy: 0.8322 - val_loss: 0.4638 - val_accuracy: 0.8182\n",
            "Epoch 171/300\n",
            "20/20 [==============================] - 0s 7ms/step - loss: 0.3959 - accuracy: 0.8404 - val_loss: 0.4655 - val_accuracy: 0.8247\n",
            "Epoch 172/300\n",
            "20/20 [==============================] - 0s 7ms/step - loss: 0.4010 - accuracy: 0.8274 - val_loss: 0.4646 - val_accuracy: 0.8117\n",
            "Epoch 173/300\n",
            "20/20 [==============================] - 0s 6ms/step - loss: 0.4176 - accuracy: 0.8306 - val_loss: 0.4651 - val_accuracy: 0.8247\n",
            "Epoch 174/300\n",
            "20/20 [==============================] - 0s 6ms/step - loss: 0.4135 - accuracy: 0.8176 - val_loss: 0.4604 - val_accuracy: 0.8182\n",
            "Epoch 175/300\n",
            "20/20 [==============================] - 0s 5ms/step - loss: 0.3874 - accuracy: 0.8453 - val_loss: 0.4595 - val_accuracy: 0.8247\n",
            "Epoch 176/300\n",
            "20/20 [==============================] - 0s 6ms/step - loss: 0.3852 - accuracy: 0.8420 - val_loss: 0.4602 - val_accuracy: 0.8312\n",
            "Epoch 177/300\n",
            "20/20 [==============================] - 0s 6ms/step - loss: 0.3981 - accuracy: 0.8257 - val_loss: 0.4689 - val_accuracy: 0.8182\n",
            "Epoch 178/300\n",
            "20/20 [==============================] - 0s 6ms/step - loss: 0.3836 - accuracy: 0.8371 - val_loss: 0.4680 - val_accuracy: 0.8312\n",
            "Epoch 179/300\n",
            "20/20 [==============================] - 0s 7ms/step - loss: 0.4029 - accuracy: 0.8274 - val_loss: 0.4688 - val_accuracy: 0.8312\n",
            "Epoch 180/300\n",
            "20/20 [==============================] - 0s 6ms/step - loss: 0.3841 - accuracy: 0.8192 - val_loss: 0.4766 - val_accuracy: 0.8247\n",
            "Epoch 181/300\n",
            "20/20 [==============================] - 0s 6ms/step - loss: 0.3899 - accuracy: 0.8322 - val_loss: 0.4657 - val_accuracy: 0.8312\n",
            "Epoch 182/300\n",
            "20/20 [==============================] - 0s 5ms/step - loss: 0.3798 - accuracy: 0.8339 - val_loss: 0.4750 - val_accuracy: 0.8182\n",
            "Epoch 183/300\n",
            "20/20 [==============================] - 0s 6ms/step - loss: 0.4054 - accuracy: 0.8192 - val_loss: 0.4707 - val_accuracy: 0.8247\n",
            "Epoch 184/300\n",
            "20/20 [==============================] - 0s 5ms/step - loss: 0.3962 - accuracy: 0.8274 - val_loss: 0.4661 - val_accuracy: 0.8247\n",
            "Epoch 185/300\n",
            "20/20 [==============================] - 0s 6ms/step - loss: 0.3872 - accuracy: 0.8469 - val_loss: 0.4718 - val_accuracy: 0.8312\n",
            "Epoch 186/300\n",
            "20/20 [==============================] - 0s 9ms/step - loss: 0.3933 - accuracy: 0.8127 - val_loss: 0.4697 - val_accuracy: 0.8377\n",
            "Epoch 187/300\n",
            "20/20 [==============================] - 0s 6ms/step - loss: 0.4032 - accuracy: 0.8143 - val_loss: 0.4783 - val_accuracy: 0.8247\n",
            "Epoch 188/300\n",
            "20/20 [==============================] - 0s 7ms/step - loss: 0.3935 - accuracy: 0.8404 - val_loss: 0.4643 - val_accuracy: 0.8247\n",
            "Epoch 189/300\n",
            "20/20 [==============================] - 0s 6ms/step - loss: 0.3785 - accuracy: 0.8469 - val_loss: 0.4676 - val_accuracy: 0.8182\n",
            "Epoch 190/300\n",
            "20/20 [==============================] - 0s 6ms/step - loss: 0.3861 - accuracy: 0.8160 - val_loss: 0.4669 - val_accuracy: 0.8247\n",
            "Epoch 191/300\n",
            "20/20 [==============================] - 0s 7ms/step - loss: 0.3982 - accuracy: 0.8306 - val_loss: 0.4652 - val_accuracy: 0.8442\n",
            "Epoch 192/300\n",
            "20/20 [==============================] - 0s 6ms/step - loss: 0.4174 - accuracy: 0.8127 - val_loss: 0.4635 - val_accuracy: 0.8377\n",
            "Epoch 193/300\n",
            "20/20 [==============================] - 0s 6ms/step - loss: 0.4088 - accuracy: 0.8290 - val_loss: 0.4639 - val_accuracy: 0.8117\n",
            "Epoch 194/300\n",
            "20/20 [==============================] - 0s 6ms/step - loss: 0.4037 - accuracy: 0.8355 - val_loss: 0.4611 - val_accuracy: 0.8247\n",
            "Epoch 195/300\n",
            "20/20 [==============================] - 0s 7ms/step - loss: 0.3908 - accuracy: 0.8404 - val_loss: 0.4622 - val_accuracy: 0.8312\n",
            "Epoch 196/300\n",
            "20/20 [==============================] - 0s 6ms/step - loss: 0.4072 - accuracy: 0.8111 - val_loss: 0.4642 - val_accuracy: 0.8182\n",
            "Epoch 197/300\n",
            "20/20 [==============================] - 0s 6ms/step - loss: 0.3983 - accuracy: 0.8192 - val_loss: 0.4708 - val_accuracy: 0.8247\n",
            "Epoch 198/300\n",
            "20/20 [==============================] - 0s 6ms/step - loss: 0.4256 - accuracy: 0.8078 - val_loss: 0.4586 - val_accuracy: 0.8442\n",
            "Epoch 199/300\n",
            "20/20 [==============================] - 0s 6ms/step - loss: 0.3983 - accuracy: 0.8404 - val_loss: 0.4631 - val_accuracy: 0.8312\n",
            "Epoch 200/300\n",
            "20/20 [==============================] - 0s 6ms/step - loss: 0.3652 - accuracy: 0.8502 - val_loss: 0.4725 - val_accuracy: 0.8312\n",
            "Epoch 201/300\n",
            "20/20 [==============================] - 0s 6ms/step - loss: 0.4030 - accuracy: 0.8225 - val_loss: 0.4580 - val_accuracy: 0.8442\n",
            "Epoch 202/300\n",
            "20/20 [==============================] - 0s 7ms/step - loss: 0.4077 - accuracy: 0.8339 - val_loss: 0.4687 - val_accuracy: 0.8312\n",
            "Epoch 203/300\n",
            "20/20 [==============================] - 0s 6ms/step - loss: 0.3878 - accuracy: 0.8257 - val_loss: 0.4760 - val_accuracy: 0.8247\n",
            "Epoch 204/300\n",
            "20/20 [==============================] - 0s 6ms/step - loss: 0.4173 - accuracy: 0.8225 - val_loss: 0.4692 - val_accuracy: 0.8182\n",
            "Epoch 205/300\n",
            "20/20 [==============================] - 0s 5ms/step - loss: 0.3769 - accuracy: 0.8388 - val_loss: 0.4651 - val_accuracy: 0.8312\n",
            "Epoch 206/300\n",
            "20/20 [==============================] - 0s 7ms/step - loss: 0.3957 - accuracy: 0.8339 - val_loss: 0.4663 - val_accuracy: 0.8182\n",
            "Epoch 207/300\n",
            "20/20 [==============================] - 0s 5ms/step - loss: 0.4008 - accuracy: 0.8111 - val_loss: 0.4759 - val_accuracy: 0.8117\n",
            "Epoch 208/300\n",
            "20/20 [==============================] - 0s 6ms/step - loss: 0.3956 - accuracy: 0.8371 - val_loss: 0.4739 - val_accuracy: 0.8182\n",
            "Epoch 209/300\n",
            "20/20 [==============================] - 0s 6ms/step - loss: 0.3906 - accuracy: 0.8404 - val_loss: 0.4760 - val_accuracy: 0.8117\n",
            "Epoch 210/300\n",
            "20/20 [==============================] - 0s 6ms/step - loss: 0.4046 - accuracy: 0.8160 - val_loss: 0.4747 - val_accuracy: 0.8182\n",
            "Epoch 211/300\n",
            "20/20 [==============================] - 0s 6ms/step - loss: 0.3829 - accuracy: 0.8339 - val_loss: 0.4692 - val_accuracy: 0.8377\n",
            "Epoch 212/300\n",
            "20/20 [==============================] - 0s 6ms/step - loss: 0.3726 - accuracy: 0.8534 - val_loss: 0.4768 - val_accuracy: 0.8117\n",
            "Epoch 213/300\n",
            "20/20 [==============================] - 0s 5ms/step - loss: 0.3701 - accuracy: 0.8436 - val_loss: 0.4717 - val_accuracy: 0.8312\n",
            "Epoch 214/300\n",
            "20/20 [==============================] - 0s 6ms/step - loss: 0.3665 - accuracy: 0.8388 - val_loss: 0.4729 - val_accuracy: 0.8247\n",
            "Epoch 215/300\n",
            "20/20 [==============================] - 0s 5ms/step - loss: 0.3919 - accuracy: 0.8225 - val_loss: 0.4633 - val_accuracy: 0.8377\n",
            "Epoch 216/300\n",
            "20/20 [==============================] - 0s 6ms/step - loss: 0.3840 - accuracy: 0.8241 - val_loss: 0.4671 - val_accuracy: 0.8377\n",
            "Epoch 217/300\n",
            "20/20 [==============================] - 0s 6ms/step - loss: 0.3741 - accuracy: 0.8453 - val_loss: 0.4789 - val_accuracy: 0.8312\n",
            "Epoch 218/300\n",
            "20/20 [==============================] - 0s 7ms/step - loss: 0.3875 - accuracy: 0.8469 - val_loss: 0.4840 - val_accuracy: 0.8182\n",
            "Epoch 219/300\n",
            "20/20 [==============================] - 0s 7ms/step - loss: 0.3715 - accuracy: 0.8518 - val_loss: 0.4728 - val_accuracy: 0.8312\n",
            "Epoch 220/300\n",
            "20/20 [==============================] - 0s 6ms/step - loss: 0.3932 - accuracy: 0.8192 - val_loss: 0.4710 - val_accuracy: 0.8377\n",
            "Epoch 221/300\n",
            "20/20 [==============================] - 0s 6ms/step - loss: 0.3958 - accuracy: 0.8208 - val_loss: 0.4761 - val_accuracy: 0.8247\n",
            "Epoch 222/300\n",
            "20/20 [==============================] - 0s 7ms/step - loss: 0.3620 - accuracy: 0.8404 - val_loss: 0.4813 - val_accuracy: 0.8312\n",
            "Epoch 223/300\n",
            "20/20 [==============================] - 0s 6ms/step - loss: 0.3813 - accuracy: 0.8388 - val_loss: 0.4773 - val_accuracy: 0.8377\n",
            "Epoch 224/300\n",
            "20/20 [==============================] - 0s 6ms/step - loss: 0.3859 - accuracy: 0.8257 - val_loss: 0.4807 - val_accuracy: 0.8377\n",
            "Epoch 225/300\n",
            "20/20 [==============================] - 0s 6ms/step - loss: 0.3782 - accuracy: 0.8404 - val_loss: 0.4778 - val_accuracy: 0.8312\n",
            "Epoch 226/300\n",
            "20/20 [==============================] - 0s 7ms/step - loss: 0.3674 - accuracy: 0.8518 - val_loss: 0.4837 - val_accuracy: 0.8312\n",
            "Epoch 227/300\n",
            "20/20 [==============================] - 0s 6ms/step - loss: 0.3937 - accuracy: 0.8388 - val_loss: 0.4770 - val_accuracy: 0.8312\n",
            "Epoch 228/300\n",
            "20/20 [==============================] - 0s 6ms/step - loss: 0.3934 - accuracy: 0.8241 - val_loss: 0.4759 - val_accuracy: 0.8312\n",
            "Epoch 229/300\n",
            "20/20 [==============================] - 0s 6ms/step - loss: 0.3974 - accuracy: 0.8306 - val_loss: 0.4676 - val_accuracy: 0.8377\n",
            "Epoch 230/300\n",
            "20/20 [==============================] - 0s 6ms/step - loss: 0.3859 - accuracy: 0.8355 - val_loss: 0.4803 - val_accuracy: 0.8247\n",
            "Epoch 231/300\n",
            "20/20 [==============================] - 0s 7ms/step - loss: 0.3995 - accuracy: 0.8371 - val_loss: 0.4729 - val_accuracy: 0.8117\n",
            "Epoch 232/300\n",
            "20/20 [==============================] - 0s 6ms/step - loss: 0.3908 - accuracy: 0.8306 - val_loss: 0.4775 - val_accuracy: 0.8052\n",
            "Epoch 233/300\n",
            "20/20 [==============================] - 0s 8ms/step - loss: 0.3835 - accuracy: 0.8388 - val_loss: 0.4882 - val_accuracy: 0.7922\n",
            "Epoch 234/300\n",
            "20/20 [==============================] - 0s 7ms/step - loss: 0.3924 - accuracy: 0.8274 - val_loss: 0.4834 - val_accuracy: 0.7922\n",
            "Epoch 235/300\n",
            "20/20 [==============================] - 0s 5ms/step - loss: 0.3753 - accuracy: 0.8355 - val_loss: 0.4906 - val_accuracy: 0.7987\n",
            "Epoch 236/300\n",
            "20/20 [==============================] - 0s 7ms/step - loss: 0.3672 - accuracy: 0.8404 - val_loss: 0.5013 - val_accuracy: 0.8182\n",
            "Epoch 237/300\n",
            "20/20 [==============================] - 0s 6ms/step - loss: 0.3557 - accuracy: 0.8436 - val_loss: 0.4996 - val_accuracy: 0.8182\n",
            "Epoch 238/300\n",
            "20/20 [==============================] - 0s 6ms/step - loss: 0.3623 - accuracy: 0.8469 - val_loss: 0.5045 - val_accuracy: 0.8117\n",
            "Epoch 239/300\n",
            "20/20 [==============================] - 0s 7ms/step - loss: 0.4175 - accuracy: 0.8290 - val_loss: 0.4918 - val_accuracy: 0.8052\n",
            "Epoch 240/300\n",
            "20/20 [==============================] - 0s 6ms/step - loss: 0.3940 - accuracy: 0.8160 - val_loss: 0.4954 - val_accuracy: 0.7922\n",
            "Epoch 241/300\n",
            "20/20 [==============================] - 0s 8ms/step - loss: 0.3583 - accuracy: 0.8453 - val_loss: 0.5122 - val_accuracy: 0.7922\n",
            "Epoch 242/300\n",
            "20/20 [==============================] - 0s 11ms/step - loss: 0.3950 - accuracy: 0.8290 - val_loss: 0.5011 - val_accuracy: 0.8052\n",
            "Epoch 243/300\n",
            "20/20 [==============================] - 0s 10ms/step - loss: 0.3793 - accuracy: 0.8404 - val_loss: 0.5044 - val_accuracy: 0.7792\n",
            "Epoch 244/300\n",
            "20/20 [==============================] - 0s 9ms/step - loss: 0.4056 - accuracy: 0.8176 - val_loss: 0.4847 - val_accuracy: 0.8117\n",
            "Epoch 245/300\n",
            "20/20 [==============================] - 0s 8ms/step - loss: 0.3915 - accuracy: 0.8388 - val_loss: 0.4748 - val_accuracy: 0.8247\n",
            "Epoch 246/300\n",
            "20/20 [==============================] - 0s 10ms/step - loss: 0.3881 - accuracy: 0.8339 - val_loss: 0.4663 - val_accuracy: 0.8312\n",
            "Epoch 247/300\n",
            "20/20 [==============================] - 0s 8ms/step - loss: 0.3822 - accuracy: 0.8339 - val_loss: 0.4918 - val_accuracy: 0.7922\n",
            "Epoch 248/300\n",
            "20/20 [==============================] - 0s 7ms/step - loss: 0.3897 - accuracy: 0.8290 - val_loss: 0.4844 - val_accuracy: 0.8312\n",
            "Epoch 249/300\n",
            "20/20 [==============================] - 0s 8ms/step - loss: 0.3961 - accuracy: 0.8241 - val_loss: 0.4758 - val_accuracy: 0.8247\n",
            "Epoch 250/300\n",
            "20/20 [==============================] - 0s 9ms/step - loss: 0.3642 - accuracy: 0.8453 - val_loss: 0.4815 - val_accuracy: 0.8182\n",
            "Epoch 251/300\n",
            "20/20 [==============================] - 0s 7ms/step - loss: 0.3908 - accuracy: 0.8290 - val_loss: 0.4780 - val_accuracy: 0.8182\n",
            "Epoch 252/300\n",
            "20/20 [==============================] - 0s 8ms/step - loss: 0.3873 - accuracy: 0.8339 - val_loss: 0.4765 - val_accuracy: 0.8117\n",
            "Epoch 253/300\n",
            "20/20 [==============================] - 0s 8ms/step - loss: 0.3837 - accuracy: 0.8339 - val_loss: 0.4775 - val_accuracy: 0.8117\n",
            "Epoch 254/300\n",
            "20/20 [==============================] - 0s 8ms/step - loss: 0.3775 - accuracy: 0.8404 - val_loss: 0.4818 - val_accuracy: 0.7987\n",
            "Epoch 255/300\n",
            "20/20 [==============================] - 0s 8ms/step - loss: 0.3861 - accuracy: 0.8355 - val_loss: 0.4826 - val_accuracy: 0.8182\n",
            "Epoch 256/300\n",
            "20/20 [==============================] - 0s 9ms/step - loss: 0.3707 - accuracy: 0.8453 - val_loss: 0.4734 - val_accuracy: 0.8182\n",
            "Epoch 257/300\n",
            "20/20 [==============================] - 0s 9ms/step - loss: 0.3775 - accuracy: 0.8257 - val_loss: 0.4738 - val_accuracy: 0.8247\n",
            "Epoch 258/300\n",
            "20/20 [==============================] - 0s 9ms/step - loss: 0.3755 - accuracy: 0.8257 - val_loss: 0.4792 - val_accuracy: 0.8182\n",
            "Epoch 259/300\n",
            "20/20 [==============================] - 0s 9ms/step - loss: 0.3882 - accuracy: 0.8388 - val_loss: 0.4853 - val_accuracy: 0.7922\n",
            "Epoch 260/300\n",
            "20/20 [==============================] - 0s 7ms/step - loss: 0.3792 - accuracy: 0.8241 - val_loss: 0.4882 - val_accuracy: 0.8117\n",
            "Epoch 261/300\n",
            "20/20 [==============================] - 0s 8ms/step - loss: 0.3928 - accuracy: 0.8388 - val_loss: 0.4954 - val_accuracy: 0.7857\n",
            "Epoch 262/300\n",
            "20/20 [==============================] - 0s 13ms/step - loss: 0.3598 - accuracy: 0.8453 - val_loss: 0.4984 - val_accuracy: 0.7857\n",
            "Epoch 263/300\n",
            "20/20 [==============================] - 0s 10ms/step - loss: 0.3928 - accuracy: 0.8290 - val_loss: 0.4868 - val_accuracy: 0.8052\n",
            "Epoch 264/300\n",
            "20/20 [==============================] - 0s 11ms/step - loss: 0.3782 - accuracy: 0.8339 - val_loss: 0.4867 - val_accuracy: 0.8117\n",
            "Epoch 265/300\n",
            "20/20 [==============================] - 0s 12ms/step - loss: 0.3785 - accuracy: 0.8436 - val_loss: 0.4863 - val_accuracy: 0.8052\n",
            "Epoch 266/300\n",
            "20/20 [==============================] - 0s 12ms/step - loss: 0.3541 - accuracy: 0.8306 - val_loss: 0.5071 - val_accuracy: 0.7792\n",
            "Epoch 267/300\n",
            "20/20 [==============================] - 0s 9ms/step - loss: 0.3573 - accuracy: 0.8469 - val_loss: 0.5138 - val_accuracy: 0.7792\n",
            "Epoch 268/300\n",
            "20/20 [==============================] - 0s 7ms/step - loss: 0.3784 - accuracy: 0.8339 - val_loss: 0.5083 - val_accuracy: 0.7922\n",
            "Epoch 269/300\n",
            "20/20 [==============================] - 0s 8ms/step - loss: 0.3660 - accuracy: 0.8404 - val_loss: 0.5108 - val_accuracy: 0.7792\n",
            "Epoch 270/300\n",
            "20/20 [==============================] - 0s 7ms/step - loss: 0.3718 - accuracy: 0.8404 - val_loss: 0.5055 - val_accuracy: 0.7792\n",
            "Epoch 271/300\n",
            "20/20 [==============================] - 0s 6ms/step - loss: 0.3677 - accuracy: 0.8453 - val_loss: 0.4971 - val_accuracy: 0.7987\n",
            "Epoch 272/300\n",
            "20/20 [==============================] - 0s 7ms/step - loss: 0.3681 - accuracy: 0.8404 - val_loss: 0.4926 - val_accuracy: 0.7922\n",
            "Epoch 273/300\n",
            "20/20 [==============================] - 0s 7ms/step - loss: 0.3595 - accuracy: 0.8616 - val_loss: 0.4945 - val_accuracy: 0.7922\n",
            "Epoch 274/300\n",
            "20/20 [==============================] - 0s 7ms/step - loss: 0.3645 - accuracy: 0.8469 - val_loss: 0.5032 - val_accuracy: 0.8117\n",
            "Epoch 275/300\n",
            "20/20 [==============================] - 0s 6ms/step - loss: 0.3924 - accuracy: 0.8306 - val_loss: 0.4956 - val_accuracy: 0.7987\n",
            "Epoch 276/300\n",
            "20/20 [==============================] - 0s 8ms/step - loss: 0.3610 - accuracy: 0.8371 - val_loss: 0.4961 - val_accuracy: 0.8182\n",
            "Epoch 277/300\n",
            "20/20 [==============================] - 0s 6ms/step - loss: 0.3561 - accuracy: 0.8485 - val_loss: 0.5138 - val_accuracy: 0.8117\n",
            "Epoch 278/300\n",
            "20/20 [==============================] - 0s 6ms/step - loss: 0.3690 - accuracy: 0.8502 - val_loss: 0.5162 - val_accuracy: 0.7922\n",
            "Epoch 279/300\n",
            "20/20 [==============================] - 0s 7ms/step - loss: 0.3703 - accuracy: 0.8469 - val_loss: 0.5076 - val_accuracy: 0.8052\n",
            "Epoch 280/300\n",
            "20/20 [==============================] - 0s 6ms/step - loss: 0.3804 - accuracy: 0.8436 - val_loss: 0.5097 - val_accuracy: 0.7922\n",
            "Epoch 281/300\n",
            "20/20 [==============================] - 0s 7ms/step - loss: 0.3851 - accuracy: 0.8420 - val_loss: 0.4940 - val_accuracy: 0.8117\n",
            "Epoch 282/300\n",
            "20/20 [==============================] - 0s 6ms/step - loss: 0.3656 - accuracy: 0.8355 - val_loss: 0.5045 - val_accuracy: 0.8052\n",
            "Epoch 283/300\n",
            "20/20 [==============================] - 0s 7ms/step - loss: 0.3733 - accuracy: 0.8453 - val_loss: 0.5049 - val_accuracy: 0.8117\n",
            "Epoch 284/300\n",
            "20/20 [==============================] - 0s 7ms/step - loss: 0.3460 - accuracy: 0.8599 - val_loss: 0.5098 - val_accuracy: 0.8052\n",
            "Epoch 285/300\n",
            "20/20 [==============================] - 0s 7ms/step - loss: 0.3986 - accuracy: 0.8290 - val_loss: 0.5044 - val_accuracy: 0.7922\n",
            "Epoch 286/300\n",
            "20/20 [==============================] - 0s 6ms/step - loss: 0.3874 - accuracy: 0.8339 - val_loss: 0.5086 - val_accuracy: 0.7662\n",
            "Epoch 287/300\n",
            "20/20 [==============================] - 0s 6ms/step - loss: 0.3549 - accuracy: 0.8502 - val_loss: 0.5066 - val_accuracy: 0.7792\n",
            "Epoch 288/300\n",
            "20/20 [==============================] - 0s 6ms/step - loss: 0.3526 - accuracy: 0.8388 - val_loss: 0.5054 - val_accuracy: 0.7857\n",
            "Epoch 289/300\n",
            "20/20 [==============================] - 0s 7ms/step - loss: 0.3844 - accuracy: 0.8355 - val_loss: 0.5081 - val_accuracy: 0.7922\n",
            "Epoch 290/300\n",
            "20/20 [==============================] - 0s 6ms/step - loss: 0.3691 - accuracy: 0.8550 - val_loss: 0.5080 - val_accuracy: 0.7857\n",
            "Epoch 291/300\n",
            "20/20 [==============================] - 0s 8ms/step - loss: 0.3645 - accuracy: 0.8469 - val_loss: 0.5084 - val_accuracy: 0.8052\n",
            "Epoch 292/300\n",
            "20/20 [==============================] - 0s 6ms/step - loss: 0.3779 - accuracy: 0.8485 - val_loss: 0.5038 - val_accuracy: 0.8052\n",
            "Epoch 293/300\n",
            "20/20 [==============================] - 0s 6ms/step - loss: 0.3621 - accuracy: 0.8371 - val_loss: 0.5086 - val_accuracy: 0.7987\n",
            "Epoch 294/300\n",
            "20/20 [==============================] - 0s 7ms/step - loss: 0.3504 - accuracy: 0.8550 - val_loss: 0.5017 - val_accuracy: 0.8117\n",
            "Epoch 295/300\n",
            "20/20 [==============================] - 0s 7ms/step - loss: 0.3826 - accuracy: 0.8339 - val_loss: 0.5103 - val_accuracy: 0.7922\n",
            "Epoch 296/300\n",
            "20/20 [==============================] - 0s 6ms/step - loss: 0.3595 - accuracy: 0.8550 - val_loss: 0.5085 - val_accuracy: 0.7987\n",
            "Epoch 297/300\n",
            "20/20 [==============================] - 0s 6ms/step - loss: 0.3609 - accuracy: 0.8583 - val_loss: 0.5076 - val_accuracy: 0.8052\n",
            "Epoch 298/300\n",
            "20/20 [==============================] - 0s 6ms/step - loss: 0.3804 - accuracy: 0.8388 - val_loss: 0.4980 - val_accuracy: 0.7987\n",
            "Epoch 299/300\n",
            "20/20 [==============================] - 0s 7ms/step - loss: 0.3655 - accuracy: 0.8436 - val_loss: 0.4936 - val_accuracy: 0.8117\n",
            "Epoch 300/300\n",
            "20/20 [==============================] - 0s 7ms/step - loss: 0.3657 - accuracy: 0.8371 - val_loss: 0.4952 - val_accuracy: 0.7987\n"
          ]
        },
        {
          "output_type": "execute_result",
          "data": {
            "text/plain": [
              "<keras.src.callbacks.History at 0x7b65af24fd30>"
            ]
          },
          "metadata": {},
          "execution_count": 71
        }
      ]
    },
    {
      "cell_type": "code",
      "source": [
        "model.summary()"
      ],
      "metadata": {
        "colab": {
          "base_uri": "https://localhost:8080/"
        },
        "id": "LPz0VbiyXrTo",
        "outputId": "fc617b6f-96ac-4c3d-a61c-784d76db8368"
      },
      "execution_count": 72,
      "outputs": [
        {
          "output_type": "stream",
          "name": "stdout",
          "text": [
            "Model: \"sequential\"\n",
            "_________________________________________________________________\n",
            " Layer (type)                Output Shape              Param #   \n",
            "=================================================================\n",
            " dense (Dense)               (None, 344)               3096      \n",
            "                                                                 \n",
            " dropout (Dropout)           (None, 344)               0         \n",
            "                                                                 \n",
            " dense_1 (Dense)             (None, 8)                 2760      \n",
            "                                                                 \n",
            " dropout_1 (Dropout)         (None, 8)                 0         \n",
            "                                                                 \n",
            " dense_2 (Dense)             (None, 8)                 72        \n",
            "                                                                 \n",
            " dropout_2 (Dropout)         (None, 8)                 0         \n",
            "                                                                 \n",
            " dense_3 (Dense)             (None, 8)                 72        \n",
            "                                                                 \n",
            " dropout_3 (Dropout)         (None, 8)                 0         \n",
            "                                                                 \n",
            " dense_4 (Dense)             (None, 8)                 72        \n",
            "                                                                 \n",
            " dropout_4 (Dropout)         (None, 8)                 0         \n",
            "                                                                 \n",
            " dense_5 (Dense)             (None, 8)                 72        \n",
            "                                                                 \n",
            " dropout_5 (Dropout)         (None, 8)                 0         \n",
            "                                                                 \n",
            " dense_6 (Dense)             (None, 1)                 9         \n",
            "                                                                 \n",
            "=================================================================\n",
            "Total params: 6153 (24.04 KB)\n",
            "Trainable params: 6153 (24.04 KB)\n",
            "Non-trainable params: 0 (0.00 Byte)\n",
            "_________________________________________________________________\n"
          ]
        }
      ]
    },
    {
      "cell_type": "code",
      "source": [],
      "metadata": {
        "id": "ExjKVTqIYDkZ"
      },
      "execution_count": null,
      "outputs": []
    }
  ]
}